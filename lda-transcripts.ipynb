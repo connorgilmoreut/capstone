{
 "cells": [
  {
   "cell_type": "markdown",
   "id": "73a686ec",
   "metadata": {},
   "source": [
    "# LDA Topic Model \n",
    "\n",
    "This code is pulled from:\n",
    "* https://www.machinelearningplus.com/nlp/topic-modeling-gensim-python/\n",
    "* https://highdemandskills.com/topic-modeling-lda/"
   ]
  },
  {
   "cell_type": "markdown",
   "id": "f3303c08",
   "metadata": {},
   "source": [
    "## Import Libraries"
   ]
  },
  {
   "cell_type": "code",
   "execution_count": 1,
   "id": "96ba6a84",
   "metadata": {},
   "outputs": [],
   "source": [
    "import pandas as pd"
   ]
  },
  {
   "cell_type": "code",
   "execution_count": 2,
   "id": "33333114",
   "metadata": {},
   "outputs": [
    {
     "name": "stderr",
     "output_type": "stream",
     "text": [
      "[nltk_data] Downloading package stopwords to\n",
      "[nltk_data]     /Users/connorgilmore/nltk_data...\n",
      "[nltk_data]   Package stopwords is already up-to-date!\n"
     ]
    },
    {
     "data": {
      "text/plain": [
       "True"
      ]
     },
     "execution_count": 2,
     "metadata": {},
     "output_type": "execute_result"
    }
   ],
   "source": [
    "import nltk\n",
    "nltk.download('stopwords')"
   ]
  },
  {
   "cell_type": "code",
   "execution_count": 3,
   "id": "91b2a7a6",
   "metadata": {},
   "outputs": [
    {
     "name": "stderr",
     "output_type": "stream",
     "text": [
      "/Users/connorgilmore/opt/anaconda3/lib/python3.7/site-packages/past/builtins/misc.py:4: DeprecationWarning: Using or importing the ABCs from 'collections' instead of from 'collections.abc' is deprecated, and in 3.8 it will stop working\n",
      "  from collections import Mapping\n"
     ]
    }
   ],
   "source": [
    "import re\n",
    "import numpy as np\n",
    "import pandas as pd\n",
    "from pprint import pprint\n",
    "\n",
    "\n",
    "# Gensim\n",
    "import gensim\n",
    "import gensim.corpora as corpora\n",
    "from gensim.utils import simple_preprocess\n",
    "from gensim.models import CoherenceModel\n",
    "from gensim import models\n",
    "\n",
    "# spacy for lemmatization\n",
    "import spacy\n",
    "\n",
    "# Plotting tools\n",
    "import pyLDAvis\n",
    "#import pyLDAvis.gensim  # don't skip this\n",
    "import pyLDAvis.gensim_models as gensimvis\n",
    "import matplotlib.pyplot as plt\n",
    "%matplotlib inline\n",
    "\n",
    "# Enable logging for gensim - optional\n",
    "import logging\n",
    "logging.basicConfig(format='%(asctime)s : %(levelname)s : %(message)s', level=logging.ERROR)\n",
    "\n",
    "import warnings\n",
    "warnings.filterwarnings(\"ignore\",category=DeprecationWarning)"
   ]
  },
  {
   "cell_type": "code",
   "execution_count": 4,
   "id": "f34db8a9",
   "metadata": {},
   "outputs": [],
   "source": [
    "# NLTK Stop words\n",
    "from nltk.corpus import stopwords\n",
    "stop_words = stopwords.words('english')\n",
    "extended_stop_words = ['guys', 'syndicated', 'mentoring', 'syndicate', 'club', 'mentor', 'thing', 'people', 'really',\n",
    "                      'syndication', 'call', 'person', 'stuff']\n",
    "stop_words.extend(extended_stop_words)"
   ]
  },
  {
   "cell_type": "markdown",
   "id": "5deaffcb",
   "metadata": {},
   "source": [
    "## Import Data"
   ]
  },
  {
   "cell_type": "code",
   "execution_count": 5,
   "id": "40e3477f",
   "metadata": {},
   "outputs": [],
   "source": [
    "transcripts_df = pd.read_csv('transcripts_df.csv')"
   ]
  },
  {
   "cell_type": "code",
   "execution_count": 6,
   "id": "91923178",
   "metadata": {},
   "outputs": [
    {
     "data": {
      "text/html": [
       "<div>\n",
       "<style scoped>\n",
       "    .dataframe tbody tr th:only-of-type {\n",
       "        vertical-align: middle;\n",
       "    }\n",
       "\n",
       "    .dataframe tbody tr th {\n",
       "        vertical-align: top;\n",
       "    }\n",
       "\n",
       "    .dataframe thead th {\n",
       "        text-align: right;\n",
       "    }\n",
       "</style>\n",
       "<table border=\"1\" class=\"dataframe\">\n",
       "  <thead>\n",
       "    <tr style=\"text-align: right;\">\n",
       "      <th></th>\n",
       "      <th>Unnamed: 0</th>\n",
       "      <th>file_name</th>\n",
       "      <th>contents</th>\n",
       "    </tr>\n",
       "  </thead>\n",
       "  <tbody>\n",
       "    <tr>\n",
       "      <th>0</th>\n",
       "      <td>0</td>\n",
       "      <td>[UPDATED] PC - February 2021 - Mastermind with...</td>\n",
       "      <td>other hand if he says, You give me 5% of every...</td>\n",
       "    </tr>\n",
       "    <tr>\n",
       "      <th>1</th>\n",
       "      <td>1</td>\n",
       "      <td>April 8, 2021 - Ask the Mentors Q_A Call on De...</td>\n",
       "      <td>JO\\n\\noften, it's 100%, smokescreen, nobody li...</td>\n",
       "    </tr>\n",
       "    <tr>\n",
       "      <th>2</th>\n",
       "      <td>2</td>\n",
       "      <td>April 14, 2021 - Ask the Mentors Q_A Call on C...</td>\n",
       "      <td>JO\\n\\nJO\\n\\nbelieve in that, and then develop ...</td>\n",
       "    </tr>\n",
       "    <tr>\n",
       "      <th>3</th>\n",
       "      <td>3</td>\n",
       "      <td>April 2021 - Ask the Mentors Q_A Call on Busin...</td>\n",
       "      <td>JO\\n\\nyour investor questionnaire. So you can ...</td>\n",
       "    </tr>\n",
       "    <tr>\n",
       "      <th>4</th>\n",
       "      <td>4</td>\n",
       "      <td>April 2021 - Ask the Mentors Q_A Call on Sales...</td>\n",
       "      <td>©) Craig Kamman_ 30:35\\n\\nJO\\n\\nyes. Okay. So ...</td>\n",
       "    </tr>\n",
       "  </tbody>\n",
       "</table>\n",
       "</div>"
      ],
      "text/plain": [
       "   Unnamed: 0                                          file_name  \\\n",
       "0           0  [UPDATED] PC - February 2021 - Mastermind with...   \n",
       "1           1  April 8, 2021 - Ask the Mentors Q_A Call on De...   \n",
       "2           2  April 14, 2021 - Ask the Mentors Q_A Call on C...   \n",
       "3           3  April 2021 - Ask the Mentors Q_A Call on Busin...   \n",
       "4           4  April 2021 - Ask the Mentors Q_A Call on Sales...   \n",
       "\n",
       "                                            contents  \n",
       "0  other hand if he says, You give me 5% of every...  \n",
       "1  JO\\n\\noften, it's 100%, smokescreen, nobody li...  \n",
       "2  JO\\n\\nJO\\n\\nbelieve in that, and then develop ...  \n",
       "3  JO\\n\\nyour investor questionnaire. So you can ...  \n",
       "4  ©) Craig Kamman_ 30:35\\n\\nJO\\n\\nyes. Okay. So ...  "
      ]
     },
     "execution_count": 6,
     "metadata": {},
     "output_type": "execute_result"
    }
   ],
   "source": [
    "transcripts_df.head()"
   ]
  },
  {
   "cell_type": "code",
   "execution_count": 7,
   "id": "f6f0734f",
   "metadata": {},
   "outputs": [],
   "source": [
    "with open('real_estate_terms.txt') as f:\n",
    "    real_estate_raw = [line.rstrip() for line in f]"
   ]
  },
  {
   "cell_type": "markdown",
   "id": "4e93fb42",
   "metadata": {},
   "source": [
    "## Data Prep"
   ]
  },
  {
   "cell_type": "code",
   "execution_count": 8,
   "id": "06c55b15",
   "metadata": {},
   "outputs": [],
   "source": [
    "real_estate_terms = []\n",
    "for word in real_estate_raw:\n",
    "    word = word.lower()\n",
    "    word = word.replace(\"-\", \"_\")\n",
    "    if (' ' in word):\n",
    "        words = word.split()\n",
    "        new_word = '_'.join(words)\n",
    "        real_estate_terms.append(new_word)\n",
    "    else:\n",
    "        real_estate_terms.append(word)"
   ]
  },
  {
   "cell_type": "code",
   "execution_count": 9,
   "id": "f71394c0",
   "metadata": {},
   "outputs": [],
   "source": [
    "data = transcripts_df['contents']\n",
    "def sent_to_words(sentences):\n",
    "    for sentence in sentences:\n",
    "        yield(gensim.utils.simple_preprocess(str(sentence), deacc=True))  # deacc=True removes punctuations\n",
    "\n",
    "data_words = list(sent_to_words(data))"
   ]
  },
  {
   "cell_type": "code",
   "execution_count": 10,
   "id": "caaa17d4",
   "metadata": {},
   "outputs": [],
   "source": [
    "# Build the bigram and trigram models\n",
    "bigram = gensim.models.Phrases(data_words, min_count=5, threshold=100) # higher threshold fewer phrases.\n",
    "trigram = gensim.models.Phrases(bigram[data_words], threshold=100)  \n",
    "\n",
    "# Faster way to get a sentence clubbed as a trigram/bigram\n",
    "bigram_mod = gensim.models.phrases.Phraser(bigram)\n",
    "trigram_mod = gensim.models.phrases.Phraser(trigram)"
   ]
  },
  {
   "cell_type": "code",
   "execution_count": 11,
   "id": "e58b6adc",
   "metadata": {},
   "outputs": [],
   "source": [
    "def remove_stopwords(texts):\n",
    "    return [[word for word in simple_preprocess(str(doc)) if word not in stop_words] for doc in texts]\n",
    "\n",
    "def remove_extra_stopwords(texts):\n",
    "    new_outer_list = []\n",
    "    for l in texts:\n",
    "        inner_list = []\n",
    "        for word in l:\n",
    "            if (word not in extended_stop_words):\n",
    "                inner_list.append(word)\n",
    "        new_outer_list.append(inner_list)\n",
    "    return new_outer_list \n",
    "\n",
    "def keep_real_estate_terms(texts):\n",
    "    new_outer_list = []\n",
    "    for l in texts:\n",
    "        inner_list = []\n",
    "        for word in l:\n",
    "            if (word in real_estate_terms):\n",
    "                inner_list.append(word)\n",
    "        new_outer_list.append(inner_list)\n",
    "    return new_outer_list \n",
    "        \n",
    "def make_bigrams(texts):\n",
    "    return [bigram_mod[doc] for doc in texts]\n",
    "\n",
    "def make_trigrams(texts):\n",
    "    return [trigram_mod[bigram_mod[doc]] for doc in texts]\n",
    "\n",
    "def lemmatization(texts, allowed_postags=['NOUN']):\n",
    "    \"\"\"https://spacy.io/api/annotation\"\"\"\n",
    "    texts_out = []\n",
    "    for sent in texts:\n",
    "        doc = nlp(\" \".join(sent)) \n",
    "        texts_out.append([token.lemma_ for token in doc if token.pos_ in allowed_postags])\n",
    "    return texts_out"
   ]
  },
  {
   "cell_type": "code",
   "execution_count": 12,
   "id": "8c1680fa",
   "metadata": {},
   "outputs": [],
   "source": [
    "# Remove Stop Words\n",
    "data_words_nostops = remove_stopwords(data_words)\n",
    "data_words_nostops = remove_extra_stopwords(data_words_nostops)\n",
    "#data_words_nostops = keep_real_estate_terms(data_words_nostops)\n",
    "\n",
    "# Form Bigrams\n",
    "data_words_bigrams = make_bigrams(data_words_nostops)\n",
    "\n",
    "# Initialize spacy 'en' model, keeping only tagger component (for efficiency)\n",
    "# python3 -m spacy download en\n",
    "#nlp = spacy.load('en', disable=['parser', 'ner'])\n",
    "nlp = spacy.load(\"en_core_web_sm\", disable=['parser', 'ner'])\n",
    "\n",
    "# Do lemmatization keeping only noun, adj, vb, adv\n",
    "data_lemmatized = lemmatization(data_words_bigrams, allowed_postags=['NOUN'])"
   ]
  },
  {
   "cell_type": "markdown",
   "id": "d674a787",
   "metadata": {},
   "source": [
    "## LDA"
   ]
  },
  {
   "cell_type": "code",
   "execution_count": 13,
   "id": "a11f726e",
   "metadata": {},
   "outputs": [],
   "source": [
    "# Create Dictionary\n",
    "id2word = corpora.Dictionary(data_lemmatized)\n",
    "\n",
    "# Create Corpus\n",
    "texts = data_lemmatized\n",
    "\n",
    "# Term Document Frequency\n",
    "corpus = [id2word.doc2bow(text) for text in texts]"
   ]
  },
  {
   "cell_type": "code",
   "execution_count": 14,
   "id": "89e2e703",
   "metadata": {},
   "outputs": [],
   "source": [
    "TFIDF = models.TfidfModel(corpus) # Fit TF-IDF model\n",
    "trans_TFIDF = TFIDF[corpus]"
   ]
  },
  {
   "cell_type": "code",
   "execution_count": 24,
   "id": "bef3325f",
   "metadata": {},
   "outputs": [],
   "source": [
    "def compute_coherence_values(dictionary, corpus, texts, limit, start=2, step=3):\n",
    "    \"\"\"\n",
    "    Compute c_v coherence for various number of topics\n",
    "\n",
    "    Parameters:\n",
    "    ----------\n",
    "    dictionary : Gensim dictionary\n",
    "    corpus : Gensim corpus\n",
    "    texts : List of input texts\n",
    "    limit : Max num of topics\n",
    "\n",
    "    Returns:\n",
    "    -------\n",
    "    model_list : List of LDA topic models\n",
    "    coherence_values : Coherence values corresponding to the LDA model with respective number of topics\n",
    "    \"\"\"\n",
    "    coherence_values = []\n",
    "    model_list = []\n",
    "    i = start \n",
    "    for num_topics in range(start, limit, step):\n",
    "        #model = gensim.models.wrappers.LdaMallet(mallet_path, corpus=corpus, num_topics=num_topics, id2word=id2word)\n",
    "        model = lda_model = gensim.models.ldamodel.LdaModel(corpus=corpus, id2word=id2word, num_topics=num_topics)\n",
    "        model_list.append(model)\n",
    "        coherencemodel = CoherenceModel(model=model, texts=texts, dictionary=dictionary, coherence='c_v')\n",
    "        coherence_values.append(coherencemodel.get_coherence())\n",
    "        print('Model ', i , ' Completed')\n",
    "        i += 1\n",
    "\n",
    "    return model_list, coherence_values"
   ]
  },
  {
   "cell_type": "code",
   "execution_count": null,
   "id": "659b3841",
   "metadata": {},
   "outputs": [],
   "source": [
    "model_list, coherence_values = compute_coherence_values(dictionary=id2word, corpus=trans_TFIDF, texts=data_lemmatized, \n",
    "                                                        start=5, limit=20, step=1)"
   ]
  },
  {
   "cell_type": "markdown",
   "id": "4b035592",
   "metadata": {},
   "source": [
    "## Visualize Performance Metrics"
   ]
  },
  {
   "cell_type": "code",
   "execution_count": 21,
   "id": "f218b18c",
   "metadata": {},
   "outputs": [
    {
     "data": {
      "image/png": "[encoded data removed]",
      "text/plain": [
       "<Figure size 432x288 with 1 Axes>"
      ]
     },
     "metadata": {
      "needs_background": "light"
     },
     "output_type": "display_data"
    }
   ],
   "source": [
    "limit=20; start=5; step=1;\n",
    "x = range(start, limit, step)\n",
    "plt.plot(x, coherence_values)\n",
    "plt.xlabel(\"Num Topics\")\n",
    "plt.ylabel(\"Coherence score\")\n",
    "plt.legend((\"coherence_values\"), loc='best')\n",
    "plt.show()"
   ]
  },
  {
   "cell_type": "code",
   "execution_count": 22,
   "id": "3743f8b8",
   "metadata": {},
   "outputs": [
    {
     "name": "stdout",
     "output_type": "stream",
     "text": [
      "Num Topics = 5  has Coherence Value of 0.3054\n",
      "Num Topics = 6  has Coherence Value of 0.3601\n",
      "Num Topics = 7  has Coherence Value of 0.2966\n",
      "Num Topics = 8  has Coherence Value of 0.3486\n",
      "Num Topics = 9  has Coherence Value of 0.3394\n",
      "Num Topics = 10  has Coherence Value of 0.3646\n",
      "Num Topics = 11  has Coherence Value of 0.3692\n",
      "Num Topics = 12  has Coherence Value of 0.3696\n",
      "Num Topics = 13  has Coherence Value of 0.3841\n",
      "Num Topics = 14  has Coherence Value of 0.3893\n",
      "Num Topics = 15  has Coherence Value of 0.3653\n",
      "Num Topics = 16  has Coherence Value of 0.3727\n",
      "Num Topics = 17  has Coherence Value of 0.3757\n",
      "Num Topics = 18  has Coherence Value of 0.3831\n",
      "Num Topics = 19  has Coherence Value of 0.3531\n"
     ]
    }
   ],
   "source": [
    "for m, cv in zip(x, coherence_values):\n",
    "    print(\"Num Topics =\", m, \" has Coherence Value of\", round(cv, 4))"
   ]
  },
  {
   "cell_type": "markdown",
   "id": "fc4329c4",
   "metadata": {},
   "source": [
    "Optimal Model"
   ]
  },
  {
   "cell_type": "code",
   "execution_count": 23,
   "id": "4bed6330",
   "metadata": {},
   "outputs": [
    {
     "name": "stdout",
     "output_type": "stream",
     "text": [
      "[(0,\n",
      "  '0.001*\"contingency\" + 0.001*\"tariff\" + 0.001*\"bond\" + 0.001*\"sub\" + '\n",
      "  '0.001*\"imbalance\" + 0.001*\"lease\" + 0.001*\"tenant\" + 0.001*\"inspection\" + '\n",
      "  '0.001*\"team\" + 0.001*\"exit\" + 0.001*\"fund\" + 0.001*\"contract\" + '\n",
      "  '0.001*\"utility\" + 0.001*\"yield\" + 0.001*\"coverage_counsel\" + '\n",
      "  '0.001*\"transaction\" + 0.001*\"chinese_good\" + 0.001*\"seller\" + '\n",
      "  '0.001*\"redundancy\" + 0.001*\"debt\" + 0.001*\"partner\" + 0.001*\"exposure\" + '\n",
      "  '0.001*\"stacy\" + 0.001*\"newsletter\" + 0.001*\"return\" + 0.001*\"entitlement\" + '\n",
      "  '0.001*\"joint_venture\" + 0.001*\"shotgun\" + 0.001*\"marketing\" + '\n",
      "  '0.000*\"compliance\"'),\n",
      " (1,\n",
      "  '0.001*\"biggest_mistake\" + 0.001*\"golf_course\" + 0.001*\"private_placement\" + '\n",
      "  '0.001*\"ppm\" + 0.001*\"stress\" + 0.001*\"tank\" + 0.001*\"exemption\" + '\n",
      "  '0.001*\"organization\" + 0.001*\"inflation\" + 0.001*\"wage\" + 0.001*\"land\" + '\n",
      "  '0.001*\"hotel\" + 0.001*\"entrepreneur\" + 0.001*\"golf\" + 0.001*\"article\" + '\n",
      "  '0.001*\"cryptocurrency\" + 0.001*\"lender\" + 0.001*\"bank\" + '\n",
      "  '0.000*\"solicitation\" + 0.000*\"phase\" + 0.000*\"restriction\" + '\n",
      "  '0.000*\"variation\" + 0.000*\"breathing\" + 0.000*\"generality\" + 0.000*\"supply\" '\n",
      "  '+ 0.000*\"member\" + 0.000*\"human_nature\" + 0.000*\"class\" + 0.000*\"loan\" + '\n",
      "  '0.000*\"ambassador\"'),\n",
      " (2,\n",
      "  '0.001*\"hotel\" + 0.001*\"architect\" + 0.001*\"stacy\" + 0.001*\"thesis\" + '\n",
      "  '0.001*\"lender\" + 0.001*\"motive\" + 0.001*\"unit\" + 0.001*\"construction\" + '\n",
      "  '0.001*\"sop\" + 0.001*\"title\" + 0.001*\"tax\" + 0.001*\"drive\" + '\n",
      "  '0.001*\"christine\" + 0.001*\"marketing\" + 0.001*\"team\" + 0.001*\"currency\" + '\n",
      "  '0.001*\"cpa\" + 0.001*\"newsletter\" + 0.001*\"occupancy\" + 0.001*\"suite\" + '\n",
      "  '0.001*\"lien\" + 0.001*\"land\" + 0.001*\"objection\" + 0.001*\"license\" + '\n",
      "  '0.001*\"return\" + 0.001*\"bond\" + 0.001*\"process\" + 0.001*\"loan\" + '\n",
      "  '0.001*\"investment_thesis\" + 0.001*\"concession\"'),\n",
      " (3,\n",
      "  '0.001*\"contamination\" + 0.001*\"repo_market\" + 0.001*\"student\" + '\n",
      "  '0.001*\"influencer\" + 0.001*\"blind_fund\" + 0.001*\"timeline\" + '\n",
      "  '0.001*\"penalty\" + 0.001*\"bond\" + 0.001*\"database\" + 0.001*\"influence\" + '\n",
      "  '0.001*\"facility\" + 0.001*\"bank\" + 0.001*\"record\" + 0.001*\"sewer\" + '\n",
      "  '0.001*\"inspection\" + 0.001*\"exemption\" + 0.001*\"deficiency\" + 0.001*\"sub\" + '\n",
      "  '0.001*\"employee\" + 0.001*\"gold\" + 0.001*\"marketing\" + 0.001*\"partner\" + '\n",
      "  '0.001*\"headline\" + 0.001*\"manager\" + 0.001*\"tenant\" + 0.001*\"credit\" + '\n",
      "  '0.001*\"insurance\" + 0.001*\"agreement\" + 0.000*\"network\" + 0.000*\"computer\"'),\n",
      " (4,\n",
      "  '0.001*\"tourist\" + 0.001*\"subsidiary\" + 0.001*\"parent\" + '\n",
      "  '0.001*\"trump_organization\" + 0.001*\"mastermind_successful\" + '\n",
      "  '0.001*\"organization\" + 0.001*\"dictatorship\" + 0.001*\"spec\" + '\n",
      "  '0.001*\"recourse\" + 0.001*\"contractor\" + 0.001*\"partner\" + 0.001*\"charity\" + '\n",
      "  '0.001*\"personnel\" + 0.001*\"mastermind\" + 0.000*\"sponsor\" + 0.000*\"cause\" + '\n",
      "  '0.000*\"task\" + 0.000*\"gatekeeper\" + 0.000*\"bidder\" + 0.000*\"partnership\" + '\n",
      "  '0.000*\"fountain\" + 0.000*\"attraction\" + 0.000*\"vacation\" + '\n",
      "  '0.000*\"landowner\" + 0.000*\"completion\" + 0.000*\"conservation\" + '\n",
      "  '0.000*\"visitor\" + 0.000*\"easement\" + 0.000*\"contract\" + '\n",
      "  '0.000*\"philanthropy\"'),\n",
      " (5,\n",
      "  '0.001*\"ingo\" + 0.001*\"seller\" + 0.001*\"rent\" + 0.001*\"tenant\" + '\n",
      "  '0.001*\"lease\" + 0.001*\"disclaimer\" + 0.001*\"yield\" + 0.001*\"payment\" + '\n",
      "  '0.001*\"broker\" + 0.001*\"loan\" + 0.001*\"heritage\" + 0.001*\"precious_metal\" + '\n",
      "  '0.001*\"house\" + 0.001*\"contract\" + 0.001*\"agreement\" + 0.001*\"title\" + '\n",
      "  '0.001*\"lifestyle\" + 0.001*\"employee\" + 0.001*\"datum\" + 0.001*\"factory\" + '\n",
      "  '0.001*\"lender\" + 0.001*\"acre\" + 0.001*\"slave\" + 0.001*\"ratio\" + '\n",
      "  '0.001*\"jurisdiction\" + 0.001*\"overrun\" + 0.001*\"team\" + 0.001*\"insurance\" + '\n",
      "  '0.001*\"attorney\" + 0.001*\"employment\"'),\n",
      " (6,\n",
      "  '0.001*\"unit\" + 0.001*\"entity\" + 0.001*\"appraisal\" + 0.001*\"stacy\" + '\n",
      "  '0.001*\"webinar\" + 0.001*\"technique\" + 0.001*\"video\" + 0.001*\"goal\" + '\n",
      "  '0.001*\"privacy\" + 0.001*\"politician\" + 0.001*\"impression\" + 0.001*\"trust\" + '\n",
      "  '0.001*\"tax\" + 0.001*\"task\" + 0.001*\"procedure\" + 0.001*\"blueprint\" + '\n",
      "  '0.001*\"disclaimer\" + 0.001*\"cox\" + 0.001*\"step\" + 0.001*\"ticket\" + '\n",
      "  '0.001*\"restriction\" + 0.001*\"organization\" + 0.001*\"permission\" + '\n",
      "  '0.001*\"record\" + 0.001*\"avatar\" + 0.001*\"session\" + 0.001*\"discovery\" + '\n",
      "  '0.001*\"conflict\" + 0.001*\"setback\" + 0.000*\"storey\"'),\n",
      " (7,\n",
      "  '0.001*\"simulator\" + 0.001*\"golf_course\" + 0.001*\"tax\" + 0.001*\"bond\" + '\n",
      "  '0.001*\"loss\" + 0.001*\"prepayment\" + 0.001*\"lender\" + 0.001*\"bridge\" + '\n",
      "  '0.001*\"initiation\" + 0.001*\"inflation\" + 0.001*\"depreciation\" + '\n",
      "  '0.001*\"liquidity\" + 0.001*\"soil\" + 0.001*\"loan\" + 0.001*\"contamination\" + '\n",
      "  '0.001*\"self_employment\" + 0.000*\"mike_pine\" + 0.000*\"facility\" + '\n",
      "  '0.000*\"guideline\" + 0.000*\"yield\" + 0.000*\"election\" + 0.000*\"recapture\" + '\n",
      "  '0.000*\"currency\" + 0.000*\"rate\" + 0.000*\"penalty\" + 0.000*\"flux\" + '\n",
      "  '0.000*\"clubhouse\" + 0.000*\"credit\" + 0.000*\"financing\" + 0.000*\"dice\"'),\n",
      " (8,\n",
      "  '0.001*\"franchise\" + 0.001*\"election\" + 0.001*\"stacy\" + 0.001*\"vote\" + '\n",
      "  '0.001*\"password\" + 0.001*\"salesforce\" + 0.001*\"investment_thesis\" + '\n",
      "  '0.001*\"voter\" + 0.001*\"storage\" + 0.001*\"operation\" + 0.001*\"baskal_korkis\" '\n",
      "  '+ 0.001*\"stock\" + 0.001*\"charity\" + 0.001*\"summit\" + 0.001*\"biden\" + '\n",
      "  '0.001*\"neighborhood\" + 0.000*\"yield\" + 0.000*\"content\" + 0.000*\"lease\" + '\n",
      "  '0.000*\"unit\" + 0.000*\"stimulus\" + 0.000*\"country\" + 0.000*\"appraisal\" + '\n",
      "  '0.000*\"peace\" + 0.000*\"coordinator\" + 0.000*\"component\" + 0.000*\"fund\" + '\n",
      "  '0.000*\"accounting\" + 0.000*\"orphanage\" + 0.000*\"marketing\"'),\n",
      " (9,\n",
      "  '0.001*\"bio\" + 0.001*\"bus\" + 0.001*\"substantive_relationship\" + '\n",
      "  '0.001*\"builder\" + 0.001*\"bond\" + 0.001*\"advertise\" + 0.001*\"phase\" + '\n",
      "  '0.001*\"disclaimer\" + 0.001*\"exemption\" + 0.001*\"audited_financial\" + '\n",
      "  '0.001*\"acre\" + 0.001*\"land\" + 0.001*\"advertising\" + 0.001*\"integration\" + '\n",
      "  '0.001*\"lumber\" + 0.001*\"revenue\" + 0.001*\"audit\" + 0.001*\"breath\" + '\n",
      "  '0.001*\"supply\" + 0.001*\"lender\" + 0.001*\"pre_existing\" + 0.001*\"summer\" + '\n",
      "  '0.000*\"financial\" + 0.000*\"partnership\" + 0.000*\"ground_lease\" + '\n",
      "  '0.000*\"assembly\" + 0.000*\"yield\" + 0.000*\"blast\" + 0.000*\"list\" + '\n",
      "  '0.000*\"fairground\"'),\n",
      " (10,\n",
      "  '0.001*\"brother\" + 0.001*\"tariff\" + 0.001*\"family\" + 0.001*\"parent\" + '\n",
      "  '0.001*\"tenant\" + 0.001*\"culture\" + 0.001*\"honey\" + 0.000*\"lease\" + '\n",
      "  '0.000*\"flag\" + 0.000*\"tool\" + 0.000*\"philosophy\" + 0.000*\"rent\" + '\n",
      "  '0.000*\"talent\" + 0.000*\"convention\" + 0.000*\"participant\" + '\n",
      "  '0.000*\"dollar_middleman\" + 0.000*\"whiteboard\" + 0.000*\"team\" + '\n",
      "  '0.000*\"storage\" + 0.000*\"documentary\" + 0.000*\"sweet_spot\" + 0.000*\"stacy\" '\n",
      "  '+ 0.000*\"stacey\" + 0.000*\"seller\" + 0.000*\"trade_negotiation\" + '\n",
      "  '0.000*\"house\" + 0.000*\"proposition\" + 0.000*\"phone\" + 0.000*\"promoter\" + '\n",
      "  '0.000*\"page\"'),\n",
      " (11,\n",
      "  '0.001*\"restaurant\" + 0.001*\"lease\" + 0.001*\"tax\" + 0.001*\"exemption\" + '\n",
      "  '0.001*\"bio\" + 0.001*\"bank\" + 0.001*\"lane\" + 0.001*\"retire\" + 0.001*\"office\" '\n",
      "  '+ 0.001*\"lender\" + 0.001*\"bookkeeper\" + 0.001*\"partnership\" + 0.001*\"space\" '\n",
      "  '+ 0.001*\"block\" + 0.001*\"loan\" + 0.001*\"pre_existing\" + 0.001*\"account\" + '\n",
      "  '0.001*\"church\" + 0.001*\"city\" + 0.001*\"developer\" + 0.001*\"farm\" + '\n",
      "  '0.001*\"option\" + 0.001*\"bid\" + 0.001*\"food\" + 0.001*\"cpa\" + '\n",
      "  '0.001*\"typewriter\" + 0.001*\"lawsuit\" + 0.001*\"securities_laws\" + '\n",
      "  '0.001*\"construction\" + 0.001*\"lawyer\"'),\n",
      " (12,\n",
      "  '0.001*\"entity\" + 0.001*\"beverage\" + 0.001*\"silver\" + 0.001*\"lien\" + '\n",
      "  '0.001*\"inflation\" + 0.001*\"wholesaler\" + 0.001*\"seller\" + 0.001*\"supply\" + '\n",
      "  '0.001*\"store\" + 0.001*\"ppm\" + 0.001*\"merchandise\" + 0.001*\"depreciation\" + '\n",
      "  '0.001*\"bitcoin\" + 0.001*\"lawsuit\" + 0.001*\"marketing\" + 0.001*\"deposition\" '\n",
      "  '+ 0.001*\"pre_existing\" + 0.001*\"agent\" + 0.001*\"privacy\" + 0.001*\"attendee\" '\n",
      "  '+ 0.001*\"trust\" + 0.001*\"warehouse\" + 0.001*\"lumber\" + 0.001*\"manager\" + '\n",
      "  '0.001*\"website\" + 0.001*\"tenant\" + 0.001*\"retailer\" + 0.001*\"phone\" + '\n",
      "  '0.000*\"deposit\" + 0.000*\"title\"'),\n",
      " (13,\n",
      "  '0.001*\"tax\" + 0.001*\"lender\" + 0.001*\"loan\" + 0.001*\"bank\" + 0.001*\"bond\" + '\n",
      "  '0.001*\"borrower\" + 0.001*\"team\" + 0.001*\"strategist\" + 0.001*\"depreciation\" '\n",
      "  '+ 0.001*\"virus\" + 0.001*\"broker\" + 0.001*\"thesis\" + 0.001*\"deduction\" + '\n",
      "  '0.001*\"gold\" + 0.001*\"entity\" + 0.001*\"contingency\" + '\n",
      "  '0.001*\"bonus_depreciation\" + 0.001*\"stacy\" + 0.001*\"vision\" + 0.001*\"lease\" '\n",
      "  '+ 0.001*\"yield\" + 0.001*\"density\" + 0.001*\"credit\" + 0.001*\"system\" + '\n",
      "  '0.001*\"cost_segregation\" + 0.001*\"blueprint\" + 0.001*\"cpa\" + '\n",
      "  '0.001*\"expense\" + 0.001*\"settlement\" + 0.001*\"jurisdiction\"')]\n"
     ]
    }
   ],
   "source": [
    "optimal_model = model_list[9]\n",
    "model_topics = optimal_model.show_topics(formatted=False)\n",
    "pprint(optimal_model.print_topics(num_words=30))"
   ]
  },
  {
   "cell_type": "code",
   "execution_count": null,
   "id": "979d972f",
   "metadata": {},
   "outputs": [],
   "source": []
  }
 ],
 "metadata": {
  "kernelspec": {
   "display_name": "Python 3",
   "language": "python",
   "name": "python3"
  },
  "language_info": {
   "codemirror_mode": {
    "name": "ipython",
    "version": 3
   },
   "file_extension": ".py",
   "mimetype": "text/x-python",
   "name": "python",
   "nbconvert_exporter": "python",
   "pygments_lexer": "ipython3",
   "version": "3.7.4"
  }
 },
 "nbformat": 4,
 "nbformat_minor": 5
}
