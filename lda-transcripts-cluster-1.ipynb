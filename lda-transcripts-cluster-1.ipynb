{
 "cells": [
  {
   "cell_type": "markdown",
   "id": "1712800c",
   "metadata": {},
   "source": [
    "# LDA Topic Model \n",
    "\n",
    "This code is pulled from:\n",
    "* https://www.machinelearningplus.com/nlp/topic-modeling-gensim-python/\n",
    "* https://highdemandskills.com/topic-modeling-lda/"
   ]
  },
  {
   "cell_type": "markdown",
   "id": "490fd363",
   "metadata": {},
   "source": [
    "## Import Libraries"
   ]
  },
  {
   "cell_type": "code",
   "execution_count": 1,
   "id": "9a27b391",
   "metadata": {},
   "outputs": [],
   "source": [
    "import pandas as pd"
   ]
  },
  {
   "cell_type": "code",
   "execution_count": 2,
   "id": "2eeb70c9",
   "metadata": {},
   "outputs": [
    {
     "name": "stderr",
     "output_type": "stream",
     "text": [
      "[nltk_data] Downloading package stopwords to\n",
      "[nltk_data]     /Users/connorgilmore/nltk_data...\n",
      "[nltk_data]   Package stopwords is already up-to-date!\n"
     ]
    },
    {
     "data": {
      "text/plain": [
       "True"
      ]
     },
     "execution_count": 2,
     "metadata": {},
     "output_type": "execute_result"
    }
   ],
   "source": [
    "import nltk\n",
    "nltk.download('stopwords')"
   ]
  },
  {
   "cell_type": "code",
   "execution_count": 3,
   "id": "f3b0b772",
   "metadata": {},
   "outputs": [
    {
     "name": "stderr",
     "output_type": "stream",
     "text": [
      "/Users/connorgilmore/opt/anaconda3/lib/python3.7/site-packages/past/builtins/misc.py:4: DeprecationWarning: Using or importing the ABCs from 'collections' instead of from 'collections.abc' is deprecated, and in 3.8 it will stop working\n",
      "  from collections import Mapping\n"
     ]
    }
   ],
   "source": [
    "import re\n",
    "import numpy as np\n",
    "import pandas as pd\n",
    "from pprint import pprint\n",
    "\n",
    "\n",
    "# Gensim\n",
    "import gensim\n",
    "import gensim.corpora as corpora\n",
    "from gensim.utils import simple_preprocess\n",
    "from gensim.models import CoherenceModel\n",
    "from gensim import models\n",
    "\n",
    "# spacy for lemmatization\n",
    "import spacy\n",
    "\n",
    "# Plotting tools\n",
    "import pyLDAvis\n",
    "#import pyLDAvis.gensim  # don't skip this\n",
    "import pyLDAvis.gensim_models as gensimvis\n",
    "import matplotlib.pyplot as plt\n",
    "%matplotlib inline\n",
    "\n",
    "# Enable logging for gensim - optional\n",
    "import logging\n",
    "logging.basicConfig(format='%(asctime)s : %(levelname)s : %(message)s', level=logging.ERROR)\n",
    "\n",
    "import warnings\n",
    "warnings.filterwarnings(\"ignore\",category=DeprecationWarning)"
   ]
  },
  {
   "cell_type": "code",
   "execution_count": 4,
   "id": "23e26ac8",
   "metadata": {},
   "outputs": [],
   "source": [
    "# NLTK Stop words\n",
    "from nltk.corpus import stopwords\n",
    "stop_words = stopwords.words('english')\n",
    "extended_stop_words = ['guys', 'syndicated', 'mentoring', 'syndicate', 'club', 'mentor', 'thing', 'people', 'really',\n",
    "                      'syndication', 'call', 'person', 'stuff']\n",
    "stop_words.extend(extended_stop_words)"
   ]
  },
  {
   "cell_type": "markdown",
   "id": "4339d751",
   "metadata": {},
   "source": [
    "## Import Data"
   ]
  },
  {
   "cell_type": "code",
   "execution_count": 5,
   "id": "109e8ceb",
   "metadata": {},
   "outputs": [],
   "source": [
    "transcripts_df = pd.read_csv('documents_w_clusters.csv')"
   ]
  },
  {
   "cell_type": "code",
   "execution_count": 6,
   "id": "9e6fe899",
   "metadata": {},
   "outputs": [
    {
     "data": {
      "text/html": [
       "<div>\n",
       "<style scoped>\n",
       "    .dataframe tbody tr th:only-of-type {\n",
       "        vertical-align: middle;\n",
       "    }\n",
       "\n",
       "    .dataframe tbody tr th {\n",
       "        vertical-align: top;\n",
       "    }\n",
       "\n",
       "    .dataframe thead th {\n",
       "        text-align: right;\n",
       "    }\n",
       "</style>\n",
       "<table border=\"1\" class=\"dataframe\">\n",
       "  <thead>\n",
       "    <tr style=\"text-align: right;\">\n",
       "      <th></th>\n",
       "      <th>Unnamed: 0</th>\n",
       "      <th>Unnamed: 0.1</th>\n",
       "      <th>file_name</th>\n",
       "      <th>contents</th>\n",
       "      <th>cleaned</th>\n",
       "      <th>lemmatized</th>\n",
       "      <th>no_of_words</th>\n",
       "      <th>cluster</th>\n",
       "      <th>x0</th>\n",
       "      <th>x1</th>\n",
       "    </tr>\n",
       "  </thead>\n",
       "  <tbody>\n",
       "    <tr>\n",
       "      <th>0</th>\n",
       "      <td>0</td>\n",
       "      <td>0</td>\n",
       "      <td>[UPDATED] PC - February 2021 - Mastermind with...</td>\n",
       "      <td>other hand if he says, You give me 5% of every...</td>\n",
       "      <td>hand says give everything dont get credit basi...</td>\n",
       "      <td>hand say not credit basic bread s different st...</td>\n",
       "      <td>3475</td>\n",
       "      <td>1</td>\n",
       "      <td>0.406383</td>\n",
       "      <td>-0.028027</td>\n",
       "    </tr>\n",
       "    <tr>\n",
       "      <th>1</th>\n",
       "      <td>1</td>\n",
       "      <td>1</td>\n",
       "      <td>April 8, 2021 - Ask the Mentors Q_A Call on De...</td>\n",
       "      <td>JO\\n\\noften, it's 100%, smokescreen, nobody li...</td>\n",
       "      <td>jo often smokescreen nobody likes idea commitm...</td>\n",
       "      <td>jo smokescreen like idea commitment general wa...</td>\n",
       "      <td>4444</td>\n",
       "      <td>0</td>\n",
       "      <td>-0.050892</td>\n",
       "      <td>0.176329</td>\n",
       "    </tr>\n",
       "    <tr>\n",
       "      <th>2</th>\n",
       "      <td>2</td>\n",
       "      <td>2</td>\n",
       "      <td>April 14, 2021 - Ask the Mentors Q_A Call on C...</td>\n",
       "      <td>JO\\n\\nJO\\n\\nbelieve in that, and then develop ...</td>\n",
       "      <td>jo jo believe develop investing thesis based s...</td>\n",
       "      <td>jo jo believe develop invest thesis base scena...</td>\n",
       "      <td>4931</td>\n",
       "      <td>2</td>\n",
       "      <td>-0.150166</td>\n",
       "      <td>-0.132726</td>\n",
       "    </tr>\n",
       "    <tr>\n",
       "      <th>3</th>\n",
       "      <td>3</td>\n",
       "      <td>3</td>\n",
       "      <td>April 2021 - Ask the Mentors Q_A Call on Busin...</td>\n",
       "      <td>JO\\n\\nyour investor questionnaire. So you can ...</td>\n",
       "      <td>jo investor questionnaire one one sales call a...</td>\n",
       "      <td>jo investor questionnaire sale actually raise ...</td>\n",
       "      <td>4229</td>\n",
       "      <td>2</td>\n",
       "      <td>-0.251402</td>\n",
       "      <td>-0.079161</td>\n",
       "    </tr>\n",
       "    <tr>\n",
       "      <th>4</th>\n",
       "      <td>4</td>\n",
       "      <td>4</td>\n",
       "      <td>April 2021 - Ask the Mentors Q_A Call on Sales...</td>\n",
       "      <td>©) Craig Kamman_ 30:35\\n\\nJO\\n\\nyes. Okay. So ...</td>\n",
       "      <td>© craig kamman jo yes okay youre dealing party...</td>\n",
       "      <td>© craig kamman jo yes okay deal party know mea...</td>\n",
       "      <td>4475</td>\n",
       "      <td>2</td>\n",
       "      <td>-0.207295</td>\n",
       "      <td>-0.133082</td>\n",
       "    </tr>\n",
       "  </tbody>\n",
       "</table>\n",
       "</div>"
      ],
      "text/plain": [
       "   Unnamed: 0  Unnamed: 0.1  \\\n",
       "0           0             0   \n",
       "1           1             1   \n",
       "2           2             2   \n",
       "3           3             3   \n",
       "4           4             4   \n",
       "\n",
       "                                           file_name  \\\n",
       "0  [UPDATED] PC - February 2021 - Mastermind with...   \n",
       "1  April 8, 2021 - Ask the Mentors Q_A Call on De...   \n",
       "2  April 14, 2021 - Ask the Mentors Q_A Call on C...   \n",
       "3  April 2021 - Ask the Mentors Q_A Call on Busin...   \n",
       "4  April 2021 - Ask the Mentors Q_A Call on Sales...   \n",
       "\n",
       "                                            contents  \\\n",
       "0  other hand if he says, You give me 5% of every...   \n",
       "1  JO\\n\\noften, it's 100%, smokescreen, nobody li...   \n",
       "2  JO\\n\\nJO\\n\\nbelieve in that, and then develop ...   \n",
       "3  JO\\n\\nyour investor questionnaire. So you can ...   \n",
       "4  ©) Craig Kamman_ 30:35\\n\\nJO\\n\\nyes. Okay. So ...   \n",
       "\n",
       "                                             cleaned  \\\n",
       "0  hand says give everything dont get credit basi...   \n",
       "1  jo often smokescreen nobody likes idea commitm...   \n",
       "2  jo jo believe develop investing thesis based s...   \n",
       "3  jo investor questionnaire one one sales call a...   \n",
       "4  © craig kamman jo yes okay youre dealing party...   \n",
       "\n",
       "                                          lemmatized  no_of_words  cluster  \\\n",
       "0  hand say not credit basic bread s different st...         3475        1   \n",
       "1  jo smokescreen like idea commitment general wa...         4444        0   \n",
       "2  jo jo believe develop invest thesis base scena...         4931        2   \n",
       "3  jo investor questionnaire sale actually raise ...         4229        2   \n",
       "4  © craig kamman jo yes okay deal party know mea...         4475        2   \n",
       "\n",
       "         x0        x1  \n",
       "0  0.406383 -0.028027  \n",
       "1 -0.050892  0.176329  \n",
       "2 -0.150166 -0.132726  \n",
       "3 -0.251402 -0.079161  \n",
       "4 -0.207295 -0.133082  "
      ]
     },
     "execution_count": 6,
     "metadata": {},
     "output_type": "execute_result"
    }
   ],
   "source": [
    "transcripts_df.head()"
   ]
  },
  {
   "cell_type": "code",
   "execution_count": 7,
   "id": "a2d2b572",
   "metadata": {},
   "outputs": [],
   "source": [
    "mask = (transcripts_df['cluster'] == 1)\n",
    "transcripts_df = pd.DataFrame(transcripts_df[mask])"
   ]
  },
  {
   "cell_type": "markdown",
   "id": "be78f67c",
   "metadata": {},
   "source": [
    "## Data Prep"
   ]
  },
  {
   "cell_type": "code",
   "execution_count": 8,
   "id": "2b7f22c8",
   "metadata": {},
   "outputs": [],
   "source": [
    "data = transcripts_df['contents']\n",
    "def sent_to_words(sentences):\n",
    "    for sentence in sentences:\n",
    "        yield(gensim.utils.simple_preprocess(str(sentence), deacc=True))  # deacc=True removes punctuations\n",
    "\n",
    "data_words = list(sent_to_words(data))"
   ]
  },
  {
   "cell_type": "code",
   "execution_count": 9,
   "id": "2db32a53",
   "metadata": {},
   "outputs": [],
   "source": [
    "# Build the bigram and trigram models\n",
    "bigram = gensim.models.Phrases(data_words, min_count=5, threshold=100) # higher threshold fewer phrases.\n",
    "trigram = gensim.models.Phrases(bigram[data_words], threshold=100)  \n",
    "\n",
    "# Faster way to get a sentence clubbed as a trigram/bigram\n",
    "bigram_mod = gensim.models.phrases.Phraser(bigram)\n",
    "trigram_mod = gensim.models.phrases.Phraser(trigram)"
   ]
  },
  {
   "cell_type": "code",
   "execution_count": 10,
   "id": "7d88147d",
   "metadata": {},
   "outputs": [],
   "source": [
    "def remove_stopwords(texts):\n",
    "    return [[word for word in simple_preprocess(str(doc)) if word not in stop_words] for doc in texts]\n",
    "\n",
    "def remove_extra_stopwords(texts):\n",
    "    new_outer_list = []\n",
    "    for l in texts:\n",
    "        inner_list = []\n",
    "        for word in l:\n",
    "            if (word not in extended_stop_words):\n",
    "                inner_list.append(word)\n",
    "        new_outer_list.append(inner_list)\n",
    "    return new_outer_list \n",
    "\n",
    "def make_bigrams(texts):\n",
    "    return [bigram_mod[doc] for doc in texts]\n",
    "\n",
    "def make_trigrams(texts):\n",
    "    return [trigram_mod[bigram_mod[doc]] for doc in texts]\n",
    "\n",
    "def lemmatization(texts, allowed_postags=['NOUN']):\n",
    "    \"\"\"https://spacy.io/api/annotation\"\"\"\n",
    "    texts_out = []\n",
    "    for sent in texts:\n",
    "        doc = nlp(\" \".join(sent)) \n",
    "        texts_out.append([token.lemma_ for token in doc if token.pos_ in allowed_postags])\n",
    "    return texts_out"
   ]
  },
  {
   "cell_type": "code",
   "execution_count": 11,
   "id": "86238b50",
   "metadata": {},
   "outputs": [],
   "source": [
    "# Remove Stop Words\n",
    "data_words_nostops = remove_stopwords(data_words)\n",
    "data_words_nostops = remove_extra_stopwords(data_words_nostops)\n",
    "\n",
    "# Form Bigrams\n",
    "data_words_bigrams = make_bigrams(data_words_nostops)\n",
    "\n",
    "# Initialize spacy 'en' model, keeping only tagger component (for efficiency)\n",
    "# python3 -m spacy download en\n",
    "#nlp = spacy.load('en', disable=['parser', 'ner'])\n",
    "nlp = spacy.load(\"en_core_web_sm\", disable=['parser', 'ner'])\n",
    "\n",
    "# Do lemmatization keeping only noun, adj, vb, adv\n",
    "data_lemmatized = lemmatization(data_words_bigrams, allowed_postags=['NOUN'])"
   ]
  },
  {
   "cell_type": "markdown",
   "id": "2e9961d0",
   "metadata": {},
   "source": [
    "## LDA"
   ]
  },
  {
   "cell_type": "code",
   "execution_count": 12,
   "id": "6825bdad",
   "metadata": {},
   "outputs": [],
   "source": [
    "# Create Dictionary\n",
    "id2word = corpora.Dictionary(data_lemmatized)\n",
    "\n",
    "# Create Corpus\n",
    "texts = data_lemmatized\n",
    "\n",
    "# Term Document Frequency\n",
    "corpus = [id2word.doc2bow(text) for text in texts]"
   ]
  },
  {
   "cell_type": "code",
   "execution_count": 13,
   "id": "69df0f34",
   "metadata": {},
   "outputs": [],
   "source": [
    "TFIDF = models.TfidfModel(corpus) # Fit TF-IDF model\n",
    "trans_TFIDF = TFIDF[corpus]"
   ]
  },
  {
   "cell_type": "code",
   "execution_count": 14,
   "id": "40facaf9",
   "metadata": {},
   "outputs": [],
   "source": [
    "def compute_coherence_values(dictionary, corpus, texts, limit, start=2, step=3):\n",
    "    \"\"\"\n",
    "    Compute c_v coherence for various number of topics\n",
    "\n",
    "    Parameters:\n",
    "    ----------\n",
    "    dictionary : Gensim dictionary\n",
    "    corpus : Gensim corpus\n",
    "    texts : List of input texts\n",
    "    limit : Max num of topics\n",
    "\n",
    "    Returns:\n",
    "    -------\n",
    "    model_list : List of LDA topic models\n",
    "    coherence_values : Coherence values corresponding to the LDA model with respective number of topics\n",
    "    \"\"\"\n",
    "    coherence_values = []\n",
    "    model_list = []\n",
    "    i = start \n",
    "    for num_topics in range(start, limit, step):\n",
    "        #model = gensim.models.wrappers.LdaMallet(mallet_path, corpus=corpus, num_topics=num_topics, id2word=id2word)\n",
    "        model = lda_model = gensim.models.ldamodel.LdaModel(corpus=corpus, id2word=id2word, num_topics=num_topics)\n",
    "        model_list.append(model)\n",
    "        coherencemodel = CoherenceModel(model=model, texts=texts, dictionary=dictionary, coherence='c_v')\n",
    "        coherence_values.append(coherencemodel.get_coherence())\n",
    "        print('Model ', i , ' Completed')\n",
    "        i += 1\n",
    "\n",
    "    return model_list, coherence_values"
   ]
  },
  {
   "cell_type": "code",
   "execution_count": 15,
   "id": "21668f4d",
   "metadata": {},
   "outputs": [
    {
     "name": "stdout",
     "output_type": "stream",
     "text": [
      "Model  5  Completed\n",
      "Model  6  Completed\n",
      "Model  7  Completed\n",
      "Model  8  Completed\n",
      "Model  9  Completed\n",
      "Model  10  Completed\n",
      "Model  11  Completed\n",
      "Model  12  Completed\n",
      "Model  13  Completed\n",
      "Model  14  Completed\n",
      "Model  15  Completed\n",
      "Model  16  Completed\n",
      "Model  17  Completed\n",
      "Model  18  Completed\n",
      "Model  19  Completed\n"
     ]
    }
   ],
   "source": [
    "model_list, coherence_values = compute_coherence_values(dictionary=id2word, corpus=trans_TFIDF, texts=data_lemmatized, \n",
    "                                                        start=5, limit=20, step=1)"
   ]
  },
  {
   "cell_type": "markdown",
   "id": "d3c7d60d",
   "metadata": {},
   "source": [
    "## Visualize Performance Metrics"
   ]
  },
  {
   "cell_type": "code",
   "execution_count": 16,
   "id": "ada2c83c",
   "metadata": {},
   "outputs": [
    {
     "data": {
      "image/png": "[encoded data removed]",
      "text/plain": [
       "<Figure size 432x288 with 1 Axes>"
      ]
     },
     "metadata": {
      "needs_background": "light"
     },
     "output_type": "display_data"
    }
   ],
   "source": [
    "limit=20; start=5; step=1;\n",
    "x = range(start, limit, step)\n",
    "plt.plot(x, coherence_values)\n",
    "plt.xlabel(\"Num Topics\")\n",
    "plt.ylabel(\"Coherence score\")\n",
    "plt.legend((\"coherence_values\"), loc='best')\n",
    "plt.show()"
   ]
  },
  {
   "cell_type": "code",
   "execution_count": 17,
   "id": "65d8d4aa",
   "metadata": {},
   "outputs": [
    {
     "name": "stdout",
     "output_type": "stream",
     "text": [
      "Num Topics = 5  has Coherence Value of 0.4361\n",
      "Num Topics = 6  has Coherence Value of 0.4086\n",
      "Num Topics = 7  has Coherence Value of 0.4053\n",
      "Num Topics = 8  has Coherence Value of 0.3927\n",
      "Num Topics = 9  has Coherence Value of 0.3996\n",
      "Num Topics = 10  has Coherence Value of 0.404\n",
      "Num Topics = 11  has Coherence Value of 0.3964\n",
      "Num Topics = 12  has Coherence Value of 0.3712\n",
      "Num Topics = 13  has Coherence Value of 0.3818\n",
      "Num Topics = 14  has Coherence Value of 0.3774\n",
      "Num Topics = 15  has Coherence Value of 0.3762\n",
      "Num Topics = 16  has Coherence Value of 0.3827\n",
      "Num Topics = 17  has Coherence Value of 0.3726\n",
      "Num Topics = 18  has Coherence Value of 0.3936\n",
      "Num Topics = 19  has Coherence Value of 0.4011\n"
     ]
    }
   ],
   "source": [
    "for m, cv in zip(x, coherence_values):\n",
    "    print(\"Num Topics =\", m, \" has Coherence Value of\", round(cv, 4))"
   ]
  },
  {
   "cell_type": "markdown",
   "id": "974c6f3c",
   "metadata": {},
   "source": [
    "Optimal Model"
   ]
  },
  {
   "cell_type": "code",
   "execution_count": 18,
   "id": "f240bcdb",
   "metadata": {},
   "outputs": [
    {
     "name": "stdout",
     "output_type": "stream",
     "text": [
      "[(0,\n",
      "  '0.001*\"student\" + 0.001*\"franchise\" + 0.001*\"subsidiary\" + '\n",
      "  '0.001*\"architect\" + 0.001*\"parent\" + 0.001*\"bedroom\" + 0.001*\"library\" + '\n",
      "  '0.001*\"partner\" + 0.001*\"partnership\" + 0.001*\"employee\" + 0.001*\"rent\" + '\n",
      "  '0.001*\"tenant\" + 0.001*\"parking\" + 0.001*\"mastermind_successful\" + '\n",
      "  '0.001*\"lease\" + 0.001*\"concession\" + 0.001*\"density\" + 0.001*\"tent\" + '\n",
      "  '0.001*\"hotel\" + 0.001*\"seller\" + 0.001*\"deficiency\" + 0.001*\"stole\" + '\n",
      "  '0.001*\"church\" + 0.000*\"cause\" + 0.000*\"majority\" + 0.000*\"industry\" + '\n",
      "  '0.000*\"title\" + 0.000*\"design\" + 0.000*\"college\" + 0.000*\"restriction\"'),\n",
      " (1,\n",
      "  '0.001*\"hotel\" + 0.001*\"tariff\" + 0.001*\"imbalance\" + 0.001*\"tourist\" + '\n",
      "  '0.001*\"seller\" + 0.001*\"borrower\" + 0.001*\"loan\" + 0.001*\"reserve\" + '\n",
      "  '0.001*\"sponsor\" + 0.001*\"spec\" + 0.001*\"organization\" + '\n",
      "  '0.001*\"chinese_good\" + 0.001*\"dictatorship\" + 0.001*\"bank\" + '\n",
      "  '0.001*\"employee\" + 0.001*\"store\" + 0.001*\"personnel\" + 0.001*\"wholesaler\" + '\n",
      "  '0.000*\"mortgage\" + 0.000*\"contractor\" + 0.000*\"recourse\" + '\n",
      "  '0.000*\"christine\" + 0.000*\"transaction\" + 0.000*\"warehouse\" + '\n",
      "  '0.000*\"reputation\" + 0.000*\"email\" + 0.000*\"task\" + '\n",
      "  '0.000*\"trump_organization\" + 0.000*\"unit\" + 0.000*\"bond\"'),\n",
      " (2,\n",
      "  '0.001*\"sub\" + 0.001*\"golf_course\" + 0.000*\"title\" + 0.000*\"heritage\" + '\n",
      "  '0.000*\"lien\" + 0.000*\"return\" + 0.000*\"ground_lease\" + 0.000*\"equity\" + '\n",
      "  '0.000*\"copy\" + 0.000*\"payment\" + 0.000*\"lender\" + 0.000*\"waiver\" + '\n",
      "  '0.000*\"bridge\" + 0.000*\"overrun\" + 0.000*\"land\" + 0.000*\"member\" + '\n",
      "  '0.000*\"partnership\" + 0.000*\"golf\" + 0.000*\"panel\" + 0.000*\"cap\" + '\n",
      "  '0.000*\"assumption\" + 0.000*\"insurer\" + 0.000*\"barn\" + 0.000*\"deposit\" + '\n",
      "  '0.000*\"restriction\" + 0.000*\"investor\" + 0.000*\"thief\" + 0.000*\"computer\" + '\n",
      "  '0.000*\"flexibility\" + 0.000*\"improvement\"'),\n",
      " (3,\n",
      "  '0.001*\"restaurant\" + 0.001*\"sub\" + 0.001*\"contamination\" + 0.001*\"credit\" + '\n",
      "  '0.001*\"entity\" + 0.001*\"retire\" + 0.001*\"soil\" + 0.001*\"appraisal\" + '\n",
      "  '0.001*\"convention\" + 0.001*\"beverage\" + 0.001*\"manager\" + 0.001*\"simulator\" '\n",
      "  '+ 0.001*\"brother\" + 0.001*\"tank\" + 0.001*\"tenant\" + 0.001*\"culture\" + '\n",
      "  '0.001*\"option\" + 0.001*\"lease\" + 0.001*\"liability\" + 0.001*\"team\" + '\n",
      "  '0.001*\"unit\" + 0.001*\"management\" + 0.001*\"philosophy\" + 0.001*\"hotel\" + '\n",
      "  '0.001*\"golf_course\" + 0.001*\"stress\" + 0.001*\"organization\" + 0.001*\"bank\" '\n",
      "  '+ 0.001*\"politician\" + 0.001*\"mortgage\"'),\n",
      " (4,\n",
      "  '0.001*\"virus\" + 0.001*\"intent\" + 0.001*\"sub\" + 0.001*\"deposit\" + '\n",
      "  '0.001*\"contingency\" + 0.001*\"cycle\" + 0.001*\"panic\" + 0.001*\"settlement\" + '\n",
      "  '0.001*\"bid\" + 0.001*\"depreciation\" + 0.001*\"road\" + 0.001*\"election\" + '\n",
      "  '0.001*\"seller\" + 0.001*\"disease\" + 0.001*\"country\" + 0.001*\"space\" + '\n",
      "  '0.001*\"letter\" + 0.001*\"rent\" + 0.001*\"stock\" + 0.001*\"brother\" + '\n",
      "  '0.001*\"attendee\" + 0.000*\"bank\" + 0.000*\"borrower\" + 0.000*\"crisis\" + '\n",
      "  '0.000*\"contract\" + 0.000*\"courage\" + 0.000*\"tenant\" + 0.000*\"deposition\" + '\n",
      "  '0.000*\"partnership\" + 0.000*\"store\"')]\n"
     ]
    }
   ],
   "source": [
    "optimal_model = model_list[0]\n",
    "model_topics = optimal_model.show_topics(formatted=False)\n",
    "pprint(optimal_model.print_topics(num_words=30))"
   ]
  },
  {
   "cell_type": "code",
   "execution_count": null,
   "id": "4b473a3d",
   "metadata": {},
   "outputs": [],
   "source": []
  }
 ],
 "metadata": {
  "kernelspec": {
   "display_name": "Python 3",
   "language": "python",
   "name": "python3"
  },
  "language_info": {
   "codemirror_mode": {
    "name": "ipython",
    "version": 3
   },
   "file_extension": ".py",
   "mimetype": "text/x-python",
   "name": "python",
   "nbconvert_exporter": "python",
   "pygments_lexer": "ipython3",
   "version": "3.7.4"
  }
 },
 "nbformat": 4,
 "nbformat_minor": 5
}
