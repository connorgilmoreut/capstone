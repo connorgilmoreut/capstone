{
 "cells": [
  {
   "cell_type": "markdown",
   "id": "7f87447d",
   "metadata": {},
   "source": [
    "# LDA Topic Model \n",
    "\n",
    "This code is pulled from:\n",
    "* https://www.machinelearningplus.com/nlp/topic-modeling-gensim-python/\n",
    "* https://highdemandskills.com/topic-modeling-lda/"
   ]
  },
  {
   "cell_type": "markdown",
   "id": "5e892d91",
   "metadata": {},
   "source": [
    "## Import Libraries"
   ]
  },
  {
   "cell_type": "code",
   "execution_count": 2,
   "id": "144f66e1",
   "metadata": {},
   "outputs": [],
   "source": [
    "import pandas as pd"
   ]
  },
  {
   "cell_type": "code",
   "execution_count": 3,
   "id": "6c939f63",
   "metadata": {},
   "outputs": [
    {
     "name": "stderr",
     "output_type": "stream",
     "text": [
      "[nltk_data] Downloading package stopwords to\n",
      "[nltk_data]     /Users/connorgilmore/nltk_data...\n",
      "[nltk_data]   Package stopwords is already up-to-date!\n"
     ]
    },
    {
     "data": {
      "text/plain": [
       "True"
      ]
     },
     "execution_count": 3,
     "metadata": {},
     "output_type": "execute_result"
    }
   ],
   "source": [
    "import nltk\n",
    "nltk.download('stopwords')"
   ]
  },
  {
   "cell_type": "code",
   "execution_count": 4,
   "id": "5f8a7d63",
   "metadata": {},
   "outputs": [
    {
     "name": "stderr",
     "output_type": "stream",
     "text": [
      "/Users/connorgilmore/opt/anaconda3/lib/python3.7/site-packages/past/builtins/misc.py:4: DeprecationWarning: Using or importing the ABCs from 'collections' instead of from 'collections.abc' is deprecated, and in 3.8 it will stop working\n",
      "  from collections import Mapping\n"
     ]
    }
   ],
   "source": [
    "import re\n",
    "import numpy as np\n",
    "import pandas as pd\n",
    "from pprint import pprint\n",
    "\n",
    "\n",
    "# Gensim\n",
    "import gensim\n",
    "import gensim.corpora as corpora\n",
    "from gensim.utils import simple_preprocess\n",
    "from gensim.models import CoherenceModel\n",
    "from gensim import models\n",
    "\n",
    "# spacy for lemmatization\n",
    "import spacy\n",
    "\n",
    "# Plotting tools\n",
    "import pyLDAvis\n",
    "#import pyLDAvis.gensim  # don't skip this\n",
    "import pyLDAvis.gensim_models as gensimvis\n",
    "import matplotlib.pyplot as plt\n",
    "%matplotlib inline\n",
    "\n",
    "# Enable logging for gensim - optional\n",
    "import logging\n",
    "logging.basicConfig(format='%(asctime)s : %(levelname)s : %(message)s', level=logging.ERROR)\n",
    "\n",
    "import warnings\n",
    "warnings.filterwarnings(\"ignore\",category=DeprecationWarning)"
   ]
  },
  {
   "cell_type": "code",
   "execution_count": 5,
   "id": "eaef5424",
   "metadata": {},
   "outputs": [],
   "source": [
    "# NLTK Stop words\n",
    "from nltk.corpus import stopwords\n",
    "stop_words = stopwords.words('english')\n",
    "extended_stop_words = ['guys', 'syndicated', 'mentoring', 'syndicate', 'club', 'mentor', 'thing', 'people', 'really',\n",
    "                      'syndication', 'call', 'person', 'stuff']\n",
    "stop_words.extend(extended_stop_words)"
   ]
  },
  {
   "cell_type": "markdown",
   "id": "5ebb8480",
   "metadata": {},
   "source": [
    "## Import Data"
   ]
  },
  {
   "cell_type": "code",
   "execution_count": 6,
   "id": "5f7abe17",
   "metadata": {},
   "outputs": [],
   "source": [
    "transcripts_df = pd.read_csv('documents_w_clusters.csv')"
   ]
  },
  {
   "cell_type": "code",
   "execution_count": 7,
   "id": "13d94bc3",
   "metadata": {},
   "outputs": [
    {
     "data": {
      "text/html": [
       "<div>\n",
       "<style scoped>\n",
       "    .dataframe tbody tr th:only-of-type {\n",
       "        vertical-align: middle;\n",
       "    }\n",
       "\n",
       "    .dataframe tbody tr th {\n",
       "        vertical-align: top;\n",
       "    }\n",
       "\n",
       "    .dataframe thead th {\n",
       "        text-align: right;\n",
       "    }\n",
       "</style>\n",
       "<table border=\"1\" class=\"dataframe\">\n",
       "  <thead>\n",
       "    <tr style=\"text-align: right;\">\n",
       "      <th></th>\n",
       "      <th>Unnamed: 0</th>\n",
       "      <th>Unnamed: 0.1</th>\n",
       "      <th>file_name</th>\n",
       "      <th>contents</th>\n",
       "      <th>cleaned</th>\n",
       "      <th>lemmatized</th>\n",
       "      <th>no_of_words</th>\n",
       "      <th>cluster</th>\n",
       "      <th>x0</th>\n",
       "      <th>x1</th>\n",
       "    </tr>\n",
       "  </thead>\n",
       "  <tbody>\n",
       "    <tr>\n",
       "      <th>0</th>\n",
       "      <td>0</td>\n",
       "      <td>0</td>\n",
       "      <td>[UPDATED] PC - February 2021 - Mastermind with...</td>\n",
       "      <td>other hand if he says, You give me 5% of every...</td>\n",
       "      <td>hand says give everything dont get credit basi...</td>\n",
       "      <td>hand say not credit basic bread s different st...</td>\n",
       "      <td>3475</td>\n",
       "      <td>1</td>\n",
       "      <td>0.406383</td>\n",
       "      <td>-0.028027</td>\n",
       "    </tr>\n",
       "    <tr>\n",
       "      <th>1</th>\n",
       "      <td>1</td>\n",
       "      <td>1</td>\n",
       "      <td>April 8, 2021 - Ask the Mentors Q_A Call on De...</td>\n",
       "      <td>JO\\n\\noften, it's 100%, smokescreen, nobody li...</td>\n",
       "      <td>jo often smokescreen nobody likes idea commitm...</td>\n",
       "      <td>jo smokescreen like idea commitment general wa...</td>\n",
       "      <td>4444</td>\n",
       "      <td>0</td>\n",
       "      <td>-0.050892</td>\n",
       "      <td>0.176329</td>\n",
       "    </tr>\n",
       "    <tr>\n",
       "      <th>2</th>\n",
       "      <td>2</td>\n",
       "      <td>2</td>\n",
       "      <td>April 14, 2021 - Ask the Mentors Q_A Call on C...</td>\n",
       "      <td>JO\\n\\nJO\\n\\nbelieve in that, and then develop ...</td>\n",
       "      <td>jo jo believe develop investing thesis based s...</td>\n",
       "      <td>jo jo believe develop invest thesis base scena...</td>\n",
       "      <td>4931</td>\n",
       "      <td>2</td>\n",
       "      <td>-0.150166</td>\n",
       "      <td>-0.132726</td>\n",
       "    </tr>\n",
       "    <tr>\n",
       "      <th>3</th>\n",
       "      <td>3</td>\n",
       "      <td>3</td>\n",
       "      <td>April 2021 - Ask the Mentors Q_A Call on Busin...</td>\n",
       "      <td>JO\\n\\nyour investor questionnaire. So you can ...</td>\n",
       "      <td>jo investor questionnaire one one sales call a...</td>\n",
       "      <td>jo investor questionnaire sale actually raise ...</td>\n",
       "      <td>4229</td>\n",
       "      <td>2</td>\n",
       "      <td>-0.251402</td>\n",
       "      <td>-0.079161</td>\n",
       "    </tr>\n",
       "    <tr>\n",
       "      <th>4</th>\n",
       "      <td>4</td>\n",
       "      <td>4</td>\n",
       "      <td>April 2021 - Ask the Mentors Q_A Call on Sales...</td>\n",
       "      <td>©) Craig Kamman_ 30:35\\n\\nJO\\n\\nyes. Okay. So ...</td>\n",
       "      <td>© craig kamman jo yes okay youre dealing party...</td>\n",
       "      <td>© craig kamman jo yes okay deal party know mea...</td>\n",
       "      <td>4475</td>\n",
       "      <td>2</td>\n",
       "      <td>-0.207295</td>\n",
       "      <td>-0.133082</td>\n",
       "    </tr>\n",
       "  </tbody>\n",
       "</table>\n",
       "</div>"
      ],
      "text/plain": [
       "   Unnamed: 0  Unnamed: 0.1  \\\n",
       "0           0             0   \n",
       "1           1             1   \n",
       "2           2             2   \n",
       "3           3             3   \n",
       "4           4             4   \n",
       "\n",
       "                                           file_name  \\\n",
       "0  [UPDATED] PC - February 2021 - Mastermind with...   \n",
       "1  April 8, 2021 - Ask the Mentors Q_A Call on De...   \n",
       "2  April 14, 2021 - Ask the Mentors Q_A Call on C...   \n",
       "3  April 2021 - Ask the Mentors Q_A Call on Busin...   \n",
       "4  April 2021 - Ask the Mentors Q_A Call on Sales...   \n",
       "\n",
       "                                            contents  \\\n",
       "0  other hand if he says, You give me 5% of every...   \n",
       "1  JO\\n\\noften, it's 100%, smokescreen, nobody li...   \n",
       "2  JO\\n\\nJO\\n\\nbelieve in that, and then develop ...   \n",
       "3  JO\\n\\nyour investor questionnaire. So you can ...   \n",
       "4  ©) Craig Kamman_ 30:35\\n\\nJO\\n\\nyes. Okay. So ...   \n",
       "\n",
       "                                             cleaned  \\\n",
       "0  hand says give everything dont get credit basi...   \n",
       "1  jo often smokescreen nobody likes idea commitm...   \n",
       "2  jo jo believe develop investing thesis based s...   \n",
       "3  jo investor questionnaire one one sales call a...   \n",
       "4  © craig kamman jo yes okay youre dealing party...   \n",
       "\n",
       "                                          lemmatized  no_of_words  cluster  \\\n",
       "0  hand say not credit basic bread s different st...         3475        1   \n",
       "1  jo smokescreen like idea commitment general wa...         4444        0   \n",
       "2  jo jo believe develop invest thesis base scena...         4931        2   \n",
       "3  jo investor questionnaire sale actually raise ...         4229        2   \n",
       "4  © craig kamman jo yes okay deal party know mea...         4475        2   \n",
       "\n",
       "         x0        x1  \n",
       "0  0.406383 -0.028027  \n",
       "1 -0.050892  0.176329  \n",
       "2 -0.150166 -0.132726  \n",
       "3 -0.251402 -0.079161  \n",
       "4 -0.207295 -0.133082  "
      ]
     },
     "execution_count": 7,
     "metadata": {},
     "output_type": "execute_result"
    }
   ],
   "source": [
    "transcripts_df.head()"
   ]
  },
  {
   "cell_type": "code",
   "execution_count": 8,
   "id": "138cdc0c",
   "metadata": {},
   "outputs": [],
   "source": [
    "mask = (transcripts_df['cluster'] == 0)\n",
    "transcripts_df = pd.DataFrame(transcripts_df[mask])"
   ]
  },
  {
   "cell_type": "markdown",
   "id": "a89f49f2",
   "metadata": {},
   "source": [
    "## Data Prep"
   ]
  },
  {
   "cell_type": "code",
   "execution_count": 10,
   "id": "e0427fae",
   "metadata": {},
   "outputs": [],
   "source": [
    "data = transcripts_df['contents']\n",
    "def sent_to_words(sentences):\n",
    "    for sentence in sentences:\n",
    "        yield(gensim.utils.simple_preprocess(str(sentence), deacc=True))  # deacc=True removes punctuations\n",
    "\n",
    "data_words = list(sent_to_words(data))"
   ]
  },
  {
   "cell_type": "code",
   "execution_count": 11,
   "id": "665ebf5d",
   "metadata": {},
   "outputs": [],
   "source": [
    "# Build the bigram and trigram models\n",
    "bigram = gensim.models.Phrases(data_words, min_count=5, threshold=100) # higher threshold fewer phrases.\n",
    "trigram = gensim.models.Phrases(bigram[data_words], threshold=100)  \n",
    "\n",
    "# Faster way to get a sentence clubbed as a trigram/bigram\n",
    "bigram_mod = gensim.models.phrases.Phraser(bigram)\n",
    "trigram_mod = gensim.models.phrases.Phraser(trigram)"
   ]
  },
  {
   "cell_type": "code",
   "execution_count": 12,
   "id": "9dd35b49",
   "metadata": {},
   "outputs": [],
   "source": [
    "def remove_stopwords(texts):\n",
    "    return [[word for word in simple_preprocess(str(doc)) if word not in stop_words] for doc in texts]\n",
    "\n",
    "def remove_extra_stopwords(texts):\n",
    "    new_outer_list = []\n",
    "    for l in texts:\n",
    "        inner_list = []\n",
    "        for word in l:\n",
    "            if (word not in extended_stop_words):\n",
    "                inner_list.append(word)\n",
    "        new_outer_list.append(inner_list)\n",
    "    return new_outer_list \n",
    "\n",
    "def make_bigrams(texts):\n",
    "    return [bigram_mod[doc] for doc in texts]\n",
    "\n",
    "def make_trigrams(texts):\n",
    "    return [trigram_mod[bigram_mod[doc]] for doc in texts]\n",
    "\n",
    "def lemmatization(texts, allowed_postags=['NOUN']):\n",
    "    \"\"\"https://spacy.io/api/annotation\"\"\"\n",
    "    texts_out = []\n",
    "    for sent in texts:\n",
    "        doc = nlp(\" \".join(sent)) \n",
    "        texts_out.append([token.lemma_ for token in doc if token.pos_ in allowed_postags])\n",
    "    return texts_out"
   ]
  },
  {
   "cell_type": "code",
   "execution_count": 13,
   "id": "416ec2f6",
   "metadata": {},
   "outputs": [],
   "source": [
    "# Remove Stop Words\n",
    "data_words_nostops = remove_stopwords(data_words)\n",
    "data_words_nostops = remove_extra_stopwords(data_words_nostops)\n",
    "\n",
    "# Form Bigrams\n",
    "data_words_bigrams = make_bigrams(data_words_nostops)\n",
    "\n",
    "# Initialize spacy 'en' model, keeping only tagger component (for efficiency)\n",
    "# python3 -m spacy download en\n",
    "#nlp = spacy.load('en', disable=['parser', 'ner'])\n",
    "nlp = spacy.load(\"en_core_web_sm\", disable=['parser', 'ner'])\n",
    "\n",
    "# Do lemmatization keeping only noun, adj, vb, adv\n",
    "data_lemmatized = lemmatization(data_words_bigrams, allowed_postags=['NOUN'])"
   ]
  },
  {
   "cell_type": "markdown",
   "id": "25985eb0",
   "metadata": {},
   "source": [
    "## LDA"
   ]
  },
  {
   "cell_type": "code",
   "execution_count": 14,
   "id": "4ab18587",
   "metadata": {},
   "outputs": [],
   "source": [
    "# Create Dictionary\n",
    "id2word = corpora.Dictionary(data_lemmatized)\n",
    "\n",
    "# Create Corpus\n",
    "texts = data_lemmatized\n",
    "\n",
    "# Term Document Frequency\n",
    "corpus = [id2word.doc2bow(text) for text in texts]"
   ]
  },
  {
   "cell_type": "code",
   "execution_count": 15,
   "id": "48202385",
   "metadata": {},
   "outputs": [],
   "source": [
    "TFIDF = models.TfidfModel(corpus) # Fit TF-IDF model\n",
    "trans_TFIDF = TFIDF[corpus]"
   ]
  },
  {
   "cell_type": "code",
   "execution_count": 16,
   "id": "437dc6e2",
   "metadata": {},
   "outputs": [],
   "source": [
    "def compute_coherence_values(dictionary, corpus, texts, limit, start=2, step=3):\n",
    "    \"\"\"\n",
    "    Compute c_v coherence for various number of topics\n",
    "\n",
    "    Parameters:\n",
    "    ----------\n",
    "    dictionary : Gensim dictionary\n",
    "    corpus : Gensim corpus\n",
    "    texts : List of input texts\n",
    "    limit : Max num of topics\n",
    "\n",
    "    Returns:\n",
    "    -------\n",
    "    model_list : List of LDA topic models\n",
    "    coherence_values : Coherence values corresponding to the LDA model with respective number of topics\n",
    "    \"\"\"\n",
    "    coherence_values = []\n",
    "    model_list = []\n",
    "    i = start \n",
    "    for num_topics in range(start, limit, step):\n",
    "        #model = gensim.models.wrappers.LdaMallet(mallet_path, corpus=corpus, num_topics=num_topics, id2word=id2word)\n",
    "        model = lda_model = gensim.models.ldamodel.LdaModel(corpus=corpus, id2word=id2word, num_topics=num_topics)\n",
    "        model_list.append(model)\n",
    "        coherencemodel = CoherenceModel(model=model, texts=texts, dictionary=dictionary, coherence='c_v')\n",
    "        coherence_values.append(coherencemodel.get_coherence())\n",
    "        print('Model ', i , ' Completed')\n",
    "        i += 1\n",
    "\n",
    "    return model_list, coherence_values"
   ]
  },
  {
   "cell_type": "code",
   "execution_count": 17,
   "id": "48da9419",
   "metadata": {},
   "outputs": [
    {
     "name": "stdout",
     "output_type": "stream",
     "text": [
      "Model  5  Completed\n",
      "Model  6  Completed\n",
      "Model  7  Completed\n",
      "Model  8  Completed\n",
      "Model  9  Completed\n",
      "Model  10  Completed\n",
      "Model  11  Completed\n",
      "Model  12  Completed\n",
      "Model  13  Completed\n",
      "Model  14  Completed\n",
      "Model  15  Completed\n",
      "Model  16  Completed\n",
      "Model  17  Completed\n",
      "Model  18  Completed\n",
      "Model  19  Completed\n"
     ]
    }
   ],
   "source": [
    "model_list, coherence_values = compute_coherence_values(dictionary=id2word, corpus=trans_TFIDF, texts=data_lemmatized, \n",
    "                                                        start=5, limit=20, step=1)"
   ]
  },
  {
   "cell_type": "markdown",
   "id": "2ce58fe7",
   "metadata": {},
   "source": [
    "## Visualize Performance Metrics"
   ]
  },
  {
   "cell_type": "code",
   "execution_count": 20,
   "id": "9280f8c7",
   "metadata": {},
   "outputs": [
    {
     "data": {
      "image/png": "[encoded data removed]",
      "text/plain": [
       "<Figure size 432x288 with 1 Axes>"
      ]
     },
     "metadata": {
      "needs_background": "light"
     },
     "output_type": "display_data"
    }
   ],
   "source": [
    "limit=20; start=5; step=1;\n",
    "x = range(start, limit, step)\n",
    "plt.plot(x, coherence_values)\n",
    "plt.xlabel(\"Num Topics\")\n",
    "plt.ylabel(\"Coherence score\")\n",
    "plt.legend((\"coherence_values\"), loc='best')\n",
    "plt.show()"
   ]
  },
  {
   "cell_type": "code",
   "execution_count": 21,
   "id": "698cbb4c",
   "metadata": {},
   "outputs": [
    {
     "name": "stdout",
     "output_type": "stream",
     "text": [
      "Num Topics = 5  has Coherence Value of 0.3896\n",
      "Num Topics = 6  has Coherence Value of 0.3702\n",
      "Num Topics = 7  has Coherence Value of 0.4023\n",
      "Num Topics = 8  has Coherence Value of 0.389\n",
      "Num Topics = 9  has Coherence Value of 0.4081\n",
      "Num Topics = 10  has Coherence Value of 0.3662\n",
      "Num Topics = 11  has Coherence Value of 0.4005\n",
      "Num Topics = 12  has Coherence Value of 0.3708\n",
      "Num Topics = 13  has Coherence Value of 0.387\n",
      "Num Topics = 14  has Coherence Value of 0.3891\n",
      "Num Topics = 15  has Coherence Value of 0.3995\n",
      "Num Topics = 16  has Coherence Value of 0.3941\n",
      "Num Topics = 17  has Coherence Value of 0.3981\n",
      "Num Topics = 18  has Coherence Value of 0.3985\n",
      "Num Topics = 19  has Coherence Value of 0.4073\n"
     ]
    }
   ],
   "source": [
    "for m, cv in zip(x, coherence_values):\n",
    "    print(\"Num Topics =\", m, \" has Coherence Value of\", round(cv, 4))"
   ]
  },
  {
   "cell_type": "markdown",
   "id": "daf6c5df",
   "metadata": {},
   "source": [
    "Optimal Model"
   ]
  },
  {
   "cell_type": "code",
   "execution_count": 22,
   "id": "11abbf3d",
   "metadata": {},
   "outputs": [
    {
     "name": "stdout",
     "output_type": "stream",
     "text": [
      "[(0,\n",
      "  '0.002*\"lease\" + 0.001*\"tenant\" + 0.001*\"house\" + 0.001*\"seller\" + '\n",
      "  '0.001*\"rent\" + 0.001*\"strategist\" + 0.001*\"inspection\" + '\n",
      "  '0.001*\"credibility\" + 0.001*\"landlord\" + 0.001*\"promoter\" + 0.001*\"home\" + '\n",
      "  '0.001*\"price\" + 0.001*\"broker\" + 0.001*\"manager\" + 0.001*\"gold\" + '\n",
      "  '0.001*\"upfront\" + 0.001*\"slave\" + 0.001*\"tax\" + 0.001*\"factory\" + '\n",
      "  '0.001*\"decide\" + 0.001*\"realtor\" + 0.001*\"counter\" + 0.001*\"contingency\" + '\n",
      "  '0.001*\"mining\" + 0.001*\"portfolio\" + 0.001*\"construction\" + '\n",
      "  '0.001*\"contractor\" + 0.001*\"bed\" + 0.001*\"driver\" + 0.001*\"taxis\"'),\n",
      " (1,\n",
      "  '0.001*\"lease\" + 0.001*\"folder\" + 0.001*\"exit\" + 0.001*\"entitlement\" + '\n",
      "  '0.001*\"inflation\" + 0.001*\"exit_strategie\" + 0.001*\"lender\" + '\n",
      "  '0.001*\"sophistication\" + 0.001*\"eight_step\" + 0.001*\"bridge\" + '\n",
      "  '0.001*\"currency\" + 0.001*\"insurance\" + 0.001*\"pre_existing\" + '\n",
      "  '0.001*\"prepayment\" + 0.001*\"signing\" + 0.001*\"interest_rate\" + '\n",
      "  '0.001*\"construction\" + 0.001*\"ppm\" + 0.001*\"blind_fund\" + 0.001*\"security\" '\n",
      "  '+ 0.001*\"guideline\" + 0.001*\"advertise\" + 0.001*\"officer\" + 0.001*\"solicit\" '\n",
      "  '+ 0.001*\"land\" + 0.001*\"bond_market\" + 0.001*\"placeholder\" + '\n",
      "  '0.001*\"financial\" + 0.001*\"database\" + 0.001*\"cam\"'),\n",
      " (2,\n",
      "  '0.002*\"disclaimer\" + 0.001*\"deduction\" + 0.001*\"jurisdiction\" + '\n",
      "  '0.001*\"depreciation\" + 0.001*\"tax\" + 0.001*\"solicitation\" + '\n",
      "  '0.001*\"security\" + 0.001*\"tutorial\" + 0.001*\"website\" + 0.001*\"loss\" + '\n",
      "  '0.001*\"advisor\" + 0.001*\"cost_segregation\" + 0.001*\"bonus_depreciation\" + '\n",
      "  '0.001*\"ppm\" + 0.001*\"integration\" + 0.001*\"craig\" + 0.001*\"exemption\" + '\n",
      "  '0.001*\"parse\" + 0.001*\"private_placement\" + 0.001*\"introduction\" + '\n",
      "  '0.001*\"advertise\" + 0.001*\"mike_pine\" + 0.001*\"income\" + 0.001*\"offering\" + '\n",
      "  '0.001*\"construction\" + 0.001*\"audited_financial\" + 0.001*\"audience\" + '\n",
      "  '0.001*\"director\" + 0.001*\"limitation\" + 0.001*\"range\"'),\n",
      " (3,\n",
      "  '0.002*\"lender\" + 0.001*\"yield\" + 0.001*\"borrower\" + 0.001*\"broker\" + '\n",
      "  '0.001*\"sewer\" + 0.001*\"liquidity\" + 0.001*\"license\" + '\n",
      "  '0.001*\"coverage_counsel\" + 0.001*\"note\" + 0.001*\"income\" + 0.001*\"timeline\" '\n",
      "  '+ 0.001*\"exemption\" + 0.001*\"inspection\" + 0.001*\"disagreement\" + '\n",
      "  '0.001*\"park\" + 0.001*\"register\" + 0.001*\"partner\" + 0.001*\"debt\" + '\n",
      "  '0.001*\"coverage\" + 0.001*\"depreciation\" + 0.001*\"lending\" + 0.001*\"bridge\" '\n",
      "  '+ 0.001*\"payment\" + 0.001*\"jail\" + 0.001*\"land\" + 0.001*\"manager\" + '\n",
      "  '0.001*\"letter\" + 0.001*\"joint_venture\" + 0.001*\"stream\" + '\n",
      "  '0.001*\"stephanie\"'),\n",
      " (4,\n",
      "  '0.001*\"trust\" + 0.001*\"exemption\" + 0.001*\"securities_laws\" + 0.001*\"lien\" '\n",
      "  '+ 0.001*\"liquidated_damage\" + 0.001*\"state\" + 0.001*\"estate\" + '\n",
      "  '0.001*\"privacy\" + 0.001*\"summary\" + 0.001*\"route\" + 0.001*\"placement\" + '\n",
      "  '0.001*\"security\" + 0.001*\"jail\" + 0.001*\"asset\" + '\n",
      "  '0.000*\"lawsuit_protection\" + 0.000*\"asset_protection\" + 0.000*\"mediation\" + '\n",
      "  '0.000*\"trustee\" + 0.000*\"lending\" + 0.000*\"bankruptcy\" + 0.000*\"entity\" + '\n",
      "  '0.000*\"license\" + 0.000*\"judge\" + 0.000*\"cavalier\" + 0.000*\"ria\" + '\n",
      "  '0.000*\"merger\" + 0.000*\"debate\" + 0.000*\"crux\" + 0.000*\"llc\" + '\n",
      "  '0.000*\"lemonade\"'),\n",
      " (5,\n",
      "  '0.001*\"bookkeeper\" + 0.001*\"builder\" + 0.001*\"chart\" + 0.001*\"budget\" + '\n",
      "  '0.001*\"variance\" + 0.001*\"park\" + 0.001*\"reserve\" + 0.001*\"item\" + '\n",
      "  '0.001*\"procedure\" + 0.001*\"tax\" + 0.001*\"account\" + 0.001*\"accounting\" + '\n",
      "  '0.001*\"accountant\" + 0.001*\"advertise\" + 0.000*\"feeder\" + 0.000*\"block\" + '\n",
      "  '0.000*\"taxable_event\" + 0.000*\"redundancy\" + 0.000*\"cost_segregation\" + '\n",
      "  '0.000*\"blast\" + 0.000*\"address\" + 0.000*\"advertising\" + '\n",
      "  '0.000*\"deferred_exchange\" + 0.000*\"exchange\" + 0.000*\"pre_existing\" + '\n",
      "  '0.000*\"expense\" + 0.000*\"taxis\" + 0.000*\"tutorial\" + 0.000*\"memory\" + '\n",
      "  '0.000*\"payable\"'),\n",
      " (6,\n",
      "  '0.001*\"blind_fund\" + 0.001*\"contingency\" + 0.001*\"tenant\" + '\n",
      "  '0.001*\"inspection\" + 0.001*\"utility\" + 0.001*\"anchor\" + 0.001*\"commercial\" '\n",
      "  '+ 0.001*\"press\" + 0.001*\"sub\" + 0.001*\"exemption\" + 0.001*\"seller\" + '\n",
      "  '0.001*\"lease\" + 0.000*\"reward\" + 0.000*\"assumption\" + '\n",
      "  '0.000*\"inspection_contingency\" + 0.000*\"release\" + 0.000*\"vetting\" + '\n",
      "  '0.000*\"preemption\" + 0.000*\"state\" + 0.000*\"treasury\" + 0.000*\"extension\" + '\n",
      "  '0.000*\"legacy\" + 0.000*\"intend\" + 0.000*\"msa\" + 0.000*\"bode\" + '\n",
      "  '0.000*\"cemetery\" + 0.000*\"plane\" + 0.000*\"parameter\" + 0.000*\"yield\" + '\n",
      "  '0.000*\"scrape\"'),\n",
      " (7,\n",
      "  '0.001*\"trust\" + 0.001*\"stacy\" + 0.001*\"appraisal\" + 0.001*\"lender\" + '\n",
      "  '0.001*\"estate\" + 0.001*\"bank\" + 0.001*\"lien\" + 0.001*\"feature\" + '\n",
      "  '0.001*\"baskal_korkis\" + 0.001*\"accounting\" + 0.001*\"debt\" + '\n",
      "  '0.001*\"neighborhood\" + 0.001*\"component\" + 0.001*\"hotel\" + '\n",
      "  '0.001*\"construction\" + 0.001*\"summit\" + 0.001*\"vision\" + 0.001*\"privacy\" + '\n",
      "  '0.001*\"tree\" + 0.001*\"coordinator\" + 0.001*\"efficiency\" + 0.001*\"tilt\" + '\n",
      "  '0.001*\"fund\" + 0.001*\"acquisition\" + 0.001*\"task\" + 0.001*\"success\" + '\n",
      "  '0.001*\"planning\" + 0.001*\"insurance\" + 0.001*\"unit\" + 0.001*\"modeling\"'),\n",
      " (8,\n",
      "  '0.001*\"employee\" + 0.001*\"parent\" + 0.001*\"vendor\" + 0.001*\"certification\" '\n",
      "  '+ 0.001*\"specialist\" + 0.001*\"anthony\" + 0.001*\"carsten\" + 0.001*\"data\" + '\n",
      "  '0.001*\"split\" + 0.001*\"flinch\" + 0.001*\"flexibility\" + 0.001*\"philosophy\" + '\n",
      "  '0.001*\"domain\" + 0.001*\"element\" + 0.001*\"bag\" + 0.001*\"outcome\" + '\n",
      "  '0.000*\"promoter\" + 0.000*\"greenhouse\" + 0.000*\"feedback\" + 0.000*\"country\" '\n",
      "  '+ 0.000*\"doctor\" + 0.000*\"delay\" + 0.000*\"effort\" + 0.000*\"responsibility\" '\n",
      "  '+ 0.000*\"sailing\" + 0.000*\"bend\" + 0.000*\"practitioner\" + 0.000*\"pandemic\" '\n",
      "  '+ 0.000*\"format\" + 0.000*\"security\"')]\n"
     ]
    }
   ],
   "source": [
    "optimal_model = model_list[4]\n",
    "model_topics = optimal_model.show_topics(formatted=False)\n",
    "pprint(optimal_model.print_topics(num_words=30))"
   ]
  },
  {
   "cell_type": "code",
   "execution_count": null,
   "id": "319fb91b",
   "metadata": {},
   "outputs": [],
   "source": []
  }
 ],
 "metadata": {
  "kernelspec": {
   "display_name": "Python 3",
   "language": "python",
   "name": "python3"
  },
  "language_info": {
   "codemirror_mode": {
    "name": "ipython",
    "version": 3
   },
   "file_extension": ".py",
   "mimetype": "text/x-python",
   "name": "python",
   "nbconvert_exporter": "python",
   "pygments_lexer": "ipython3",
   "version": "3.7.4"
  }
 },
 "nbformat": 4,
 "nbformat_minor": 5
}
