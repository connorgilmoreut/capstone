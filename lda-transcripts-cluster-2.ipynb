{
 "cells": [
  {
   "cell_type": "markdown",
   "id": "512154c3",
   "metadata": {},
   "source": [
    "# LDA Topic Model \n",
    "\n",
    "This code is pulled from:\n",
    "* https://www.machinelearningplus.com/nlp/topic-modeling-gensim-python/\n",
    "* https://highdemandskills.com/topic-modeling-lda/"
   ]
  },
  {
   "cell_type": "markdown",
   "id": "301ca29f",
   "metadata": {},
   "source": [
    "## Import Libraries"
   ]
  },
  {
   "cell_type": "code",
   "execution_count": 1,
   "id": "0d46f229",
   "metadata": {},
   "outputs": [],
   "source": [
    "import pandas as pd"
   ]
  },
  {
   "cell_type": "code",
   "execution_count": 2,
   "id": "1051b842",
   "metadata": {},
   "outputs": [
    {
     "name": "stderr",
     "output_type": "stream",
     "text": [
      "[nltk_data] Downloading package stopwords to\n",
      "[nltk_data]     /Users/connorgilmore/nltk_data...\n",
      "[nltk_data]   Package stopwords is already up-to-date!\n"
     ]
    },
    {
     "data": {
      "text/plain": [
       "True"
      ]
     },
     "execution_count": 2,
     "metadata": {},
     "output_type": "execute_result"
    }
   ],
   "source": [
    "import nltk\n",
    "nltk.download('stopwords')"
   ]
  },
  {
   "cell_type": "code",
   "execution_count": 3,
   "id": "7f117f33",
   "metadata": {},
   "outputs": [
    {
     "name": "stderr",
     "output_type": "stream",
     "text": [
      "/Users/connorgilmore/opt/anaconda3/lib/python3.7/site-packages/past/builtins/misc.py:4: DeprecationWarning: Using or importing the ABCs from 'collections' instead of from 'collections.abc' is deprecated, and in 3.8 it will stop working\n",
      "  from collections import Mapping\n"
     ]
    }
   ],
   "source": [
    "import re\n",
    "import numpy as np\n",
    "import pandas as pd\n",
    "from pprint import pprint\n",
    "\n",
    "\n",
    "# Gensim\n",
    "import gensim\n",
    "import gensim.corpora as corpora\n",
    "from gensim.utils import simple_preprocess\n",
    "from gensim.models import CoherenceModel\n",
    "from gensim import models\n",
    "\n",
    "# spacy for lemmatization\n",
    "import spacy\n",
    "\n",
    "# Plotting tools\n",
    "import pyLDAvis\n",
    "#import pyLDAvis.gensim  # don't skip this\n",
    "import pyLDAvis.gensim_models as gensimvis\n",
    "import matplotlib.pyplot as plt\n",
    "%matplotlib inline\n",
    "\n",
    "# Enable logging for gensim - optional\n",
    "import logging\n",
    "logging.basicConfig(format='%(asctime)s : %(levelname)s : %(message)s', level=logging.ERROR)\n",
    "\n",
    "import warnings\n",
    "warnings.filterwarnings(\"ignore\",category=DeprecationWarning)"
   ]
  },
  {
   "cell_type": "code",
   "execution_count": 4,
   "id": "9932e976",
   "metadata": {},
   "outputs": [],
   "source": [
    "# NLTK Stop words\n",
    "from nltk.corpus import stopwords\n",
    "stop_words = stopwords.words('english')\n",
    "extended_stop_words = ['guys', 'syndicated', 'mentoring', 'syndicate', 'club', 'mentor', 'thing', 'people', 'really',\n",
    "                      'syndication', 'call', 'person', 'stuff']\n",
    "stop_words.extend(extended_stop_words)"
   ]
  },
  {
   "cell_type": "markdown",
   "id": "f71c3681",
   "metadata": {},
   "source": [
    "## Import Data"
   ]
  },
  {
   "cell_type": "code",
   "execution_count": 5,
   "id": "1f02c297",
   "metadata": {},
   "outputs": [],
   "source": [
    "transcripts_df = pd.read_csv('documents_w_clusters.csv')"
   ]
  },
  {
   "cell_type": "code",
   "execution_count": 6,
   "id": "3fbd6bfa",
   "metadata": {},
   "outputs": [
    {
     "data": {
      "text/html": [
       "<div>\n",
       "<style scoped>\n",
       "    .dataframe tbody tr th:only-of-type {\n",
       "        vertical-align: middle;\n",
       "    }\n",
       "\n",
       "    .dataframe tbody tr th {\n",
       "        vertical-align: top;\n",
       "    }\n",
       "\n",
       "    .dataframe thead th {\n",
       "        text-align: right;\n",
       "    }\n",
       "</style>\n",
       "<table border=\"1\" class=\"dataframe\">\n",
       "  <thead>\n",
       "    <tr style=\"text-align: right;\">\n",
       "      <th></th>\n",
       "      <th>Unnamed: 0</th>\n",
       "      <th>Unnamed: 0.1</th>\n",
       "      <th>file_name</th>\n",
       "      <th>contents</th>\n",
       "      <th>cleaned</th>\n",
       "      <th>lemmatized</th>\n",
       "      <th>no_of_words</th>\n",
       "      <th>cluster</th>\n",
       "      <th>x0</th>\n",
       "      <th>x1</th>\n",
       "    </tr>\n",
       "  </thead>\n",
       "  <tbody>\n",
       "    <tr>\n",
       "      <th>0</th>\n",
       "      <td>0</td>\n",
       "      <td>0</td>\n",
       "      <td>[UPDATED] PC - February 2021 - Mastermind with...</td>\n",
       "      <td>other hand if he says, You give me 5% of every...</td>\n",
       "      <td>hand says give everything dont get credit basi...</td>\n",
       "      <td>hand say not credit basic bread s different st...</td>\n",
       "      <td>3475</td>\n",
       "      <td>1</td>\n",
       "      <td>0.406383</td>\n",
       "      <td>-0.028027</td>\n",
       "    </tr>\n",
       "    <tr>\n",
       "      <th>1</th>\n",
       "      <td>1</td>\n",
       "      <td>1</td>\n",
       "      <td>April 8, 2021 - Ask the Mentors Q_A Call on De...</td>\n",
       "      <td>JO\\n\\noften, it's 100%, smokescreen, nobody li...</td>\n",
       "      <td>jo often smokescreen nobody likes idea commitm...</td>\n",
       "      <td>jo smokescreen like idea commitment general wa...</td>\n",
       "      <td>4444</td>\n",
       "      <td>0</td>\n",
       "      <td>-0.050892</td>\n",
       "      <td>0.176329</td>\n",
       "    </tr>\n",
       "    <tr>\n",
       "      <th>2</th>\n",
       "      <td>2</td>\n",
       "      <td>2</td>\n",
       "      <td>April 14, 2021 - Ask the Mentors Q_A Call on C...</td>\n",
       "      <td>JO\\n\\nJO\\n\\nbelieve in that, and then develop ...</td>\n",
       "      <td>jo jo believe develop investing thesis based s...</td>\n",
       "      <td>jo jo believe develop invest thesis base scena...</td>\n",
       "      <td>4931</td>\n",
       "      <td>2</td>\n",
       "      <td>-0.150166</td>\n",
       "      <td>-0.132726</td>\n",
       "    </tr>\n",
       "    <tr>\n",
       "      <th>3</th>\n",
       "      <td>3</td>\n",
       "      <td>3</td>\n",
       "      <td>April 2021 - Ask the Mentors Q_A Call on Busin...</td>\n",
       "      <td>JO\\n\\nyour investor questionnaire. So you can ...</td>\n",
       "      <td>jo investor questionnaire one one sales call a...</td>\n",
       "      <td>jo investor questionnaire sale actually raise ...</td>\n",
       "      <td>4229</td>\n",
       "      <td>2</td>\n",
       "      <td>-0.251402</td>\n",
       "      <td>-0.079161</td>\n",
       "    </tr>\n",
       "    <tr>\n",
       "      <th>4</th>\n",
       "      <td>4</td>\n",
       "      <td>4</td>\n",
       "      <td>April 2021 - Ask the Mentors Q_A Call on Sales...</td>\n",
       "      <td>©) Craig Kamman_ 30:35\\n\\nJO\\n\\nyes. Okay. So ...</td>\n",
       "      <td>© craig kamman jo yes okay youre dealing party...</td>\n",
       "      <td>© craig kamman jo yes okay deal party know mea...</td>\n",
       "      <td>4475</td>\n",
       "      <td>2</td>\n",
       "      <td>-0.207295</td>\n",
       "      <td>-0.133082</td>\n",
       "    </tr>\n",
       "  </tbody>\n",
       "</table>\n",
       "</div>"
      ],
      "text/plain": [
       "   Unnamed: 0  Unnamed: 0.1  \\\n",
       "0           0             0   \n",
       "1           1             1   \n",
       "2           2             2   \n",
       "3           3             3   \n",
       "4           4             4   \n",
       "\n",
       "                                           file_name  \\\n",
       "0  [UPDATED] PC - February 2021 - Mastermind with...   \n",
       "1  April 8, 2021 - Ask the Mentors Q_A Call on De...   \n",
       "2  April 14, 2021 - Ask the Mentors Q_A Call on C...   \n",
       "3  April 2021 - Ask the Mentors Q_A Call on Busin...   \n",
       "4  April 2021 - Ask the Mentors Q_A Call on Sales...   \n",
       "\n",
       "                                            contents  \\\n",
       "0  other hand if he says, You give me 5% of every...   \n",
       "1  JO\\n\\noften, it's 100%, smokescreen, nobody li...   \n",
       "2  JO\\n\\nJO\\n\\nbelieve in that, and then develop ...   \n",
       "3  JO\\n\\nyour investor questionnaire. So you can ...   \n",
       "4  ©) Craig Kamman_ 30:35\\n\\nJO\\n\\nyes. Okay. So ...   \n",
       "\n",
       "                                             cleaned  \\\n",
       "0  hand says give everything dont get credit basi...   \n",
       "1  jo often smokescreen nobody likes idea commitm...   \n",
       "2  jo jo believe develop investing thesis based s...   \n",
       "3  jo investor questionnaire one one sales call a...   \n",
       "4  © craig kamman jo yes okay youre dealing party...   \n",
       "\n",
       "                                          lemmatized  no_of_words  cluster  \\\n",
       "0  hand say not credit basic bread s different st...         3475        1   \n",
       "1  jo smokescreen like idea commitment general wa...         4444        0   \n",
       "2  jo jo believe develop invest thesis base scena...         4931        2   \n",
       "3  jo investor questionnaire sale actually raise ...         4229        2   \n",
       "4  © craig kamman jo yes okay deal party know mea...         4475        2   \n",
       "\n",
       "         x0        x1  \n",
       "0  0.406383 -0.028027  \n",
       "1 -0.050892  0.176329  \n",
       "2 -0.150166 -0.132726  \n",
       "3 -0.251402 -0.079161  \n",
       "4 -0.207295 -0.133082  "
      ]
     },
     "execution_count": 6,
     "metadata": {},
     "output_type": "execute_result"
    }
   ],
   "source": [
    "transcripts_df.head()"
   ]
  },
  {
   "cell_type": "code",
   "execution_count": 13,
   "id": "1056538a",
   "metadata": {},
   "outputs": [],
   "source": [
    "mask = (transcripts_df['cluster'] == 2)\n",
    "transcripts_df = pd.DataFrame(transcripts_df[mask])"
   ]
  },
  {
   "cell_type": "code",
   "execution_count": 14,
   "id": "58c8800b",
   "metadata": {},
   "outputs": [
    {
     "data": {
      "text/plain": [
       "38"
      ]
     },
     "execution_count": 14,
     "metadata": {},
     "output_type": "execute_result"
    }
   ],
   "source": [
    "len(transcripts_df)"
   ]
  },
  {
   "cell_type": "markdown",
   "id": "c15551ae",
   "metadata": {},
   "source": [
    "## Data Prep"
   ]
  },
  {
   "cell_type": "code",
   "execution_count": 15,
   "id": "3b1f6a57",
   "metadata": {},
   "outputs": [],
   "source": [
    "data = transcripts_df['contents']\n",
    "def sent_to_words(sentences):\n",
    "    for sentence in sentences:\n",
    "        yield(gensim.utils.simple_preprocess(str(sentence), deacc=True))  # deacc=True removes punctuations\n",
    "\n",
    "data_words = list(sent_to_words(data))"
   ]
  },
  {
   "cell_type": "code",
   "execution_count": 16,
   "id": "78931ee8",
   "metadata": {},
   "outputs": [],
   "source": [
    "# Build the bigram and trigram models\n",
    "bigram = gensim.models.Phrases(data_words, min_count=5, threshold=100) # higher threshold fewer phrases.\n",
    "trigram = gensim.models.Phrases(bigram[data_words], threshold=100)  \n",
    "\n",
    "# Faster way to get a sentence clubbed as a trigram/bigram\n",
    "bigram_mod = gensim.models.phrases.Phraser(bigram)\n",
    "trigram_mod = gensim.models.phrases.Phraser(trigram)"
   ]
  },
  {
   "cell_type": "code",
   "execution_count": 17,
   "id": "784d1120",
   "metadata": {},
   "outputs": [],
   "source": [
    "def remove_stopwords(texts):\n",
    "    return [[word for word in simple_preprocess(str(doc)) if word not in stop_words] for doc in texts]\n",
    "\n",
    "def remove_extra_stopwords(texts):\n",
    "    new_outer_list = []\n",
    "    for l in texts:\n",
    "        inner_list = []\n",
    "        for word in l:\n",
    "            if (word not in extended_stop_words):\n",
    "                inner_list.append(word)\n",
    "        new_outer_list.append(inner_list)\n",
    "    return new_outer_list \n",
    "\n",
    "def make_bigrams(texts):\n",
    "    return [bigram_mod[doc] for doc in texts]\n",
    "\n",
    "def make_trigrams(texts):\n",
    "    return [trigram_mod[bigram_mod[doc]] for doc in texts]\n",
    "\n",
    "def lemmatization(texts, allowed_postags=['NOUN']):\n",
    "    \"\"\"https://spacy.io/api/annotation\"\"\"\n",
    "    texts_out = []\n",
    "    for sent in texts:\n",
    "        doc = nlp(\" \".join(sent)) \n",
    "        texts_out.append([token.lemma_ for token in doc if token.pos_ in allowed_postags])\n",
    "    return texts_out"
   ]
  },
  {
   "cell_type": "code",
   "execution_count": 18,
   "id": "cfd33dd9",
   "metadata": {},
   "outputs": [],
   "source": [
    "# Remove Stop Words\n",
    "data_words_nostops = remove_stopwords(data_words)\n",
    "data_words_nostops = remove_extra_stopwords(data_words_nostops)\n",
    "\n",
    "# Form Bigrams\n",
    "data_words_bigrams = make_bigrams(data_words_nostops)\n",
    "\n",
    "# Initialize spacy 'en' model, keeping only tagger component (for efficiency)\n",
    "# python3 -m spacy download en\n",
    "#nlp = spacy.load('en', disable=['parser', 'ner'])\n",
    "nlp = spacy.load(\"en_core_web_sm\", disable=['parser', 'ner'])\n",
    "\n",
    "# Do lemmatization keeping only noun, adj, vb, adv\n",
    "data_lemmatized = lemmatization(data_words_bigrams, allowed_postags=['NOUN'])"
   ]
  },
  {
   "cell_type": "markdown",
   "id": "0e601868",
   "metadata": {},
   "source": [
    "## LDA"
   ]
  },
  {
   "cell_type": "code",
   "execution_count": 19,
   "id": "07d2b9ae",
   "metadata": {},
   "outputs": [],
   "source": [
    "# Create Dictionary\n",
    "id2word = corpora.Dictionary(data_lemmatized)\n",
    "\n",
    "# Create Corpus\n",
    "texts = data_lemmatized\n",
    "\n",
    "# Term Document Frequency\n",
    "corpus = [id2word.doc2bow(text) for text in texts]"
   ]
  },
  {
   "cell_type": "code",
   "execution_count": 20,
   "id": "0d0bd819",
   "metadata": {},
   "outputs": [],
   "source": [
    "TFIDF = models.TfidfModel(corpus) # Fit TF-IDF model\n",
    "trans_TFIDF = TFIDF[corpus]"
   ]
  },
  {
   "cell_type": "code",
   "execution_count": 21,
   "id": "874d4efe",
   "metadata": {},
   "outputs": [],
   "source": [
    "def compute_coherence_values(dictionary, corpus, texts, limit, start=2, step=3):\n",
    "    \"\"\"\n",
    "    Compute c_v coherence for various number of topics\n",
    "\n",
    "    Parameters:\n",
    "    ----------\n",
    "    dictionary : Gensim dictionary\n",
    "    corpus : Gensim corpus\n",
    "    texts : List of input texts\n",
    "    limit : Max num of topics\n",
    "\n",
    "    Returns:\n",
    "    -------\n",
    "    model_list : List of LDA topic models\n",
    "    coherence_values : Coherence values corresponding to the LDA model with respective number of topics\n",
    "    \"\"\"\n",
    "    coherence_values = []\n",
    "    model_list = []\n",
    "    i = start \n",
    "    for num_topics in range(start, limit, step):\n",
    "        #model = gensim.models.wrappers.LdaMallet(mallet_path, corpus=corpus, num_topics=num_topics, id2word=id2word)\n",
    "        model = lda_model = gensim.models.ldamodel.LdaModel(corpus=corpus, id2word=id2word, num_topics=num_topics)\n",
    "        model_list.append(model)\n",
    "        coherencemodel = CoherenceModel(model=model, texts=texts, dictionary=dictionary, coherence='c_v')\n",
    "        coherence_values.append(coherencemodel.get_coherence())\n",
    "        print('Model ', i , ' Completed')\n",
    "        i += 1\n",
    "\n",
    "    return model_list, coherence_values"
   ]
  },
  {
   "cell_type": "code",
   "execution_count": 22,
   "id": "aab5687d",
   "metadata": {},
   "outputs": [
    {
     "name": "stdout",
     "output_type": "stream",
     "text": [
      "Model  5  Completed\n",
      "Model  6  Completed\n",
      "Model  7  Completed\n",
      "Model  8  Completed\n",
      "Model  9  Completed\n",
      "Model  10  Completed\n",
      "Model  11  Completed\n",
      "Model  12  Completed\n",
      "Model  13  Completed\n",
      "Model  14  Completed\n",
      "Model  15  Completed\n",
      "Model  16  Completed\n",
      "Model  17  Completed\n",
      "Model  18  Completed\n",
      "Model  19  Completed\n"
     ]
    }
   ],
   "source": [
    "model_list, coherence_values = compute_coherence_values(dictionary=id2word, corpus=trans_TFIDF, texts=data_lemmatized, \n",
    "                                                        start=5, limit=20, step=1)"
   ]
  },
  {
   "cell_type": "markdown",
   "id": "b2cdfd09",
   "metadata": {},
   "source": [
    "## Visualize Performance Metrics"
   ]
  },
  {
   "cell_type": "code",
   "execution_count": 23,
   "id": "650538db",
   "metadata": {},
   "outputs": [
    {
     "data": {
      "image/png": "[encoded data removed]",
      "text/plain": [
       "<Figure size 432x288 with 1 Axes>"
      ]
     },
     "metadata": {
      "needs_background": "light"
     },
     "output_type": "display_data"
    }
   ],
   "source": [
    "limit=20; start=5; step=1;\n",
    "x = range(start, limit, step)\n",
    "plt.plot(x, coherence_values)\n",
    "plt.xlabel(\"Num Topics\")\n",
    "plt.ylabel(\"Coherence score\")\n",
    "plt.legend((\"coherence_values\"), loc='best')\n",
    "plt.show()"
   ]
  },
  {
   "cell_type": "code",
   "execution_count": 24,
   "id": "700c5a32",
   "metadata": {},
   "outputs": [
    {
     "name": "stdout",
     "output_type": "stream",
     "text": [
      "Num Topics = 5  has Coherence Value of 0.3901\n",
      "Num Topics = 6  has Coherence Value of 0.4413\n",
      "Num Topics = 7  has Coherence Value of 0.4263\n",
      "Num Topics = 8  has Coherence Value of 0.445\n",
      "Num Topics = 9  has Coherence Value of 0.476\n",
      "Num Topics = 10  has Coherence Value of 0.4292\n",
      "Num Topics = 11  has Coherence Value of 0.445\n",
      "Num Topics = 12  has Coherence Value of 0.4529\n",
      "Num Topics = 13  has Coherence Value of 0.4338\n",
      "Num Topics = 14  has Coherence Value of 0.3979\n",
      "Num Topics = 15  has Coherence Value of 0.4217\n",
      "Num Topics = 16  has Coherence Value of 0.4126\n",
      "Num Topics = 17  has Coherence Value of 0.4304\n",
      "Num Topics = 18  has Coherence Value of 0.4484\n",
      "Num Topics = 19  has Coherence Value of 0.4133\n"
     ]
    }
   ],
   "source": [
    "for m, cv in zip(x, coherence_values):\n",
    "    print(\"Num Topics =\", m, \" has Coherence Value of\", round(cv, 4))"
   ]
  },
  {
   "cell_type": "markdown",
   "id": "7044d7fb",
   "metadata": {},
   "source": [
    "Optimal Model"
   ]
  },
  {
   "cell_type": "code",
   "execution_count": 25,
   "id": "980fbcbd",
   "metadata": {},
   "outputs": [
    {
     "name": "stdout",
     "output_type": "stream",
     "text": [
      "[(0,\n",
      "  '0.001*\"ingo\" + 0.001*\"bio\" + 0.001*\"bond\" + 0.001*\"motive\" + 0.001*\"datum\" '\n",
      "  '+ 0.001*\"sandwich\" + 0.001*\"pizza\" + 0.001*\"pandemic\" + 0.001*\"demand\" + '\n",
      "  '0.001*\"client\" + 0.001*\"home_price\" + 0.001*\"slot\" + 0.001*\"influencer\" + '\n",
      "  '0.001*\"page\" + 0.001*\"rent\" + 0.001*\"scratch\" + 0.001*\"introduction\" + '\n",
      "  '0.001*\"database\" + 0.001*\"impression\" + 0.001*\"task\" + 0.001*\"chart\" + '\n",
      "  '0.001*\"con\" + 0.001*\"application\" + 0.001*\"webinar\" + 0.001*\"housing\" + '\n",
      "  '0.001*\"resident\" + 0.001*\"two\" + 0.001*\"commitment\" + 0.001*\"salesforce\" + '\n",
      "  '0.001*\"market\"'),\n",
      " (1,\n",
      "  '0.001*\"biggest_mistake\" + 0.001*\"operation\" + 0.001*\"influencer\" + '\n",
      "  '0.001*\"tax\" + 0.000*\"brad_niebuhr\" + 0.000*\"officer\" + 0.000*\"breathing\" + '\n",
      "  '0.000*\"breath\" + 0.000*\"ot\" + 0.000*\"objection\" + 0.000*\"congregation\" + '\n",
      "  '0.000*\"software\" + 0.000*\"automation\" + 0.000*\"cpa\" + 0.000*\"budget\" + '\n",
      "  '0.000*\"investor_portal\" + 0.000*\"structure\" + 0.000*\"solution\" + '\n",
      "  '0.000*\"bowl\" + 0.000*\"cd\" + 0.000*\"stress\" + 0.000*\"basic\" + '\n",
      "  '0.000*\"network\" + 0.000*\"knowledge\" + 0.000*\"boat\" + 0.000*\"card\" + '\n",
      "  '0.000*\"organization\" + 0.000*\"pond\" + 0.000*\"cash_flow\" + 0.000*\"advice\"'),\n",
      " (2,\n",
      "  '0.001*\"bio\" + 0.001*\"bond\" + 0.001*\"impression\" + 0.001*\"blueprint\" + '\n",
      "  '0.001*\"task\" + 0.001*\"webinar\" + 0.001*\"procedure\" + 0.001*\"operation\" + '\n",
      "  '0.001*\"cgi\" + 0.001*\"automation\" + 0.001*\"operator\" + 0.001*\"attorney\" + '\n",
      "  '0.001*\"awareness\" + 0.001*\"mastermind\" + 0.001*\"standard_operating\" + '\n",
      "  '0.001*\"mail\" + 0.001*\"dollar_middleman\" + 0.001*\"discovery\" + '\n",
      "  '0.001*\"year_amortization\" + 0.001*\"error\" + 0.001*\"email\" + 0.001*\"contact\" '\n",
      "  '+ 0.001*\"finder\" + 0.001*\"contingency\" + 0.001*\"grab\" + 0.001*\"mute\" + '\n",
      "  '0.001*\"video\" + 0.001*\"conditioning\" + 0.000*\"stacy\" + 0.000*\"competence\"'),\n",
      " (3,\n",
      "  '0.002*\"bond\" + 0.001*\"shotgun\" + 0.001*\"yield\" + 0.001*\"youtube\" + '\n",
      "  '0.001*\"return\" + 0.001*\"heartstring\" + 0.001*\"podcast\" + 0.001*\"risk\" + '\n",
      "  '0.001*\"radio\" + 0.001*\"stock\" + 0.001*\"pivot\" + 0.001*\"government\" + '\n",
      "  '0.001*\"tax\" + 0.001*\"horse\" + 0.001*\"target\" + 0.001*\"income\" + '\n",
      "  '0.001*\"percentage\" + 0.001*\"stream\" + 0.001*\"touch\" + 0.001*\"webinar\" + '\n",
      "  '0.001*\"elevate\" + 0.001*\"canine\" + 0.001*\"price\" + 0.001*\"studio\" + '\n",
      "  '0.001*\"interest_rate\" + 0.001*\"aweber\" + 0.001*\"software\" + '\n",
      "  '0.001*\"newsletter\" + 0.001*\"rate\" + 0.001*\"college\"'),\n",
      " (4,\n",
      "  '0.000*\"bond\" + 0.000*\"yield\" + 0.000*\"operation\" + 0.000*\"datum\" + '\n",
      "  '0.000*\"thesis\" + 0.000*\"currency\" + 0.000*\"bio\" + 0.000*\"price\" + '\n",
      "  '0.000*\"cpa\" + 0.000*\"supply\" + 0.000*\"demand\" + 0.000*\"inflation\" + '\n",
      "  '0.000*\"dollar\" + 0.000*\"rate\" + 0.000*\"debt\" + 0.000*\"page\" + 0.000*\"rent\" '\n",
      "  '+ 0.000*\"table\" + 0.000*\"webinar\" + 0.000*\"news\" + 0.000*\"document\" + '\n",
      "  '0.000*\"database\" + 0.000*\"target\" + 0.000*\"operator\" + 0.000*\"system\" + '\n",
      "  '0.000*\"market\" + 0.000*\"vision\" + 0.000*\"policy\" + 0.000*\"technique\" + '\n",
      "  '0.000*\"investment_thesis\"'),\n",
      " (5,\n",
      "  '0.001*\"bond\" + 0.001*\"thesis\" + 0.001*\"supply\" + 0.001*\"inflation\" + '\n",
      "  '0.001*\"bitcoin\" + 0.001*\"gold\" + 0.001*\"currency\" + 0.001*\"silver\" + '\n",
      "  '0.001*\"repo_market\" + 0.001*\"debt\" + 0.001*\"headline\" + 0.001*\"lumber\" + '\n",
      "  '0.001*\"print\" + 0.001*\"yield\" + 0.001*\"war\" + 0.001*\"demand\" + '\n",
      "  '0.001*\"dollar\" + 0.001*\"price\" + 0.001*\"article\" + 0.001*\"bubble\" + '\n",
      "  '0.001*\"premise\" + 0.001*\"conclusion\" + 0.001*\"farm\" + 0.001*\"food\" + '\n",
      "  '0.001*\"investment_thesis\" + 0.001*\"survival\" + 0.001*\"cpa\" + 0.001*\"news\" + '\n",
      "  '0.001*\"synergy\" + 0.001*\"government\"'),\n",
      " (6,\n",
      "  '0.001*\"bus\" + 0.001*\"revenue\" + 0.001*\"phase\" + 0.001*\"land\" + '\n",
      "  '0.001*\"pre_existing\" + 0.001*\"operation\" + 0.001*\"capital\" + 0.001*\"flag\" + '\n",
      "  '0.001*\"breath\" + 0.001*\"tech\" + 0.001*\"debt\" + 0.001*\"church\" + '\n",
      "  '0.001*\"loan\" + 0.001*\"tool\" + 0.001*\"vote\" + 0.001*\"entrepreneur\" + '\n",
      "  '0.001*\"round\" + 0.001*\"donation\" + 0.001*\"launch\" + 0.001*\"document\" + '\n",
      "  '0.001*\"culture\" + 0.001*\"lender\" + 0.001*\"cash\" + 0.001*\"bone\" + '\n",
      "  '0.001*\"ride\" + 0.000*\"stock\" + 0.000*\"whiteboard\" + 0.000*\"stacy\" + '\n",
      "  '0.000*\"startup\" + 0.000*\"board\"'),\n",
      " (7,\n",
      "  '0.001*\"suite\" + 0.001*\"lane\" + 0.001*\"cox\" + 0.001*\"operator\" + '\n",
      "  '0.001*\"operation\" + 0.001*\"drive\" + 0.001*\"sop\" + 0.001*\"stacey\" + '\n",
      "  '0.001*\"priority\" + 0.001*\"weekend\" + 0.001*\"gmail\" + 0.001*\"policy\" + '\n",
      "  '0.001*\"google_drive\" + 0.001*\"confidence\" + 0.001*\"culture\" + '\n",
      "  '0.001*\"breach\" + 0.001*\"stereotype\" + 0.001*\"stacy\" + 0.001*\"procedure\" + '\n",
      "  '0.001*\"datum\" + 0.001*\"currency\" + 0.001*\"infrastructure\" + 0.001*\"sport\" + '\n",
      "  '0.001*\"task\" + 0.001*\"bond\" + 0.001*\"access\" + 0.001*\"ball\" + 0.000*\"debt\" '\n",
      "  '+ 0.000*\"technique\" + 0.000*\"rate\"'),\n",
      " (8,\n",
      "  '0.001*\"wage\" + 0.001*\"inflation\" + 0.001*\"blind_fund\" + '\n",
      "  '0.001*\"cryptocurrency\" + 0.001*\"operation\" + 0.001*\"redundancy\" + '\n",
      "  '0.001*\"rent\" + 0.001*\"article\" + 0.001*\"supply\" + 0.001*\"culture\" + '\n",
      "  '0.001*\"affordability\" + 0.001*\"inventory\" + 0.001*\"philosophy\" + '\n",
      "  '0.001*\"nurturing\" + 0.001*\"mailing\" + 0.001*\"flop\" + 0.001*\"demand\" + '\n",
      "  '0.000*\"personality\" + 0.000*\"sop\" + 0.000*\"freedom\" + 0.000*\"warehouse\" + '\n",
      "  '0.000*\"bucket\" + 0.000*\"officer\" + 0.000*\"vital_function\" + 0.000*\"faith\" + '\n",
      "  '0.000*\"workflow\" + 0.000*\"vendor\" + 0.000*\"vision\" + 0.000*\"cost\" + '\n",
      "  '0.000*\"alignment\"')]\n"
     ]
    }
   ],
   "source": [
    "optimal_model = model_list[4]\n",
    "model_topics = optimal_model.show_topics(formatted=False)\n",
    "pprint(optimal_model.print_topics(num_words=30))"
   ]
  },
  {
   "cell_type": "markdown",
   "id": "90f2d27b",
   "metadata": {},
   "source": [
    "### Topics Per Document"
   ]
  },
  {
   "cell_type": "code",
   "execution_count": 27,
   "id": "37468036",
   "metadata": {},
   "outputs": [
    {
     "data": {
      "text/html": [
       "<div>\n",
       "<style scoped>\n",
       "    .dataframe tbody tr th:only-of-type {\n",
       "        vertical-align: middle;\n",
       "    }\n",
       "\n",
       "    .dataframe tbody tr th {\n",
       "        vertical-align: top;\n",
       "    }\n",
       "\n",
       "    .dataframe thead th {\n",
       "        text-align: right;\n",
       "    }\n",
       "</style>\n",
       "<table border=\"1\" class=\"dataframe\">\n",
       "  <thead>\n",
       "    <tr style=\"text-align: right;\">\n",
       "      <th></th>\n",
       "      <th>Document_No</th>\n",
       "      <th>Dominant_Topic</th>\n",
       "      <th>Topic_Perc_Contrib</th>\n",
       "      <th>Keywords</th>\n",
       "      <th>Text</th>\n",
       "    </tr>\n",
       "  </thead>\n",
       "  <tbody>\n",
       "    <tr>\n",
       "      <th>0</th>\n",
       "      <td>0</td>\n",
       "      <td>5.0</td>\n",
       "      <td>0.9453</td>\n",
       "      <td>bond, thesis, supply, inflation, bitcoin, gold...</td>\n",
       "      <td>[thesis, scenario, scenario, fall, dollar, inv...</td>\n",
       "    </tr>\n",
       "    <tr>\n",
       "      <th>1</th>\n",
       "      <td>1</td>\n",
       "      <td>5.0</td>\n",
       "      <td>0.9461</td>\n",
       "      <td>bond, thesis, supply, inflation, bitcoin, gold...</td>\n",
       "      <td>[sale, capital, marketing, side, sale, side, m...</td>\n",
       "    </tr>\n",
       "    <tr>\n",
       "      <th>2</th>\n",
       "      <td>2</td>\n",
       "      <td>0.0</td>\n",
       "      <td>0.9425</td>\n",
       "      <td>ingo, bio, bond, motive, datum, sandwich, pizz...</td>\n",
       "      <td>[party, mean, engineer, brother, architect, he...</td>\n",
       "    </tr>\n",
       "    <tr>\n",
       "      <th>3</th>\n",
       "      <td>3</td>\n",
       "      <td>0.0</td>\n",
       "      <td>0.9202</td>\n",
       "      <td>ingo, bio, bond, motive, datum, sandwich, pizz...</td>\n",
       "      <td>[way, market, home, price, bubble, mean, price...</td>\n",
       "    </tr>\n",
       "    <tr>\n",
       "      <th>4</th>\n",
       "      <td>4</td>\n",
       "      <td>8.0</td>\n",
       "      <td>0.9491</td>\n",
       "      <td>wage, inflation, blind_fund, cryptocurrency, o...</td>\n",
       "      <td>[question, decision, fit, team, objective, met...</td>\n",
       "    </tr>\n",
       "    <tr>\n",
       "      <th>5</th>\n",
       "      <td>5</td>\n",
       "      <td>6.0</td>\n",
       "      <td>0.6315</td>\n",
       "      <td>bus, revenue, phase, land, pre_existing, opera...</td>\n",
       "      <td>[component, deal, know, acquisition, expense, ...</td>\n",
       "    </tr>\n",
       "    <tr>\n",
       "      <th>6</th>\n",
       "      <td>6</td>\n",
       "      <td>6.0</td>\n",
       "      <td>0.9495</td>\n",
       "      <td>bus, revenue, phase, land, pre_existing, opera...</td>\n",
       "      <td>[part, vision, vision, stacey, vision, questio...</td>\n",
       "    </tr>\n",
       "    <tr>\n",
       "      <th>7</th>\n",
       "      <td>7</td>\n",
       "      <td>8.0</td>\n",
       "      <td>0.9540</td>\n",
       "      <td>wage, inflation, blind_fund, cryptocurrency, o...</td>\n",
       "      <td>[question, question, time, student, mass, mass...</td>\n",
       "    </tr>\n",
       "    <tr>\n",
       "      <th>8</th>\n",
       "      <td>8</td>\n",
       "      <td>2.0</td>\n",
       "      <td>0.9487</td>\n",
       "      <td>bio, bond, impression, blueprint, task, webina...</td>\n",
       "      <td>[product, service, pool, marketing, dollar, au...</td>\n",
       "    </tr>\n",
       "    <tr>\n",
       "      <th>9</th>\n",
       "      <td>9</td>\n",
       "      <td>3.0</td>\n",
       "      <td>0.9504</td>\n",
       "      <td>bond, shotgun, yield, youtube, return, heartst...</td>\n",
       "      <td>[target, world, positioning, content, identify...</td>\n",
       "    </tr>\n",
       "  </tbody>\n",
       "</table>\n",
       "</div>"
      ],
      "text/plain": [
       "   Document_No  Dominant_Topic  Topic_Perc_Contrib  \\\n",
       "0            0             5.0              0.9453   \n",
       "1            1             5.0              0.9461   \n",
       "2            2             0.0              0.9425   \n",
       "3            3             0.0              0.9202   \n",
       "4            4             8.0              0.9491   \n",
       "5            5             6.0              0.6315   \n",
       "6            6             6.0              0.9495   \n",
       "7            7             8.0              0.9540   \n",
       "8            8             2.0              0.9487   \n",
       "9            9             3.0              0.9504   \n",
       "\n",
       "                                            Keywords  \\\n",
       "0  bond, thesis, supply, inflation, bitcoin, gold...   \n",
       "1  bond, thesis, supply, inflation, bitcoin, gold...   \n",
       "2  ingo, bio, bond, motive, datum, sandwich, pizz...   \n",
       "3  ingo, bio, bond, motive, datum, sandwich, pizz...   \n",
       "4  wage, inflation, blind_fund, cryptocurrency, o...   \n",
       "5  bus, revenue, phase, land, pre_existing, opera...   \n",
       "6  bus, revenue, phase, land, pre_existing, opera...   \n",
       "7  wage, inflation, blind_fund, cryptocurrency, o...   \n",
       "8  bio, bond, impression, blueprint, task, webina...   \n",
       "9  bond, shotgun, yield, youtube, return, heartst...   \n",
       "\n",
       "                                                Text  \n",
       "0  [thesis, scenario, scenario, fall, dollar, inv...  \n",
       "1  [sale, capital, marketing, side, sale, side, m...  \n",
       "2  [party, mean, engineer, brother, architect, he...  \n",
       "3  [way, market, home, price, bubble, mean, price...  \n",
       "4  [question, decision, fit, team, objective, met...  \n",
       "5  [component, deal, know, acquisition, expense, ...  \n",
       "6  [part, vision, vision, stacey, vision, questio...  \n",
       "7  [question, question, time, student, mass, mass...  \n",
       "8  [product, service, pool, marketing, dollar, au...  \n",
       "9  [target, world, positioning, content, identify...  "
      ]
     },
     "execution_count": 27,
     "metadata": {},
     "output_type": "execute_result"
    }
   ],
   "source": [
    "def format_topics_sentences(ldamodel=optimal_model, corpus=trans_TFIDF, texts=data_lemmatized):\n",
    "    # Init output\n",
    "    sent_topics_df = pd.DataFrame()\n",
    "\n",
    "    # Get main topic in each document\n",
    "    for i, row in enumerate(ldamodel[corpus]):\n",
    "        row = sorted(row, key=lambda x: (x[1]), reverse=True)\n",
    "        # Get the Dominant topic, Perc Contribution and Keywords for each document\n",
    "        for j, (topic_num, prop_topic) in enumerate(row):\n",
    "            if j == 0:  # => dominant topic\n",
    "                wp = ldamodel.show_topic(topic_num)\n",
    "                topic_keywords = \", \".join([word for word, prop in wp])\n",
    "                sent_topics_df = sent_topics_df.append(pd.Series([int(topic_num), round(prop_topic,4), topic_keywords]), ignore_index=True)\n",
    "            else:\n",
    "                break\n",
    "    sent_topics_df.columns = ['Dominant_Topic', 'Perc_Contribution', 'Topic_Keywords']\n",
    "\n",
    "    # Add original text to the end of the output\n",
    "    contents = pd.Series(texts)\n",
    "    sent_topics_df = pd.concat([sent_topics_df, contents], axis=1)\n",
    "    return(sent_topics_df)\n",
    "\n",
    "\n",
    "df_topic_sents_keywords = format_topics_sentences(ldamodel=optimal_model, corpus=trans_TFIDF, texts=data_lemmatized)\n",
    "\n",
    "# Format\n",
    "df_dominant_topic = df_topic_sents_keywords.reset_index()\n",
    "df_dominant_topic.columns = ['Document_No', 'Dominant_Topic', 'Topic_Perc_Contrib', 'Keywords', 'Text']\n",
    "\n",
    "# Show\n",
    "df_dominant_topic.head(10)"
   ]
  },
  {
   "cell_type": "code",
   "execution_count": 29,
   "id": "89c5708a",
   "metadata": {},
   "outputs": [],
   "source": [
    "df_dominant_topic.to_csv('topics_per_doc_cluster_2.csv')"
   ]
  },
  {
   "cell_type": "code",
   "execution_count": null,
   "id": "9cf43bff",
   "metadata": {},
   "outputs": [],
   "source": []
  }
 ],
 "metadata": {
  "kernelspec": {
   "display_name": "Python 3",
   "language": "python",
   "name": "python3"
  },
  "language_info": {
   "codemirror_mode": {
    "name": "ipython",
    "version": 3
   },
   "file_extension": ".py",
   "mimetype": "text/x-python",
   "name": "python",
   "nbconvert_exporter": "python",
   "pygments_lexer": "ipython3",
   "version": "3.7.4"
  }
 },
 "nbformat": 4,
 "nbformat_minor": 5
}
