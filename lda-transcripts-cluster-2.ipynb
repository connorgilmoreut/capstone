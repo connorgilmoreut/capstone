{
 "cells": [
  {
   "cell_type": "markdown",
   "id": "91140a61",
   "metadata": {},
   "source": [
    "# LDA Topic Model \n",
    "\n",
    "This code is pulled from:\n",
    "* https://www.machinelearningplus.com/nlp/topic-modeling-gensim-python/\n",
    "* https://highdemandskills.com/topic-modeling-lda/"
   ]
  },
  {
   "cell_type": "markdown",
   "id": "e15fb644",
   "metadata": {},
   "source": [
    "## Import Libraries"
   ]
  },
  {
   "cell_type": "code",
   "execution_count": 1,
   "id": "84b387c1",
   "metadata": {},
   "outputs": [],
   "source": [
    "import pandas as pd"
   ]
  },
  {
   "cell_type": "code",
   "execution_count": 2,
   "id": "53002cd2",
   "metadata": {},
   "outputs": [
    {
     "name": "stderr",
     "output_type": "stream",
     "text": [
      "[nltk_data] Downloading package stopwords to\n",
      "[nltk_data]     /Users/connorgilmore/nltk_data...\n",
      "[nltk_data]   Package stopwords is already up-to-date!\n"
     ]
    },
    {
     "data": {
      "text/plain": [
       "True"
      ]
     },
     "execution_count": 2,
     "metadata": {},
     "output_type": "execute_result"
    }
   ],
   "source": [
    "import nltk\n",
    "nltk.download('stopwords')"
   ]
  },
  {
   "cell_type": "code",
   "execution_count": 3,
   "id": "2b2656e8",
   "metadata": {},
   "outputs": [
    {
     "name": "stderr",
     "output_type": "stream",
     "text": [
      "/Users/connorgilmore/opt/anaconda3/lib/python3.7/site-packages/past/builtins/misc.py:4: DeprecationWarning: Using or importing the ABCs from 'collections' instead of from 'collections.abc' is deprecated, and in 3.8 it will stop working\n",
      "  from collections import Mapping\n"
     ]
    }
   ],
   "source": [
    "import re\n",
    "import numpy as np\n",
    "import pandas as pd\n",
    "from pprint import pprint\n",
    "\n",
    "\n",
    "# Gensim\n",
    "import gensim\n",
    "import gensim.corpora as corpora\n",
    "from gensim.utils import simple_preprocess\n",
    "from gensim.models import CoherenceModel\n",
    "from gensim import models\n",
    "\n",
    "# spacy for lemmatization\n",
    "import spacy\n",
    "\n",
    "# Plotting tools\n",
    "import pyLDAvis\n",
    "#import pyLDAvis.gensim  # don't skip this\n",
    "import pyLDAvis.gensim_models as gensimvis\n",
    "import matplotlib.pyplot as plt\n",
    "%matplotlib inline\n",
    "\n",
    "# Enable logging for gensim - optional\n",
    "import logging\n",
    "logging.basicConfig(format='%(asctime)s : %(levelname)s : %(message)s', level=logging.ERROR)\n",
    "\n",
    "import warnings\n",
    "warnings.filterwarnings(\"ignore\",category=DeprecationWarning)"
   ]
  },
  {
   "cell_type": "code",
   "execution_count": 4,
   "id": "beb1a321",
   "metadata": {},
   "outputs": [],
   "source": [
    "# NLTK Stop words\n",
    "from nltk.corpus import stopwords\n",
    "stop_words = stopwords.words('english')\n",
    "extended_stop_words = ['guys', 'syndicated', 'mentoring', 'syndicate', 'club', 'mentor', 'thing', 'people', 'really',\n",
    "                      'syndication', 'call', 'person', 'stuff']\n",
    "stop_words.extend(extended_stop_words)"
   ]
  },
  {
   "cell_type": "markdown",
   "id": "c78adeb3",
   "metadata": {},
   "source": [
    "## Import Data"
   ]
  },
  {
   "cell_type": "code",
   "execution_count": 5,
   "id": "28969bc8",
   "metadata": {},
   "outputs": [],
   "source": [
    "transcripts_df = pd.read_csv('documents_w_clusters.csv')"
   ]
  },
  {
   "cell_type": "code",
   "execution_count": 6,
   "id": "81b16f16",
   "metadata": {},
   "outputs": [
    {
     "data": {
      "text/html": [
       "<div>\n",
       "<style scoped>\n",
       "    .dataframe tbody tr th:only-of-type {\n",
       "        vertical-align: middle;\n",
       "    }\n",
       "\n",
       "    .dataframe tbody tr th {\n",
       "        vertical-align: top;\n",
       "    }\n",
       "\n",
       "    .dataframe thead th {\n",
       "        text-align: right;\n",
       "    }\n",
       "</style>\n",
       "<table border=\"1\" class=\"dataframe\">\n",
       "  <thead>\n",
       "    <tr style=\"text-align: right;\">\n",
       "      <th></th>\n",
       "      <th>Unnamed: 0</th>\n",
       "      <th>Unnamed: 0.1</th>\n",
       "      <th>file_name</th>\n",
       "      <th>contents</th>\n",
       "      <th>cleaned</th>\n",
       "      <th>lemmatized</th>\n",
       "      <th>no_of_words</th>\n",
       "      <th>cluster</th>\n",
       "      <th>x0</th>\n",
       "      <th>x1</th>\n",
       "    </tr>\n",
       "  </thead>\n",
       "  <tbody>\n",
       "    <tr>\n",
       "      <th>0</th>\n",
       "      <td>0</td>\n",
       "      <td>0</td>\n",
       "      <td>[UPDATED] PC - February 2021 - Mastermind with...</td>\n",
       "      <td>other hand if he says, You give me 5% of every...</td>\n",
       "      <td>hand says give everything dont get credit basi...</td>\n",
       "      <td>hand say not credit basic bread s different st...</td>\n",
       "      <td>3475</td>\n",
       "      <td>1</td>\n",
       "      <td>0.406383</td>\n",
       "      <td>-0.028027</td>\n",
       "    </tr>\n",
       "    <tr>\n",
       "      <th>1</th>\n",
       "      <td>1</td>\n",
       "      <td>1</td>\n",
       "      <td>April 8, 2021 - Ask the Mentors Q_A Call on De...</td>\n",
       "      <td>JO\\n\\noften, it's 100%, smokescreen, nobody li...</td>\n",
       "      <td>jo often smokescreen nobody likes idea commitm...</td>\n",
       "      <td>jo smokescreen like idea commitment general wa...</td>\n",
       "      <td>4444</td>\n",
       "      <td>0</td>\n",
       "      <td>-0.050892</td>\n",
       "      <td>0.176329</td>\n",
       "    </tr>\n",
       "    <tr>\n",
       "      <th>2</th>\n",
       "      <td>2</td>\n",
       "      <td>2</td>\n",
       "      <td>April 14, 2021 - Ask the Mentors Q_A Call on C...</td>\n",
       "      <td>JO\\n\\nJO\\n\\nbelieve in that, and then develop ...</td>\n",
       "      <td>jo jo believe develop investing thesis based s...</td>\n",
       "      <td>jo jo believe develop invest thesis base scena...</td>\n",
       "      <td>4931</td>\n",
       "      <td>2</td>\n",
       "      <td>-0.150166</td>\n",
       "      <td>-0.132726</td>\n",
       "    </tr>\n",
       "    <tr>\n",
       "      <th>3</th>\n",
       "      <td>3</td>\n",
       "      <td>3</td>\n",
       "      <td>April 2021 - Ask the Mentors Q_A Call on Busin...</td>\n",
       "      <td>JO\\n\\nyour investor questionnaire. So you can ...</td>\n",
       "      <td>jo investor questionnaire one one sales call a...</td>\n",
       "      <td>jo investor questionnaire sale actually raise ...</td>\n",
       "      <td>4229</td>\n",
       "      <td>2</td>\n",
       "      <td>-0.251402</td>\n",
       "      <td>-0.079161</td>\n",
       "    </tr>\n",
       "    <tr>\n",
       "      <th>4</th>\n",
       "      <td>4</td>\n",
       "      <td>4</td>\n",
       "      <td>April 2021 - Ask the Mentors Q_A Call on Sales...</td>\n",
       "      <td>©) Craig Kamman_ 30:35\\n\\nJO\\n\\nyes. Okay. So ...</td>\n",
       "      <td>© craig kamman jo yes okay youre dealing party...</td>\n",
       "      <td>© craig kamman jo yes okay deal party know mea...</td>\n",
       "      <td>4475</td>\n",
       "      <td>2</td>\n",
       "      <td>-0.207295</td>\n",
       "      <td>-0.133082</td>\n",
       "    </tr>\n",
       "  </tbody>\n",
       "</table>\n",
       "</div>"
      ],
      "text/plain": [
       "   Unnamed: 0  Unnamed: 0.1  \\\n",
       "0           0             0   \n",
       "1           1             1   \n",
       "2           2             2   \n",
       "3           3             3   \n",
       "4           4             4   \n",
       "\n",
       "                                           file_name  \\\n",
       "0  [UPDATED] PC - February 2021 - Mastermind with...   \n",
       "1  April 8, 2021 - Ask the Mentors Q_A Call on De...   \n",
       "2  April 14, 2021 - Ask the Mentors Q_A Call on C...   \n",
       "3  April 2021 - Ask the Mentors Q_A Call on Busin...   \n",
       "4  April 2021 - Ask the Mentors Q_A Call on Sales...   \n",
       "\n",
       "                                            contents  \\\n",
       "0  other hand if he says, You give me 5% of every...   \n",
       "1  JO\\n\\noften, it's 100%, smokescreen, nobody li...   \n",
       "2  JO\\n\\nJO\\n\\nbelieve in that, and then develop ...   \n",
       "3  JO\\n\\nyour investor questionnaire. So you can ...   \n",
       "4  ©) Craig Kamman_ 30:35\\n\\nJO\\n\\nyes. Okay. So ...   \n",
       "\n",
       "                                             cleaned  \\\n",
       "0  hand says give everything dont get credit basi...   \n",
       "1  jo often smokescreen nobody likes idea commitm...   \n",
       "2  jo jo believe develop investing thesis based s...   \n",
       "3  jo investor questionnaire one one sales call a...   \n",
       "4  © craig kamman jo yes okay youre dealing party...   \n",
       "\n",
       "                                          lemmatized  no_of_words  cluster  \\\n",
       "0  hand say not credit basic bread s different st...         3475        1   \n",
       "1  jo smokescreen like idea commitment general wa...         4444        0   \n",
       "2  jo jo believe develop invest thesis base scena...         4931        2   \n",
       "3  jo investor questionnaire sale actually raise ...         4229        2   \n",
       "4  © craig kamman jo yes okay deal party know mea...         4475        2   \n",
       "\n",
       "         x0        x1  \n",
       "0  0.406383 -0.028027  \n",
       "1 -0.050892  0.176329  \n",
       "2 -0.150166 -0.132726  \n",
       "3 -0.251402 -0.079161  \n",
       "4 -0.207295 -0.133082  "
      ]
     },
     "execution_count": 6,
     "metadata": {},
     "output_type": "execute_result"
    }
   ],
   "source": [
    "transcripts_df.head()"
   ]
  },
  {
   "cell_type": "code",
   "execution_count": 7,
   "id": "87551774",
   "metadata": {},
   "outputs": [],
   "source": [
    "mask = (transcripts_df['cluster'] == 2)\n",
    "transcripts_df = pd.DataFrame(transcripts_df[mask])"
   ]
  },
  {
   "cell_type": "markdown",
   "id": "545f3190",
   "metadata": {},
   "source": [
    "## Data Prep"
   ]
  },
  {
   "cell_type": "code",
   "execution_count": 8,
   "id": "349369ae",
   "metadata": {},
   "outputs": [],
   "source": [
    "data = transcripts_df['contents']\n",
    "def sent_to_words(sentences):\n",
    "    for sentence in sentences:\n",
    "        yield(gensim.utils.simple_preprocess(str(sentence), deacc=True))  # deacc=True removes punctuations\n",
    "\n",
    "data_words = list(sent_to_words(data))"
   ]
  },
  {
   "cell_type": "code",
   "execution_count": 9,
   "id": "181281f2",
   "metadata": {},
   "outputs": [],
   "source": [
    "# Build the bigram and trigram models\n",
    "bigram = gensim.models.Phrases(data_words, min_count=5, threshold=100) # higher threshold fewer phrases.\n",
    "trigram = gensim.models.Phrases(bigram[data_words], threshold=100)  \n",
    "\n",
    "# Faster way to get a sentence clubbed as a trigram/bigram\n",
    "bigram_mod = gensim.models.phrases.Phraser(bigram)\n",
    "trigram_mod = gensim.models.phrases.Phraser(trigram)"
   ]
  },
  {
   "cell_type": "code",
   "execution_count": 10,
   "id": "3051b499",
   "metadata": {},
   "outputs": [],
   "source": [
    "def remove_stopwords(texts):\n",
    "    return [[word for word in simple_preprocess(str(doc)) if word not in stop_words] for doc in texts]\n",
    "\n",
    "def remove_extra_stopwords(texts):\n",
    "    new_outer_list = []\n",
    "    for l in texts:\n",
    "        inner_list = []\n",
    "        for word in l:\n",
    "            if (word not in extended_stop_words):\n",
    "                inner_list.append(word)\n",
    "        new_outer_list.append(inner_list)\n",
    "    return new_outer_list \n",
    "\n",
    "def make_bigrams(texts):\n",
    "    return [bigram_mod[doc] for doc in texts]\n",
    "\n",
    "def make_trigrams(texts):\n",
    "    return [trigram_mod[bigram_mod[doc]] for doc in texts]\n",
    "\n",
    "def lemmatization(texts, allowed_postags=['NOUN']):\n",
    "    \"\"\"https://spacy.io/api/annotation\"\"\"\n",
    "    texts_out = []\n",
    "    for sent in texts:\n",
    "        doc = nlp(\" \".join(sent)) \n",
    "        texts_out.append([token.lemma_ for token in doc if token.pos_ in allowed_postags])\n",
    "    return texts_out"
   ]
  },
  {
   "cell_type": "code",
   "execution_count": 11,
   "id": "8f898ed3",
   "metadata": {},
   "outputs": [],
   "source": [
    "# Remove Stop Words\n",
    "data_words_nostops = remove_stopwords(data_words)\n",
    "data_words_nostops = remove_extra_stopwords(data_words_nostops)\n",
    "\n",
    "# Form Bigrams\n",
    "data_words_bigrams = make_bigrams(data_words_nostops)\n",
    "\n",
    "# Initialize spacy 'en' model, keeping only tagger component (for efficiency)\n",
    "# python3 -m spacy download en\n",
    "#nlp = spacy.load('en', disable=['parser', 'ner'])\n",
    "nlp = spacy.load(\"en_core_web_sm\", disable=['parser', 'ner'])\n",
    "\n",
    "# Do lemmatization keeping only noun, adj, vb, adv\n",
    "data_lemmatized = lemmatization(data_words_bigrams, allowed_postags=['NOUN'])"
   ]
  },
  {
   "cell_type": "markdown",
   "id": "ed20ab13",
   "metadata": {},
   "source": [
    "## LDA"
   ]
  },
  {
   "cell_type": "code",
   "execution_count": 12,
   "id": "2f51d76a",
   "metadata": {},
   "outputs": [],
   "source": [
    "# Create Dictionary\n",
    "id2word = corpora.Dictionary(data_lemmatized)\n",
    "\n",
    "# Create Corpus\n",
    "texts = data_lemmatized\n",
    "\n",
    "# Term Document Frequency\n",
    "corpus = [id2word.doc2bow(text) for text in texts]"
   ]
  },
  {
   "cell_type": "code",
   "execution_count": 13,
   "id": "fc4e73f6",
   "metadata": {},
   "outputs": [],
   "source": [
    "TFIDF = models.TfidfModel(corpus) # Fit TF-IDF model\n",
    "trans_TFIDF = TFIDF[corpus]"
   ]
  },
  {
   "cell_type": "code",
   "execution_count": 14,
   "id": "2f6a6edd",
   "metadata": {},
   "outputs": [],
   "source": [
    "def compute_coherence_values(dictionary, corpus, texts, limit, start=2, step=3):\n",
    "    \"\"\"\n",
    "    Compute c_v coherence for various number of topics\n",
    "\n",
    "    Parameters:\n",
    "    ----------\n",
    "    dictionary : Gensim dictionary\n",
    "    corpus : Gensim corpus\n",
    "    texts : List of input texts\n",
    "    limit : Max num of topics\n",
    "\n",
    "    Returns:\n",
    "    -------\n",
    "    model_list : List of LDA topic models\n",
    "    coherence_values : Coherence values corresponding to the LDA model with respective number of topics\n",
    "    \"\"\"\n",
    "    coherence_values = []\n",
    "    model_list = []\n",
    "    i = start \n",
    "    for num_topics in range(start, limit, step):\n",
    "        #model = gensim.models.wrappers.LdaMallet(mallet_path, corpus=corpus, num_topics=num_topics, id2word=id2word)\n",
    "        model = lda_model = gensim.models.ldamodel.LdaModel(corpus=corpus, id2word=id2word, num_topics=num_topics)\n",
    "        model_list.append(model)\n",
    "        coherencemodel = CoherenceModel(model=model, texts=texts, dictionary=dictionary, coherence='c_v')\n",
    "        coherence_values.append(coherencemodel.get_coherence())\n",
    "        print('Model ', i , ' Completed')\n",
    "        i += 1\n",
    "\n",
    "    return model_list, coherence_values"
   ]
  },
  {
   "cell_type": "code",
   "execution_count": 15,
   "id": "9da0aded",
   "metadata": {},
   "outputs": [
    {
     "name": "stdout",
     "output_type": "stream",
     "text": [
      "Model  5  Completed\n",
      "Model  6  Completed\n",
      "Model  7  Completed\n",
      "Model  8  Completed\n",
      "Model  9  Completed\n",
      "Model  10  Completed\n",
      "Model  11  Completed\n",
      "Model  12  Completed\n",
      "Model  13  Completed\n",
      "Model  14  Completed\n",
      "Model  15  Completed\n",
      "Model  16  Completed\n",
      "Model  17  Completed\n",
      "Model  18  Completed\n",
      "Model  19  Completed\n"
     ]
    }
   ],
   "source": [
    "model_list, coherence_values = compute_coherence_values(dictionary=id2word, corpus=trans_TFIDF, texts=data_lemmatized, \n",
    "                                                        start=5, limit=20, step=1)"
   ]
  },
  {
   "cell_type": "markdown",
   "id": "1d4e2357",
   "metadata": {},
   "source": [
    "## Visualize Performance Metrics"
   ]
  },
  {
   "cell_type": "code",
   "execution_count": 16,
   "id": "26b25fdd",
   "metadata": {},
   "outputs": [
    {
     "data": {
      "image/png": "[encoded data removed]",
      "text/plain": [
       "<Figure size 432x288 with 1 Axes>"
      ]
     },
     "metadata": {
      "needs_background": "light"
     },
     "output_type": "display_data"
    }
   ],
   "source": [
    "limit=20; start=5; step=1;\n",
    "x = range(start, limit, step)\n",
    "plt.plot(x, coherence_values)\n",
    "plt.xlabel(\"Num Topics\")\n",
    "plt.ylabel(\"Coherence score\")\n",
    "plt.legend((\"coherence_values\"), loc='best')\n",
    "plt.show()"
   ]
  },
  {
   "cell_type": "code",
   "execution_count": 17,
   "id": "34540491",
   "metadata": {},
   "outputs": [
    {
     "name": "stdout",
     "output_type": "stream",
     "text": [
      "Num Topics = 5  has Coherence Value of 0.4486\n",
      "Num Topics = 6  has Coherence Value of 0.433\n",
      "Num Topics = 7  has Coherence Value of 0.4371\n",
      "Num Topics = 8  has Coherence Value of 0.4548\n",
      "Num Topics = 9  has Coherence Value of 0.4435\n",
      "Num Topics = 10  has Coherence Value of 0.4732\n",
      "Num Topics = 11  has Coherence Value of 0.4361\n",
      "Num Topics = 12  has Coherence Value of 0.4433\n",
      "Num Topics = 13  has Coherence Value of 0.4428\n",
      "Num Topics = 14  has Coherence Value of 0.419\n",
      "Num Topics = 15  has Coherence Value of 0.4425\n",
      "Num Topics = 16  has Coherence Value of 0.4226\n",
      "Num Topics = 17  has Coherence Value of 0.4814\n",
      "Num Topics = 18  has Coherence Value of 0.4362\n",
      "Num Topics = 19  has Coherence Value of 0.425\n"
     ]
    }
   ],
   "source": [
    "for m, cv in zip(x, coherence_values):\n",
    "    print(\"Num Topics =\", m, \" has Coherence Value of\", round(cv, 4))"
   ]
  },
  {
   "cell_type": "markdown",
   "id": "f7d06254",
   "metadata": {},
   "source": [
    "Optimal Model"
   ]
  },
  {
   "cell_type": "code",
   "execution_count": 18,
   "id": "cbe767ce",
   "metadata": {},
   "outputs": [
    {
     "name": "stdout",
     "output_type": "stream",
     "text": [
      "[(0,\n",
      "  '0.001*\"bus\" + 0.001*\"phase\" + 0.001*\"revenue\" + 0.001*\"breath\" + '\n",
      "  '0.001*\"launch\" + 0.001*\"capital\" + 0.001*\"biggest_mistake\" + '\n",
      "  '0.001*\"breathing\" + 0.001*\"donation\" + 0.001*\"round\" + 0.001*\"ride\" + '\n",
      "  '0.001*\"tech\" + 0.001*\"baby\" + 0.001*\"exit\" + 0.001*\"cash\" + 0.001*\"bone\" + '\n",
      "  '0.000*\"land\" + 0.000*\"oxygen\" + 0.000*\"profit\" + 0.000*\"debt\" + '\n",
      "  '0.000*\"meat\" + 0.000*\"operation\" + 0.000*\"import\" + 0.000*\"penetration\" + '\n",
      "  '0.000*\"model\" + 0.000*\"target\" + 0.000*\"bowl\" + 0.000*\"visibility\" + '\n",
      "  '0.000*\"margin\" + 0.000*\"city\"'),\n",
      " (1,\n",
      "  '0.001*\"procedure\" + 0.001*\"webinar\" + 0.001*\"task\" + 0.001*\"document\" + '\n",
      "  '0.001*\"blueprint\" + 0.001*\"impression\" + 0.001*\"operator\" + '\n",
      "  '0.001*\"operation\" + 0.001*\"salesforce\" + 0.001*\"standard_operating\" + '\n",
      "  '0.001*\"password\" + 0.001*\"grab\" + 0.001*\"branch\" + 0.001*\"discovery\" + '\n",
      "  '0.001*\"stacy\" + 0.001*\"contact\" + 0.001*\"cpa\" + 0.001*\"year_amortization\" + '\n",
      "  '0.001*\"system\" + 0.001*\"video\" + 0.001*\"assurance\" + 0.001*\"privacy\" + '\n",
      "  '0.001*\"mute\" + 0.001*\"contingency\" + 0.001*\"character\" + 0.001*\"attorney\" + '\n",
      "  '0.001*\"awareness\" + 0.001*\"entity\" + 0.001*\"permission\" + 0.001*\"datum\"'),\n",
      " (2,\n",
      "  '0.001*\"farm\" + 0.001*\"vote\" + 0.001*\"database\" + 0.001*\"typewriter\" + '\n",
      "  '0.001*\"lender\" + 0.001*\"loan\" + 0.001*\"stock\" + 0.001*\"blind_fund\" + '\n",
      "  '0.001*\"commitment\" + 0.001*\"cpa\" + 0.001*\"benefit\" + 0.001*\"debt\" + '\n",
      "  '0.001*\"rent\" + 0.001*\"endorsement\" + 0.001*\"research\" + 0.001*\"commodity\" + '\n",
      "  '0.001*\"network\" + 0.001*\"slot\" + 0.001*\"philosophy\" + 0.001*\"stimulus\" + '\n",
      "  '0.001*\"food\" + 0.001*\"introduction\" + 0.001*\"card\" + 0.001*\"brokering\" + '\n",
      "  '0.001*\"touch\" + 0.001*\"loyalty\" + 0.001*\"voter\" + 0.001*\"nurturing\" + '\n",
      "  '0.001*\"mailing\" + 0.001*\"pencil\"'),\n",
      " (3,\n",
      "  '0.002*\"bond\" + 0.001*\"inflation\" + 0.001*\"silver\" + 0.001*\"precious_metal\" '\n",
      "  '+ 0.001*\"repo_market\" + 0.001*\"bitcoin\" + 0.001*\"headline\" + 0.001*\"demand\" '\n",
      "  '+ 0.001*\"supply\" + 0.001*\"metal\" + 0.001*\"yield\" + 0.001*\"gold\" + '\n",
      "  '0.001*\"dollar\" + 0.001*\"currency\" + 0.001*\"debt\" + 0.001*\"price\" + '\n",
      "  '0.001*\"interest_rate\" + 0.001*\"energy\" + 0.001*\"wave\" + 0.001*\"return\" + '\n",
      "  '0.001*\"stock\" + 0.001*\"startup\" + 0.001*\"government\" + 0.001*\"news\" + '\n",
      "  '0.001*\"expense\" + 0.001*\"demographic\" + 0.001*\"rate\" + 0.001*\"equity\" + '\n",
      "  '0.001*\"hedge\" + 0.001*\"cash\"'),\n",
      " (4,\n",
      "  '0.001*\"ingo\" + 0.001*\"bond\" + 0.001*\"suite\" + 0.001*\"datum\" + 0.001*\"sop\" + '\n",
      "  '0.001*\"pandemic\" + 0.001*\"file\" + 0.001*\"youtube\" + 0.001*\"drive\" + '\n",
      "  '0.001*\"gmail\" + 0.001*\"shotgun\" + 0.001*\"home_price\" + 0.001*\"chart\" + '\n",
      "  '0.001*\"blueprint\" + 0.001*\"cpa\" + 0.001*\"culture\" + 0.001*\"procedure\" + '\n",
      "  '0.001*\"yield\" + 0.001*\"printer\" + 0.001*\"stacy\" + 0.001*\"operation\" + '\n",
      "  '0.001*\"rent\" + 0.001*\"bucket\" + 0.001*\"ratio\" + 0.001*\"breach\" + '\n",
      "  '0.001*\"return\" + 0.001*\"page\" + 0.001*\"google_drive\" + 0.001*\"stacey\" + '\n",
      "  '0.001*\"system\"'),\n",
      " (5,\n",
      "  '0.001*\"wage\" + 0.001*\"cryptocurrency\" + 0.001*\"inflation\" + 0.001*\"rent\" + '\n",
      "  '0.001*\"supply\" + 0.001*\"affordability\" + 0.000*\"inventory\" + '\n",
      "  '0.000*\"article\" + 0.000*\"demand\" + 0.000*\"location\" + 0.000*\"comp\" + '\n",
      "  '0.000*\"millionaire\" + 0.000*\"safety\" + 0.000*\"beneficiary\" + 0.000*\"ounce\" '\n",
      "  '+ 0.000*\"state\" + 0.000*\"homeowner\" + 0.000*\"mandate\" + 0.000*\"container\" + '\n",
      "  '0.000*\"virus\" + 0.000*\"videotape\" + 0.000*\"migration\" + 0.000*\"bubble\" + '\n",
      "  '0.000*\"cost\" + 0.000*\"price\" + 0.000*\"poverty\" + 0.000*\"vaccine\" + '\n",
      "  '0.000*\"shut\" + 0.000*\"granite\" + 0.000*\"laminate\"'),\n",
      " (6,\n",
      "  '0.001*\"lumber\" + 0.001*\"supply\" + 0.001*\"objection\" + 0.001*\"motive\" + '\n",
      "  '0.001*\"dollar_middleman\" + 0.001*\"war\" + 0.001*\"bubble\" + 0.001*\"budget\" + '\n",
      "  '0.001*\"positioning\" + 0.001*\"congregation\" + 0.001*\"influencer\" + '\n",
      "  '0.001*\"basic\" + 0.001*\"tax\" + 0.001*\"pipeline\" + 0.001*\"biggest_mistake\" + '\n",
      "  '0.001*\"cox\" + 0.001*\"proof\" + 0.001*\"cpa\" + 0.001*\"stereotype\" + '\n",
      "  '0.001*\"land\" + 0.001*\"pizza\" + 0.001*\"agreement\" + 0.001*\"plex\" + '\n",
      "  '0.000*\"network\" + 0.000*\"negotiation\" + 0.000*\"shipping\" + 0.000*\"debt\" + '\n",
      "  '0.000*\"page\" + 0.000*\"demand\" + 0.000*\"inflation\"'),\n",
      " (7,\n",
      "  '0.002*\"bio\" + 0.002*\"bond\" + 0.001*\"yield\" + 0.001*\"summer\" + '\n",
      "  '0.001*\"engagement\" + 0.001*\"currency\" + 0.001*\"dollar\" + 0.001*\"cgi\" + '\n",
      "  '0.001*\"blend\" + 0.001*\"debt\" + 0.001*\"impression\" + 0.001*\"rate\" + '\n",
      "  '0.001*\"concert\" + 0.001*\"safety\" + 0.001*\"salespeople\" + 0.001*\"funnel\" + '\n",
      "  '0.001*\"podcast\" + 0.001*\"rhythm\" + 0.001*\"realtor\" + 0.001*\"journey\" + '\n",
      "  '0.001*\"curve\" + 0.001*\"evidence\" + 0.001*\"concern\" + 0.001*\"lifting\" + '\n",
      "  '0.001*\"feedback\" + 0.001*\"compatibility\" + 0.001*\"finder\" + '\n",
      "  '0.001*\"government\" + 0.001*\"inflation\" + 0.000*\"hypothetical\"'),\n",
      " (8,\n",
      "  '0.000*\"debt\" + 0.000*\"curve\" + 0.000*\"dollar\" + 0.000*\"currency\" + '\n",
      "  '0.000*\"government\" + 0.000*\"precious_metal\" + 0.000*\"bond\" + 0.000*\"rate\" + '\n",
      "  '0.000*\"inflation\" + 0.000*\"thesis\" + 0.000*\"chute\" + 0.000*\"startup\" + '\n",
      "  '0.000*\"expense\" + 0.000*\"demand\" + 0.000*\"core\" + 0.000*\"oil\" + '\n",
      "  '0.000*\"input\" + 0.000*\"metal\" + 0.000*\"dovetail\" + 0.000*\"pension\" + '\n",
      "  '0.000*\"operation\" + 0.000*\"subsidy\" + 0.000*\"flag\" + 0.000*\"taxis\" + '\n",
      "  '0.000*\"adjust\" + 0.000*\"reset\" + 0.000*\"army\" + 0.000*\"earthquake\" + '\n",
      "  '0.000*\"print\" + 0.000*\"treasury\"'),\n",
      " (9,\n",
      "  '0.001*\"thesis\" + 0.001*\"operation\" + 0.001*\"pre_existing\" + 0.001*\"lane\" + '\n",
      "  '0.001*\"synergy\" + 0.001*\"calendar\" + 0.001*\"operator\" + 0.001*\"influencer\" '\n",
      "  '+ 0.001*\"survival\" + 0.001*\"infrastructure\" + 0.001*\"investor_portal\" + '\n",
      "  '0.001*\"premise\" + 0.001*\"culture\" + 0.001*\"football\" + 0.001*\"conclusion\" + '\n",
      "  '0.001*\"yield\" + 0.001*\"church\" + 0.001*\"metric\" + 0.001*\"officer\" + '\n",
      "  '0.001*\"currency\" + 0.001*\"priority\" + 0.001*\"gold\" + 0.001*\"blockchain\" + '\n",
      "  '0.001*\"flop\" + 0.001*\"sport\" + 0.001*\"author\" + 0.001*\"technology\" + '\n",
      "  '0.001*\"software\" + 0.001*\"solution\" + 0.001*\"mvp\"')]\n"
     ]
    }
   ],
   "source": [
    "optimal_model = model_list[5]\n",
    "model_topics = optimal_model.show_topics(formatted=False)\n",
    "pprint(optimal_model.print_topics(num_words=30))"
   ]
  },
  {
   "cell_type": "code",
   "execution_count": null,
   "id": "9fd23257",
   "metadata": {},
   "outputs": [],
   "source": []
  }
 ],
 "metadata": {
  "kernelspec": {
   "display_name": "Python 3",
   "language": "python",
   "name": "python3"
  },
  "language_info": {
   "codemirror_mode": {
    "name": "ipython",
    "version": 3
   },
   "file_extension": ".py",
   "mimetype": "text/x-python",
   "name": "python",
   "nbconvert_exporter": "python",
   "pygments_lexer": "ipython3",
   "version": "3.7.4"
  }
 },
 "nbformat": 4,
 "nbformat_minor": 5
}
