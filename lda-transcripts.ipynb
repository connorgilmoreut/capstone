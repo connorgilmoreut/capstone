{
 "cells": [
  {
   "cell_type": "markdown",
   "id": "a06b4261",
   "metadata": {},
   "source": [
    "# LDA Topic Model \n",
    "\n",
    "This code is pulled from https://www.machinelearningplus.com/nlp/topic-modeling-gensim-python/. \n",
    "\n",
    "We apply an LDA Topic Model to reviews of companies on Glassdoor to understand what topics/categories people talk about when describing their work place / work experience.  "
   ]
  },
  {
   "cell_type": "markdown",
   "id": "276e5a75",
   "metadata": {},
   "source": [
    "## Import Libraries"
   ]
  },
  {
   "cell_type": "code",
   "execution_count": 1,
   "id": "3a4b8d9c",
   "metadata": {},
   "outputs": [],
   "source": [
    "import pandas as pd"
   ]
  },
  {
   "cell_type": "code",
   "execution_count": 2,
   "id": "715e7661",
   "metadata": {},
   "outputs": [
    {
     "name": "stderr",
     "output_type": "stream",
     "text": [
      "[nltk_data] Downloading package stopwords to\n",
      "[nltk_data]     /Users/connorgilmore/nltk_data...\n",
      "[nltk_data]   Package stopwords is already up-to-date!\n"
     ]
    },
    {
     "data": {
      "text/plain": [
       "True"
      ]
     },
     "execution_count": 2,
     "metadata": {},
     "output_type": "execute_result"
    }
   ],
   "source": [
    "import nltk\n",
    "nltk.download('stopwords')"
   ]
  },
  {
   "cell_type": "code",
   "execution_count": 3,
   "id": "c1024dd5",
   "metadata": {},
   "outputs": [
    {
     "name": "stderr",
     "output_type": "stream",
     "text": [
      "/Users/connorgilmore/opt/anaconda3/lib/python3.7/site-packages/past/builtins/misc.py:4: DeprecationWarning: Using or importing the ABCs from 'collections' instead of from 'collections.abc' is deprecated, and in 3.8 it will stop working\n",
      "  from collections import Mapping\n"
     ]
    }
   ],
   "source": [
    "import re\n",
    "import numpy as np\n",
    "import pandas as pd\n",
    "from pprint import pprint\n",
    "\n",
    "\n",
    "# Gensim\n",
    "import gensim\n",
    "import gensim.corpora as corpora\n",
    "from gensim.utils import simple_preprocess\n",
    "from gensim.models import CoherenceModel\n",
    "\n",
    "# spacy for lemmatization\n",
    "import spacy\n",
    "\n",
    "# Plotting tools\n",
    "import pyLDAvis\n",
    "#import pyLDAvis.gensim  # don't skip this\n",
    "import pyLDAvis.gensim_models as gensimvis\n",
    "import matplotlib.pyplot as plt\n",
    "%matplotlib inline\n",
    "\n",
    "# Enable logging for gensim - optional\n",
    "import logging\n",
    "logging.basicConfig(format='%(asctime)s : %(levelname)s : %(message)s', level=logging.ERROR)\n",
    "\n",
    "import warnings\n",
    "warnings.filterwarnings(\"ignore\",category=DeprecationWarning)"
   ]
  },
  {
   "cell_type": "code",
   "execution_count": 19,
   "id": "20ac68b9",
   "metadata": {},
   "outputs": [],
   "source": [
    "# NLTK Stop words\n",
    "from nltk.corpus import stopwords\n",
    "stop_words = stopwords.words('english')\n",
    "extended_stop_words = ['guys', 'syndicated', 'mentoring', 'syndicate', 'club', 'mentor', 'thing', 'people', 'really',\n",
    "                      'syndication', 'call', 'person', 'stuff']\n",
    "stop_words.extend(extended_stop_words)"
   ]
  },
  {
   "cell_type": "markdown",
   "id": "d88da710",
   "metadata": {},
   "source": [
    "## Import Data"
   ]
  },
  {
   "cell_type": "code",
   "execution_count": 20,
   "id": "c88adfba",
   "metadata": {},
   "outputs": [],
   "source": [
    "transcripts_df = pd.read_csv('transcripts_df.csv')"
   ]
  },
  {
   "cell_type": "code",
   "execution_count": 21,
   "id": "37068316",
   "metadata": {},
   "outputs": [
    {
     "data": {
      "text/html": [
       "<div>\n",
       "<style scoped>\n",
       "    .dataframe tbody tr th:only-of-type {\n",
       "        vertical-align: middle;\n",
       "    }\n",
       "\n",
       "    .dataframe tbody tr th {\n",
       "        vertical-align: top;\n",
       "    }\n",
       "\n",
       "    .dataframe thead th {\n",
       "        text-align: right;\n",
       "    }\n",
       "</style>\n",
       "<table border=\"1\" class=\"dataframe\">\n",
       "  <thead>\n",
       "    <tr style=\"text-align: right;\">\n",
       "      <th></th>\n",
       "      <th>Unnamed: 0</th>\n",
       "      <th>file_name</th>\n",
       "      <th>contents</th>\n",
       "    </tr>\n",
       "  </thead>\n",
       "  <tbody>\n",
       "    <tr>\n",
       "      <th>0</th>\n",
       "      <td>0</td>\n",
       "      <td>[UPDATED] PC - February 2021 - Mastermind with...</td>\n",
       "      <td>other hand if he says, You give me 5% of every...</td>\n",
       "    </tr>\n",
       "    <tr>\n",
       "      <th>1</th>\n",
       "      <td>1</td>\n",
       "      <td>April 8, 2021 - Ask the Mentors Q_A Call on De...</td>\n",
       "      <td>JO\\n\\noften, it's 100%, smokescreen, nobody li...</td>\n",
       "    </tr>\n",
       "    <tr>\n",
       "      <th>2</th>\n",
       "      <td>2</td>\n",
       "      <td>April 14, 2021 - Ask the Mentors Q_A Call on C...</td>\n",
       "      <td>JO\\n\\nJO\\n\\nbelieve in that, and then develop ...</td>\n",
       "    </tr>\n",
       "    <tr>\n",
       "      <th>3</th>\n",
       "      <td>3</td>\n",
       "      <td>April 2021 - Ask the Mentors Q_A Call on Busin...</td>\n",
       "      <td>JO\\n\\nyour investor questionnaire. So you can ...</td>\n",
       "    </tr>\n",
       "    <tr>\n",
       "      <th>4</th>\n",
       "      <td>4</td>\n",
       "      <td>April 2021 - Ask the Mentors Q_A Call on Sales...</td>\n",
       "      <td>©) Craig Kamman_ 30:35\\n\\nJO\\n\\nyes. Okay. So ...</td>\n",
       "    </tr>\n",
       "  </tbody>\n",
       "</table>\n",
       "</div>"
      ],
      "text/plain": [
       "   Unnamed: 0                                          file_name  \\\n",
       "0           0  [UPDATED] PC - February 2021 - Mastermind with...   \n",
       "1           1  April 8, 2021 - Ask the Mentors Q_A Call on De...   \n",
       "2           2  April 14, 2021 - Ask the Mentors Q_A Call on C...   \n",
       "3           3  April 2021 - Ask the Mentors Q_A Call on Busin...   \n",
       "4           4  April 2021 - Ask the Mentors Q_A Call on Sales...   \n",
       "\n",
       "                                            contents  \n",
       "0  other hand if he says, You give me 5% of every...  \n",
       "1  JO\\n\\noften, it's 100%, smokescreen, nobody li...  \n",
       "2  JO\\n\\nJO\\n\\nbelieve in that, and then develop ...  \n",
       "3  JO\\n\\nyour investor questionnaire. So you can ...  \n",
       "4  ©) Craig Kamman_ 30:35\\n\\nJO\\n\\nyes. Okay. So ...  "
      ]
     },
     "execution_count": 21,
     "metadata": {},
     "output_type": "execute_result"
    }
   ],
   "source": [
    "transcripts_df.head()"
   ]
  },
  {
   "cell_type": "markdown",
   "id": "9bd128c7",
   "metadata": {},
   "source": [
    "## Data Prep"
   ]
  },
  {
   "cell_type": "code",
   "execution_count": 22,
   "id": "0481817b",
   "metadata": {},
   "outputs": [],
   "source": [
    "data = transcripts_df['contents']\n",
    "def sent_to_words(sentences):\n",
    "    for sentence in sentences:\n",
    "        yield(gensim.utils.simple_preprocess(str(sentence), deacc=True))  # deacc=True removes punctuations\n",
    "\n",
    "data_words = list(sent_to_words(data))"
   ]
  },
  {
   "cell_type": "code",
   "execution_count": 23,
   "id": "3aa463d2",
   "metadata": {},
   "outputs": [],
   "source": [
    "# Build the bigram and trigram models\n",
    "bigram = gensim.models.Phrases(data_words, min_count=5, threshold=100) # higher threshold fewer phrases.\n",
    "trigram = gensim.models.Phrases(bigram[data_words], threshold=100)  \n",
    "\n",
    "# Faster way to get a sentence clubbed as a trigram/bigram\n",
    "bigram_mod = gensim.models.phrases.Phraser(bigram)\n",
    "trigram_mod = gensim.models.phrases.Phraser(trigram)"
   ]
  },
  {
   "cell_type": "code",
   "execution_count": 40,
   "id": "03cce7f8",
   "metadata": {},
   "outputs": [],
   "source": [
    "def remove_stopwords(texts):\n",
    "    return [[word for word in simple_preprocess(str(doc)) if word not in stop_words] for doc in texts]\n",
    "\n",
    "def remove_extra_stopwords(texts):\n",
    "    new_outer_list = []\n",
    "    for l in texts:\n",
    "        inner_list = []\n",
    "        for word in l:\n",
    "            if (word not in extended_stop_words):\n",
    "                inner_list.append(word)\n",
    "        new_outer_list.append(inner_list)\n",
    "    return new_outer_list \n",
    "        \n",
    "\n",
    "def make_bigrams(texts):\n",
    "    return [bigram_mod[doc] for doc in texts]\n",
    "\n",
    "def make_trigrams(texts):\n",
    "    return [trigram_mod[bigram_mod[doc]] for doc in texts]\n",
    "\n",
    "def lemmatization(texts, allowed_postags=['NOUN']):\n",
    "    \"\"\"https://spacy.io/api/annotation\"\"\"\n",
    "    texts_out = []\n",
    "    for sent in texts:\n",
    "        doc = nlp(\" \".join(sent)) \n",
    "        texts_out.append([token.lemma_ for token in doc if token.pos_ in allowed_postags])\n",
    "    return texts_out"
   ]
  },
  {
   "cell_type": "code",
   "execution_count": 53,
   "id": "cf5743d3",
   "metadata": {},
   "outputs": [],
   "source": [
    "# Remove Stop Words\n",
    "data_words_nostops = remove_stopwords(data_words)\n",
    "\n",
    "# Form Bigrams\n",
    "data_words_bigrams = make_bigrams(data_words_nostops)\n",
    "\n",
    "# Initialize spacy 'en' model, keeping only tagger component (for efficiency)\n",
    "# python3 -m spacy download en\n",
    "#nlp = spacy.load('en', disable=['parser', 'ner'])\n",
    "nlp = spacy.load(\"en_core_web_sm\", disable=['parser', 'ner'])\n",
    "\n",
    "# Do lemmatization keeping only noun, adj, vb, adv\n",
    "data_lemmatized = lemmatization(data_words_bigrams, allowed_postags=['NOUN'])\n",
    "\n",
    "data_lemmatized = remove_extra_stopwords(data_lemmatized)"
   ]
  },
  {
   "cell_type": "markdown",
   "id": "a5efded6",
   "metadata": {},
   "source": [
    "## LDA"
   ]
  },
  {
   "cell_type": "code",
   "execution_count": 54,
   "id": "d604f073",
   "metadata": {},
   "outputs": [],
   "source": [
    "# Create Dictionary\n",
    "id2word = corpora.Dictionary(data_lemmatized)\n",
    "\n",
    "# Create Corpus\n",
    "texts = data_lemmatized\n",
    "\n",
    "# Term Document Frequency\n",
    "corpus = [id2word.doc2bow(text) for text in texts]"
   ]
  },
  {
   "cell_type": "code",
   "execution_count": 55,
   "id": "eb9fcf10",
   "metadata": {},
   "outputs": [],
   "source": [
    "def compute_coherence_values(dictionary, corpus, texts, limit, start=2, step=3):\n",
    "    \"\"\"\n",
    "    Compute c_v coherence for various number of topics\n",
    "\n",
    "    Parameters:\n",
    "    ----------\n",
    "    dictionary : Gensim dictionary\n",
    "    corpus : Gensim corpus\n",
    "    texts : List of input texts\n",
    "    limit : Max num of topics\n",
    "\n",
    "    Returns:\n",
    "    -------\n",
    "    model_list : List of LDA topic models\n",
    "    coherence_values : Coherence values corresponding to the LDA model with respective number of topics\n",
    "    \"\"\"\n",
    "    coherence_values = []\n",
    "    model_list = []\n",
    "    for num_topics in range(start, limit, step):\n",
    "        #model = gensim.models.wrappers.LdaMallet(mallet_path, corpus=corpus, num_topics=num_topics, id2word=id2word)\n",
    "        model = lda_model = gensim.models.ldamodel.LdaModel(corpus=corpus, id2word=id2word, num_topics=num_topics)\n",
    "        model_list.append(model)\n",
    "        coherencemodel = CoherenceModel(model=model, texts=texts, dictionary=dictionary, coherence='c_v')\n",
    "        coherence_values.append(coherencemodel.get_coherence())\n",
    "\n",
    "    return model_list, coherence_values"
   ]
  },
  {
   "cell_type": "code",
   "execution_count": 56,
   "id": "b28b1cfd",
   "metadata": {},
   "outputs": [],
   "source": [
    "model_list, coherence_values = compute_coherence_values(dictionary=id2word, corpus=corpus, texts=data_lemmatized, start=5, limit=10, step=1)"
   ]
  },
  {
   "cell_type": "markdown",
   "id": "ffc89380",
   "metadata": {},
   "source": [
    "## Visualize Performance Metrics"
   ]
  },
  {
   "cell_type": "code",
   "execution_count": 57,
   "id": "4488baf5",
   "metadata": {},
   "outputs": [
    {
     "data": {
      "image/png": "[encoded data removed]",
      "text/plain": [
       "<Figure size 432x288 with 1 Axes>"
      ]
     },
     "metadata": {
      "needs_background": "light"
     },
     "output_type": "display_data"
    }
   ],
   "source": [
    "limit=10; start=5; step=1;\n",
    "x = range(start, limit, step)\n",
    "plt.plot(x, coherence_values)\n",
    "plt.xlabel(\"Num Topics\")\n",
    "plt.ylabel(\"Coherence score\")\n",
    "plt.legend((\"coherence_values\"), loc='best')\n",
    "plt.show()"
   ]
  },
  {
   "cell_type": "code",
   "execution_count": 58,
   "id": "41a4f65e",
   "metadata": {},
   "outputs": [
    {
     "name": "stdout",
     "output_type": "stream",
     "text": [
      "Num Topics = 5  has Coherence Value of 0.2329\n",
      "Num Topics = 6  has Coherence Value of 0.2314\n",
      "Num Topics = 7  has Coherence Value of 0.2313\n",
      "Num Topics = 8  has Coherence Value of 0.2325\n",
      "Num Topics = 9  has Coherence Value of 0.2307\n"
     ]
    }
   ],
   "source": [
    "for m, cv in zip(x, coherence_values):\n",
    "    print(\"Num Topics =\", m, \" has Coherence Value of\", round(cv, 4))"
   ]
  },
  {
   "cell_type": "markdown",
   "id": "8bb1b592",
   "metadata": {},
   "source": [
    "Optimal Model"
   ]
  },
  {
   "cell_type": "code",
   "execution_count": 59,
   "id": "d540f86c",
   "metadata": {},
   "outputs": [
    {
     "name": "stdout",
     "output_type": "stream",
     "text": [
      "[(0,\n",
      "  '0.023*\"deal\" + 0.018*\"money\" + 0.015*\"investor\" + 0.014*\"property\" + '\n",
      "  '0.014*\"question\" + 0.013*\"time\" + 0.012*\"business\" + 0.011*\"year\" + '\n",
      "  '0.010*\"way\" + 0.009*\"point\" + 0.008*\"lot\" + 0.007*\"problem\" + 0.006*\"work\" '\n",
      "  '+ 0.006*\"project\" + 0.006*\"kind\" + 0.005*\"building\" + 0.005*\"want\" + '\n",
      "  '0.005*\"part\" + 0.005*\"value\" + 0.005*\"number\" + 0.005*\"loan\" + '\n",
      "  '0.005*\"market\" + 0.004*\"tax\" + 0.004*\"structure\" + 0.004*\"company\" + '\n",
      "  '0.004*\"fund\" + 0.004*\"day\" + 0.004*\"investment\" + 0.004*\"team\" + '\n",
      "  '0.004*\"situation\"'),\n",
      " (1,\n",
      "  '0.021*\"question\" + 0.015*\"money\" + 0.014*\"time\" + 0.014*\"lot\" + 0.013*\"way\" '\n",
      "  '+ 0.011*\"deal\" + 0.011*\"year\" + 0.011*\"business\" + 0.010*\"point\" + '\n",
      "  '0.009*\"investor\" + 0.007*\"property\" + 0.007*\"problem\" + 0.007*\"market\" + '\n",
      "  '0.007*\"work\" + 0.006*\"tax\" + 0.006*\"part\" + 0.006*\"know\" + 0.005*\"number\" + '\n",
      "  '0.005*\"want\" + 0.005*\"value\" + 0.005*\"kind\" + 0.005*\"price\" + '\n",
      "  '0.005*\"conversation\" + 0.004*\"team\" + 0.004*\"company\" + 0.004*\"day\" + '\n",
      "  '0.004*\"risk\" + 0.004*\"talk\" + 0.004*\"structure\" + 0.004*\"sale\"'),\n",
      " (2,\n",
      "  '0.018*\"time\" + 0.018*\"question\" + 0.016*\"money\" + 0.014*\"market\" + '\n",
      "  '0.012*\"business\" + 0.011*\"lot\" + 0.011*\"investor\" + 0.011*\"way\" + '\n",
      "  '0.010*\"deal\" + 0.009*\"point\" + 0.008*\"work\" + 0.008*\"property\" + '\n",
      "  '0.007*\"year\" + 0.007*\"part\" + 0.007*\"number\" + 0.005*\"problem\" + '\n",
      "  '0.005*\"loan\" + 0.005*\"kind\" + 0.005*\"project\" + 0.005*\"company\" + '\n",
      "  '0.005*\"day\" + 0.005*\"risk\" + 0.004*\"know\" + 0.004*\"want\" + 0.004*\"value\" + '\n",
      "  '0.004*\"reason\" + 0.004*\"investment\" + 0.004*\"fact\" + 0.004*\"conversation\" + '\n",
      "  '0.004*\"price\"'),\n",
      " (3,\n",
      "  '0.016*\"time\" + 0.014*\"deal\" + 0.014*\"money\" + 0.014*\"year\" + 0.014*\"lot\" + '\n",
      "  '0.013*\"property\" + 0.013*\"investor\" + 0.012*\"market\" + 0.012*\"business\" + '\n",
      "  '0.011*\"question\" + 0.009*\"way\" + 0.008*\"work\" + 0.007*\"point\" + '\n",
      "  '0.007*\"part\" + 0.006*\"problem\" + 0.006*\"price\" + 0.005*\"kind\" + '\n",
      "  '0.005*\"loan\" + 0.005*\"value\" + 0.005*\"project\" + 0.005*\"day\" + '\n",
      "  '0.004*\"income\" + 0.004*\"building\" + 0.004*\"know\" + 0.004*\"relationship\" + '\n",
      "  '0.004*\"want\" + 0.004*\"bank\" + 0.004*\"idea\" + 0.004*\"job\" + 0.004*\"today\"'),\n",
      " (4,\n",
      "  '0.018*\"time\" + 0.015*\"question\" + 0.014*\"deal\" + 0.013*\"lot\" + '\n",
      "  '0.013*\"money\" + 0.011*\"business\" + 0.011*\"way\" + 0.010*\"investor\" + '\n",
      "  '0.010*\"market\" + 0.010*\"point\" + 0.009*\"property\" + 0.008*\"work\" + '\n",
      "  '0.008*\"year\" + 0.007*\"part\" + 0.007*\"problem\" + 0.005*\"number\" + '\n",
      "  '0.005*\"loan\" + 0.005*\"value\" + 0.005*\"lender\" + 0.005*\"want\" + 0.005*\"pay\" '\n",
      "  '+ 0.005*\"kind\" + 0.005*\"talk\" + 0.005*\"project\" + 0.004*\"know\" + '\n",
      "  '0.004*\"idea\" + 0.004*\"price\" + 0.004*\"company\" + 0.004*\"situation\" + '\n",
      "  '0.004*\"relationship\"'),\n",
      " (5,\n",
      "  '0.019*\"deal\" + 0.016*\"time\" + 0.016*\"question\" + 0.014*\"lot\" + '\n",
      "  '0.014*\"money\" + 0.013*\"investor\" + 0.010*\"point\" + 0.010*\"way\" + '\n",
      "  '0.010*\"year\" + 0.009*\"property\" + 0.008*\"want\" + 0.006*\"business\" + '\n",
      "  '0.006*\"part\" + 0.005*\"know\" + 0.005*\"market\" + 0.005*\"number\" + '\n",
      "  '0.005*\"conversation\" + 0.005*\"work\" + 0.005*\"loan\" + 0.005*\"talk\" + '\n",
      "  '0.005*\"kind\" + 0.004*\"risk\" + 0.004*\"relationship\" + 0.004*\"problem\" + '\n",
      "  '0.004*\"company\" + 0.004*\"equity\" + 0.004*\"sale\" + 0.004*\"value\" + '\n",
      "  '0.004*\"day\" + 0.004*\"lender\"'),\n",
      " (6,\n",
      "  '0.018*\"question\" + 0.018*\"time\" + 0.015*\"way\" + 0.014*\"business\" + '\n",
      "  '0.014*\"lot\" + 0.014*\"deal\" + 0.014*\"money\" + 0.011*\"investor\" + '\n",
      "  '0.009*\"property\" + 0.009*\"work\" + 0.008*\"part\" + 0.008*\"point\" + '\n",
      "  '0.008*\"year\" + 0.007*\"tax\" + 0.007*\"team\" + 0.007*\"problem\" + '\n",
      "  '0.006*\"company\" + 0.006*\"sale\" + 0.005*\"want\" + 0.005*\"building\" + '\n",
      "  '0.005*\"idea\" + 0.005*\"project\" + 0.005*\"value\" + 0.005*\"market\" + '\n",
      "  '0.005*\"kind\" + 0.005*\"number\" + 0.005*\"figure\" + 0.004*\"know\" + '\n",
      "  '0.004*\"process\" + 0.004*\"structure\"'),\n",
      " (7,\n",
      "  '0.022*\"deal\" + 0.018*\"question\" + 0.018*\"time\" + 0.015*\"lot\" + '\n",
      "  '0.012*\"business\" + 0.011*\"property\" + 0.011*\"investor\" + 0.010*\"way\" + '\n",
      "  '0.010*\"money\" + 0.008*\"point\" + 0.008*\"market\" + 0.007*\"problem\" + '\n",
      "  '0.007*\"year\" + 0.006*\"part\" + 0.006*\"talk\" + 0.005*\"want\" + 0.005*\"know\" + '\n",
      "  '0.005*\"day\" + 0.005*\"company\" + 0.005*\"kind\" + 0.005*\"value\" + 0.004*\"work\" '\n",
      "  '+ 0.004*\"tax\" + 0.004*\"conversation\" + 0.004*\"number\" + 0.004*\"world\" + '\n",
      "  '0.004*\"investment\" + 0.004*\"price\" + 0.004*\"equity\" + 0.004*\"loan\"')]\n"
     ]
    }
   ],
   "source": [
    "optimal_model = model_list[3]\n",
    "model_topics = optimal_model.show_topics(formatted=False)\n",
    "pprint(optimal_model.print_topics(num_words=30))"
   ]
  },
  {
   "cell_type": "code",
   "execution_count": 32,
   "id": "fc8c993a",
   "metadata": {},
   "outputs": [
    {
     "name": "stdout",
     "output_type": "stream",
     "text": [
      "[(0,\n",
      "  '0.017*\"question\" + 0.015*\"money\" + 0.014*\"lot\" + 0.013*\"thing\" + '\n",
      "  '0.013*\"deal\" + 0.011*\"way\" + 0.011*\"year\" + 0.011*\"time\" + 0.009*\"investor\" '\n",
      "  '+ 0.009*\"business\" + 0.009*\"work\" + 0.008*\"property\" + 0.007*\"part\" + '\n",
      "  '0.007*\"kind\" + 0.006*\"number\" + 0.006*\"point\" + 0.006*\"day\" + '\n",
      "  '0.006*\"market\" + 0.006*\"tax\" + 0.005*\"want\" + 0.005*\"know\" + 0.005*\"loan\" + '\n",
      "  '0.004*\"talk\" + 0.004*\"sale\" + 0.004*\"value\" + 0.004*\"conversation\" + '\n",
      "  '0.004*\"team\" + 0.004*\"idea\" + 0.004*\"problem\" + 0.004*\"project\"'),\n",
      " (1,\n",
      "  '0.018*\"question\" + 0.018*\"thing\" + 0.018*\"money\" + 0.017*\"time\" + '\n",
      "  '0.016*\"deal\" + 0.012*\"business\" + 0.011*\"investor\" + 0.010*\"lot\" + '\n",
      "  '0.009*\"way\" + 0.008*\"tax\" + 0.008*\"part\" + 0.008*\"year\" + 0.008*\"problem\" + '\n",
      "  '0.007*\"work\" + 0.006*\"market\" + 0.006*\"property\" + 0.006*\"point\" + '\n",
      "  '0.006*\"know\" + 0.005*\"number\" + 0.005*\"kind\" + 0.005*\"value\" + 0.005*\"team\" '\n",
      "  '+ 0.005*\"want\" + 0.005*\"company\" + 0.005*\"day\" + 0.005*\"figure\" + '\n",
      "  '0.004*\"conversation\" + 0.004*\"process\" + 0.004*\"sale\" + 0.004*\"world\"'),\n",
      " (2,\n",
      "  '0.017*\"time\" + 0.015*\"deal\" + 0.015*\"money\" + 0.014*\"way\" + 0.013*\"lot\" + '\n",
      "  '0.013*\"question\" + 0.013*\"thing\" + 0.011*\"business\" + 0.010*\"investor\" + '\n",
      "  '0.009*\"year\" + 0.009*\"market\" + 0.009*\"property\" + 0.009*\"tax\" + '\n",
      "  '0.009*\"point\" + 0.008*\"problem\" + 0.006*\"value\" + 0.006*\"work\" + '\n",
      "  '0.005*\"number\" + 0.005*\"building\" + 0.005*\"know\" + 0.005*\"idea\" + '\n",
      "  '0.005*\"want\" + 0.004*\"fact\" + 0.004*\"loan\" + 0.004*\"company\" + '\n",
      "  '0.004*\"answer\" + 0.004*\"project\" + 0.004*\"day\" + 0.004*\"kind\" + '\n",
      "  '0.004*\"pay\"'),\n",
      " (3,\n",
      "  '0.019*\"question\" + 0.016*\"money\" + 0.016*\"time\" + 0.016*\"lot\" + '\n",
      "  '0.015*\"deal\" + 0.014*\"thing\" + 0.013*\"investor\" + 0.013*\"way\" + '\n",
      "  '0.011*\"point\" + 0.010*\"market\" + 0.009*\"business\" + 0.007*\"year\" + '\n",
      "  '0.007*\"property\" + 0.006*\"project\" + 0.006*\"work\" + 0.006*\"kind\" + '\n",
      "  '0.006*\"part\" + 0.005*\"want\" + 0.005*\"problem\" + 0.004*\"company\" + '\n",
      "  '0.004*\"value\" + 0.004*\"conversation\" + 0.004*\"relationship\" + 0.004*\"team\" '\n",
      "  '+ 0.004*\"talk\" + 0.004*\"investment\" + 0.004*\"loan\" + 0.004*\"number\" + '\n",
      "  '0.004*\"building\" + 0.004*\"know\"'),\n",
      " (4,\n",
      "  '0.017*\"time\" + 0.017*\"business\" + 0.015*\"question\" + 0.012*\"money\" + '\n",
      "  '0.012*\"investor\" + 0.012*\"deal\" + 0.011*\"thing\" + 0.011*\"lot\" + 0.011*\"way\" '\n",
      "  '+ 0.011*\"property\" + 0.008*\"point\" + 0.008*\"work\" + 0.008*\"want\" + '\n",
      "  '0.007*\"year\" + 0.006*\"value\" + 0.006*\"part\" + 0.006*\"market\" + '\n",
      "  '0.006*\"price\" + 0.006*\"problem\" + 0.005*\"know\" + 0.005*\"sale\" + '\n",
      "  '0.005*\"team\" + 0.005*\"building\" + 0.004*\"conversation\" + 0.004*\"day\" + '\n",
      "  '0.004*\"project\" + 0.004*\"idea\" + 0.004*\"company\" + 0.004*\"kind\" + '\n",
      "  '0.004*\"investment\"'),\n",
      " (5,\n",
      "  '0.017*\"time\" + 0.015*\"deal\" + 0.015*\"lot\" + 0.014*\"business\" + '\n",
      "  '0.014*\"question\" + 0.013*\"property\" + 0.013*\"way\" + 0.012*\"year\" + '\n",
      "  '0.012*\"money\" + 0.012*\"thing\" + 0.010*\"investor\" + 0.009*\"work\" + '\n",
      "  '0.009*\"market\" + 0.008*\"point\" + 0.007*\"part\" + 0.007*\"problem\" + '\n",
      "  '0.006*\"company\" + 0.005*\"value\" + 0.005*\"number\" + 0.005*\"tax\" + '\n",
      "  '0.005*\"talk\" + 0.005*\"know\" + 0.005*\"want\" + 0.005*\"building\" + '\n",
      "  '0.004*\"loan\" + 0.004*\"fact\" + 0.004*\"kind\" + 0.004*\"pay\" + 0.004*\"lender\" + '\n",
      "  '0.004*\"price\"'),\n",
      " (6,\n",
      "  '0.018*\"question\" + 0.016*\"time\" + 0.016*\"deal\" + 0.015*\"business\" + '\n",
      "  '0.015*\"way\" + 0.012*\"lot\" + 0.012*\"investor\" + 0.011*\"thing\" + '\n",
      "  '0.010*\"money\" + 0.009*\"property\" + 0.008*\"work\" + 0.007*\"year\" + '\n",
      "  '0.007*\"point\" + 0.005*\"part\" + 0.005*\"want\" + 0.005*\"kind\" + '\n",
      "  '0.005*\"company\" + 0.005*\"number\" + 0.005*\"problem\" + 0.005*\"relationship\" + '\n",
      "  '0.005*\"team\" + 0.005*\"market\" + 0.004*\"day\" + 0.004*\"idea\" + 0.004*\"loan\" + '\n",
      "  '0.004*\"talk\" + 0.004*\"tax\" + 0.004*\"conversation\" + 0.004*\"structure\" + '\n",
      "  '0.004*\"know\"'),\n",
      " (7,\n",
      "  '0.018*\"time\" + 0.018*\"deal\" + 0.015*\"money\" + 0.014*\"question\" + '\n",
      "  '0.013*\"investor\" + 0.012*\"lot\" + 0.012*\"business\" + 0.012*\"thing\" + '\n",
      "  '0.011*\"property\" + 0.010*\"market\" + 0.009*\"point\" + 0.008*\"way\" + '\n",
      "  '0.008*\"year\" + 0.007*\"problem\" + 0.007*\"work\" + 0.006*\"part\" + '\n",
      "  '0.006*\"project\" + 0.006*\"risk\" + 0.006*\"loan\" + 0.005*\"want\" + '\n",
      "  '0.005*\"company\" + 0.004*\"day\" + 0.004*\"price\" + 0.004*\"know\" + 0.004*\"talk\" '\n",
      "  '+ 0.004*\"idea\" + 0.004*\"building\" + 0.004*\"kind\" + 0.004*\"conversation\" + '\n",
      "  '0.004*\"relationship\"'),\n",
      " (8,\n",
      "  '0.019*\"deal\" + 0.019*\"question\" + 0.018*\"time\" + 0.016*\"property\" + '\n",
      "  '0.012*\"investor\" + 0.012*\"money\" + 0.012*\"lot\" + 0.011*\"year\" + '\n",
      "  '0.011*\"point\" + 0.011*\"thing\" + 0.010*\"business\" + 0.009*\"way\" + '\n",
      "  '0.009*\"problem\" + 0.008*\"part\" + 0.007*\"market\" + 0.007*\"work\" + '\n",
      "  '0.006*\"day\" + 0.005*\"price\" + 0.005*\"loan\" + 0.005*\"kind\" + 0.005*\"know\" + '\n",
      "  '0.004*\"building\" + 0.004*\"project\" + 0.004*\"talk\" + 0.004*\"value\" + '\n",
      "  '0.004*\"idea\" + 0.004*\"company\" + 0.004*\"team\" + 0.004*\"want\" + '\n",
      "  '0.004*\"situation\"'),\n",
      " (9,\n",
      "  '0.017*\"time\" + 0.015*\"question\" + 0.013*\"money\" + 0.013*\"deal\" + '\n",
      "  '0.012*\"lot\" + 0.012*\"way\" + 0.011*\"point\" + 0.010*\"investor\" + '\n",
      "  '0.009*\"business\" + 0.009*\"market\" + 0.009*\"property\" + 0.009*\"year\" + '\n",
      "  '0.008*\"thing\" + 0.007*\"number\" + 0.006*\"work\" + 0.006*\"part\" + '\n",
      "  '0.006*\"problem\" + 0.006*\"want\" + 0.005*\"building\" + 0.005*\"price\" + '\n",
      "  '0.005*\"know\" + 0.005*\"company\" + 0.004*\"talk\" + 0.004*\"idea\" + '\n",
      "  '0.004*\"project\" + 0.004*\"contract\" + 0.004*\"kind\" + 0.004*\"relationship\" + '\n",
      "  '0.004*\"tax\" + 0.004*\"month\"')]\n"
     ]
    }
   ],
   "source": [
    "lda_model = gensim.models.ldamodel.LdaModel(corpus=corpus, id2word=id2word, num_topics=10)\n",
    "model_topics = lda_model.show_topics(formatted=False)\n",
    "pprint(lda_model.print_topics(num_words=30))"
   ]
  },
  {
   "cell_type": "markdown",
   "id": "26d5626c",
   "metadata": {},
   "source": [
    "## Get Topic Distribution"
   ]
  },
  {
   "cell_type": "code",
   "execution_count": null,
   "id": "99a11b07",
   "metadata": {},
   "outputs": [],
   "source": [
    "ldaModel.get_document_topics(bagOfWordOfADocument, minimum_probability=0.0)"
   ]
  }
 ],
 "metadata": {
  "kernelspec": {
   "display_name": "Python 3",
   "language": "python",
   "name": "python3"
  },
  "language_info": {
   "codemirror_mode": {
    "name": "ipython",
    "version": 3
   },
   "file_extension": ".py",
   "mimetype": "text/x-python",
   "name": "python",
   "nbconvert_exporter": "python",
   "pygments_lexer": "ipython3",
   "version": "3.7.4"
  }
 },
 "nbformat": 4,
 "nbformat_minor": 5
}
