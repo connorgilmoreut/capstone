{
 "cells": [
  {
   "cell_type": "markdown",
   "id": "3a632a08",
   "metadata": {},
   "source": [
    "# LDA Topic Model \n",
    "\n",
    "This code is pulled from https://www.machinelearningplus.com/nlp/topic-modeling-gensim-python/. "
   ]
  },
  {
   "cell_type": "markdown",
   "id": "3947a020",
   "metadata": {},
   "source": [
    "## Import Libraries"
   ]
  },
  {
   "cell_type": "code",
   "execution_count": 56,
   "id": "865fdd64",
   "metadata": {},
   "outputs": [],
   "source": [
    "import pandas as pd"
   ]
  },
  {
   "cell_type": "code",
   "execution_count": 57,
   "id": "6c6f1be8",
   "metadata": {},
   "outputs": [
    {
     "name": "stderr",
     "output_type": "stream",
     "text": [
      "[nltk_data] Downloading package stopwords to\n",
      "[nltk_data]     /Users/connorgilmore/nltk_data...\n",
      "[nltk_data]   Package stopwords is already up-to-date!\n"
     ]
    },
    {
     "data": {
      "text/plain": [
       "True"
      ]
     },
     "execution_count": 57,
     "metadata": {},
     "output_type": "execute_result"
    }
   ],
   "source": [
    "import nltk\n",
    "nltk.download('stopwords')"
   ]
  },
  {
   "cell_type": "code",
   "execution_count": 69,
   "id": "609906ed",
   "metadata": {},
   "outputs": [],
   "source": [
    "import re\n",
    "import numpy as np\n",
    "import pandas as pd\n",
    "from pprint import pprint\n",
    "\n",
    "\n",
    "# Gensim\n",
    "import gensim\n",
    "import gensim.corpora as corpora\n",
    "from gensim.utils import simple_preprocess\n",
    "from gensim.models import CoherenceModel\n",
    "from gensim import models\n",
    "\n",
    "# spacy for lemmatization\n",
    "import spacy\n",
    "\n",
    "# Plotting tools\n",
    "import pyLDAvis\n",
    "#import pyLDAvis.gensim  # don't skip this\n",
    "import pyLDAvis.gensim_models as gensimvis\n",
    "import matplotlib.pyplot as plt\n",
    "%matplotlib inline\n",
    "\n",
    "# Enable logging for gensim - optional\n",
    "import logging\n",
    "logging.basicConfig(format='%(asctime)s : %(levelname)s : %(message)s', level=logging.ERROR)\n",
    "\n",
    "import warnings\n",
    "warnings.filterwarnings(\"ignore\",category=DeprecationWarning)"
   ]
  },
  {
   "cell_type": "code",
   "execution_count": 59,
   "id": "a0049103",
   "metadata": {},
   "outputs": [],
   "source": [
    "# NLTK Stop words\n",
    "from nltk.corpus import stopwords\n",
    "stop_words = stopwords.words('english')\n",
    "extended_stop_words = ['guys', 'syndicated', 'mentoring', 'syndicate', 'club', 'mentor', 'thing', 'people', 'really',\n",
    "                      'syndication', 'call', 'person', 'stuff']\n",
    "stop_words.extend(extended_stop_words)"
   ]
  },
  {
   "cell_type": "markdown",
   "id": "8d387bcb",
   "metadata": {},
   "source": [
    "## Import Data"
   ]
  },
  {
   "cell_type": "code",
   "execution_count": 60,
   "id": "56517c7e",
   "metadata": {},
   "outputs": [],
   "source": [
    "transcripts_df = pd.read_csv('transcripts_df.csv')"
   ]
  },
  {
   "cell_type": "code",
   "execution_count": 61,
   "id": "b4daa7d3",
   "metadata": {},
   "outputs": [
    {
     "data": {
      "text/html": [
       "<div>\n",
       "<style scoped>\n",
       "    .dataframe tbody tr th:only-of-type {\n",
       "        vertical-align: middle;\n",
       "    }\n",
       "\n",
       "    .dataframe tbody tr th {\n",
       "        vertical-align: top;\n",
       "    }\n",
       "\n",
       "    .dataframe thead th {\n",
       "        text-align: right;\n",
       "    }\n",
       "</style>\n",
       "<table border=\"1\" class=\"dataframe\">\n",
       "  <thead>\n",
       "    <tr style=\"text-align: right;\">\n",
       "      <th></th>\n",
       "      <th>Unnamed: 0</th>\n",
       "      <th>file_name</th>\n",
       "      <th>contents</th>\n",
       "    </tr>\n",
       "  </thead>\n",
       "  <tbody>\n",
       "    <tr>\n",
       "      <th>0</th>\n",
       "      <td>0</td>\n",
       "      <td>[UPDATED] PC - February 2021 - Mastermind with...</td>\n",
       "      <td>other hand if he says, You give me 5% of every...</td>\n",
       "    </tr>\n",
       "    <tr>\n",
       "      <th>1</th>\n",
       "      <td>1</td>\n",
       "      <td>April 8, 2021 - Ask the Mentors Q_A Call on De...</td>\n",
       "      <td>JO\\n\\noften, it's 100%, smokescreen, nobody li...</td>\n",
       "    </tr>\n",
       "    <tr>\n",
       "      <th>2</th>\n",
       "      <td>2</td>\n",
       "      <td>April 14, 2021 - Ask the Mentors Q_A Call on C...</td>\n",
       "      <td>JO\\n\\nJO\\n\\nbelieve in that, and then develop ...</td>\n",
       "    </tr>\n",
       "    <tr>\n",
       "      <th>3</th>\n",
       "      <td>3</td>\n",
       "      <td>April 2021 - Ask the Mentors Q_A Call on Busin...</td>\n",
       "      <td>JO\\n\\nyour investor questionnaire. So you can ...</td>\n",
       "    </tr>\n",
       "    <tr>\n",
       "      <th>4</th>\n",
       "      <td>4</td>\n",
       "      <td>April 2021 - Ask the Mentors Q_A Call on Sales...</td>\n",
       "      <td>©) Craig Kamman_ 30:35\\n\\nJO\\n\\nyes. Okay. So ...</td>\n",
       "    </tr>\n",
       "  </tbody>\n",
       "</table>\n",
       "</div>"
      ],
      "text/plain": [
       "   Unnamed: 0                                          file_name  \\\n",
       "0           0  [UPDATED] PC - February 2021 - Mastermind with...   \n",
       "1           1  April 8, 2021 - Ask the Mentors Q_A Call on De...   \n",
       "2           2  April 14, 2021 - Ask the Mentors Q_A Call on C...   \n",
       "3           3  April 2021 - Ask the Mentors Q_A Call on Busin...   \n",
       "4           4  April 2021 - Ask the Mentors Q_A Call on Sales...   \n",
       "\n",
       "                                            contents  \n",
       "0  other hand if he says, You give me 5% of every...  \n",
       "1  JO\\n\\noften, it's 100%, smokescreen, nobody li...  \n",
       "2  JO\\n\\nJO\\n\\nbelieve in that, and then develop ...  \n",
       "3  JO\\n\\nyour investor questionnaire. So you can ...  \n",
       "4  ©) Craig Kamman_ 30:35\\n\\nJO\\n\\nyes. Okay. So ...  "
      ]
     },
     "execution_count": 61,
     "metadata": {},
     "output_type": "execute_result"
    }
   ],
   "source": [
    "transcripts_df.head()"
   ]
  },
  {
   "cell_type": "code",
   "execution_count": 62,
   "id": "e769fa3b",
   "metadata": {},
   "outputs": [],
   "source": [
    "with open('real_estate_terms.txt') as f:\n",
    "    real_estate_raw = [line.rstrip() for line in f]"
   ]
  },
  {
   "cell_type": "markdown",
   "id": "7521a7ef",
   "metadata": {},
   "source": [
    "## Data Prep"
   ]
  },
  {
   "cell_type": "code",
   "execution_count": 63,
   "id": "82a74b1d",
   "metadata": {},
   "outputs": [],
   "source": [
    "real_estate_terms = []\n",
    "for word in real_estate_raw:\n",
    "    word = word.lower()\n",
    "    word = word.replace(\"-\", \"_\")\n",
    "    if (' ' in word):\n",
    "        words = word.split()\n",
    "        new_word = '_'.join(words)\n",
    "        real_estate_terms.append(new_word)\n",
    "    else:\n",
    "        real_estate_terms.append(word)"
   ]
  },
  {
   "cell_type": "code",
   "execution_count": 64,
   "id": "a01afb25",
   "metadata": {},
   "outputs": [],
   "source": [
    "data = transcripts_df['contents']\n",
    "def sent_to_words(sentences):\n",
    "    for sentence in sentences:\n",
    "        yield(gensim.utils.simple_preprocess(str(sentence), deacc=True))  # deacc=True removes punctuations\n",
    "\n",
    "data_words = list(sent_to_words(data))"
   ]
  },
  {
   "cell_type": "code",
   "execution_count": 65,
   "id": "a5c67dce",
   "metadata": {},
   "outputs": [],
   "source": [
    "# Build the bigram and trigram models\n",
    "bigram = gensim.models.Phrases(data_words, min_count=5, threshold=100) # higher threshold fewer phrases.\n",
    "trigram = gensim.models.Phrases(bigram[data_words], threshold=100)  \n",
    "\n",
    "# Faster way to get a sentence clubbed as a trigram/bigram\n",
    "bigram_mod = gensim.models.phrases.Phraser(bigram)\n",
    "trigram_mod = gensim.models.phrases.Phraser(trigram)"
   ]
  },
  {
   "cell_type": "code",
   "execution_count": 66,
   "id": "6c401b40",
   "metadata": {},
   "outputs": [],
   "source": [
    "def remove_stopwords(texts):\n",
    "    return [[word for word in simple_preprocess(str(doc)) if word not in stop_words] for doc in texts]\n",
    "\n",
    "def remove_extra_stopwords(texts):\n",
    "    new_outer_list = []\n",
    "    for l in texts:\n",
    "        inner_list = []\n",
    "        for word in l:\n",
    "            if (word not in extended_stop_words):\n",
    "                inner_list.append(word)\n",
    "        new_outer_list.append(inner_list)\n",
    "    return new_outer_list \n",
    "\n",
    "def keep_real_estate_terms(texts):\n",
    "    new_outer_list = []\n",
    "    for l in texts:\n",
    "        inner_list = []\n",
    "        for word in l:\n",
    "            if (word in real_estate_terms):\n",
    "                inner_list.append(word)\n",
    "        new_outer_list.append(inner_list)\n",
    "    return new_outer_list \n",
    "        \n",
    "def make_bigrams(texts):\n",
    "    return [bigram_mod[doc] for doc in texts]\n",
    "\n",
    "def make_trigrams(texts):\n",
    "    return [trigram_mod[bigram_mod[doc]] for doc in texts]\n",
    "\n",
    "def lemmatization(texts, allowed_postags=['NOUN']):\n",
    "    \"\"\"https://spacy.io/api/annotation\"\"\"\n",
    "    texts_out = []\n",
    "    for sent in texts:\n",
    "        doc = nlp(\" \".join(sent)) \n",
    "        texts_out.append([token.lemma_ for token in doc if token.pos_ in allowed_postags])\n",
    "    return texts_out"
   ]
  },
  {
   "cell_type": "code",
   "execution_count": 67,
   "id": "12126075",
   "metadata": {},
   "outputs": [],
   "source": [
    "# Remove Stop Words\n",
    "data_words_nostops = remove_stopwords(data_words)\n",
    "data_words_nostops = remove_extra_stopwords(data_words_nostops)\n",
    "#data_words_nostops = keep_real_estate_terms(data_words_nostops)\n",
    "\n",
    "# Form Bigrams\n",
    "data_words_bigrams = make_bigrams(data_words_nostops)\n",
    "\n",
    "# Initialize spacy 'en' model, keeping only tagger component (for efficiency)\n",
    "# python3 -m spacy download en\n",
    "#nlp = spacy.load('en', disable=['parser', 'ner'])\n",
    "nlp = spacy.load(\"en_core_web_sm\", disable=['parser', 'ner'])\n",
    "\n",
    "# Do lemmatization keeping only noun, adj, vb, adv\n",
    "data_lemmatized = lemmatization(data_words_bigrams, allowed_postags=['NOUN'])"
   ]
  },
  {
   "cell_type": "markdown",
   "id": "9f19a2e9",
   "metadata": {},
   "source": [
    "## LDA"
   ]
  },
  {
   "cell_type": "code",
   "execution_count": 68,
   "id": "20c23f98",
   "metadata": {},
   "outputs": [],
   "source": [
    "# Create Dictionary\n",
    "id2word = corpora.Dictionary(data_lemmatized)\n",
    "\n",
    "# Create Corpus\n",
    "texts = data_lemmatized\n",
    "\n",
    "# Term Document Frequency\n",
    "corpus = [id2word.doc2bow(text) for text in texts]"
   ]
  },
  {
   "cell_type": "code",
   "execution_count": 71,
   "id": "b7a92f50",
   "metadata": {},
   "outputs": [],
   "source": [
    "TFIDF = models.TfidfModel(corpus) # Fit TF-IDF model\n",
    "trans_TFIDF = TFIDF[corpus]"
   ]
  },
  {
   "cell_type": "code",
   "execution_count": 72,
   "id": "4141affa",
   "metadata": {},
   "outputs": [],
   "source": [
    "def compute_coherence_values(dictionary, corpus, texts, limit, start=2, step=3):\n",
    "    \"\"\"\n",
    "    Compute c_v coherence for various number of topics\n",
    "\n",
    "    Parameters:\n",
    "    ----------\n",
    "    dictionary : Gensim dictionary\n",
    "    corpus : Gensim corpus\n",
    "    texts : List of input texts\n",
    "    limit : Max num of topics\n",
    "\n",
    "    Returns:\n",
    "    -------\n",
    "    model_list : List of LDA topic models\n",
    "    coherence_values : Coherence values corresponding to the LDA model with respective number of topics\n",
    "    \"\"\"\n",
    "    coherence_values = []\n",
    "    model_list = []\n",
    "    for num_topics in range(start, limit, step):\n",
    "        #model = gensim.models.wrappers.LdaMallet(mallet_path, corpus=corpus, num_topics=num_topics, id2word=id2word)\n",
    "        model = lda_model = gensim.models.ldamodel.LdaModel(corpus=corpus, id2word=id2word, num_topics=num_topics)\n",
    "        model_list.append(model)\n",
    "        coherencemodel = CoherenceModel(model=model, texts=texts, dictionary=dictionary, coherence='c_v')\n",
    "        coherence_values.append(coherencemodel.get_coherence())\n",
    "\n",
    "    return model_list, coherence_values"
   ]
  },
  {
   "cell_type": "code",
   "execution_count": 73,
   "id": "0656afe6",
   "metadata": {},
   "outputs": [],
   "source": [
    "model_list, coherence_values = compute_coherence_values(dictionary=id2word, corpus=trans_TFIDF, texts=data_lemmatized, \n",
    "                                                        start=5, limit=10, step=1)"
   ]
  },
  {
   "cell_type": "markdown",
   "id": "e2f1a841",
   "metadata": {},
   "source": [
    "## Visualize Performance Metrics"
   ]
  },
  {
   "cell_type": "code",
   "execution_count": 74,
   "id": "db540405",
   "metadata": {},
   "outputs": [
    {
     "data": {
      "image/png": "[encoded data removed]",
      "text/plain": [
       "<Figure size 432x288 with 1 Axes>"
      ]
     },
     "metadata": {
      "needs_background": "light"
     },
     "output_type": "display_data"
    }
   ],
   "source": [
    "limit=10; start=5; step=1;\n",
    "x = range(start, limit, step)\n",
    "plt.plot(x, coherence_values)\n",
    "plt.xlabel(\"Num Topics\")\n",
    "plt.ylabel(\"Coherence score\")\n",
    "plt.legend((\"coherence_values\"), loc='best')\n",
    "plt.show()"
   ]
  },
  {
   "cell_type": "code",
   "execution_count": 75,
   "id": "ac8d84f4",
   "metadata": {},
   "outputs": [
    {
     "name": "stdout",
     "output_type": "stream",
     "text": [
      "Num Topics = 5  has Coherence Value of 0.3282\n",
      "Num Topics = 6  has Coherence Value of 0.3105\n",
      "Num Topics = 7  has Coherence Value of 0.3759\n",
      "Num Topics = 8  has Coherence Value of 0.33\n",
      "Num Topics = 9  has Coherence Value of 0.3692\n"
     ]
    }
   ],
   "source": [
    "for m, cv in zip(x, coherence_values):\n",
    "    print(\"Num Topics =\", m, \" has Coherence Value of\", round(cv, 4))"
   ]
  },
  {
   "cell_type": "markdown",
   "id": "5b13b80e",
   "metadata": {},
   "source": [
    "Optimal Model"
   ]
  },
  {
   "cell_type": "code",
   "execution_count": 76,
   "id": "1da140d0",
   "metadata": {},
   "outputs": [
    {
     "name": "stdout",
     "output_type": "stream",
     "text": [
      "[(0,\n",
      "  '0.001*\"bond\" + 0.001*\"bio\" + 0.001*\"marketing\" + 0.001*\"influencer\" + '\n",
      "  '0.001*\"newsletter\" + 0.001*\"email\" + 0.001*\"stacy\" + 0.001*\"yield\" + '\n",
      "  '0.001*\"software\" + 0.001*\"youtube\" + 0.001*\"return\" + 0.001*\"influence\" + '\n",
      "  '0.001*\"shotgun\" + 0.001*\"offering\" + 0.001*\"list\" + 0.001*\"restriction\" + '\n",
      "  '0.000*\"brand\" + 0.000*\"tax\" + 0.000*\"content\" + 0.000*\"pivot\" + '\n",
      "  '0.000*\"conversation\" + 0.000*\"manager\" + 0.000*\"profile\" + 0.000*\"audience\" '\n",
      "  '+ 0.000*\"topic\" + 0.000*\"technique\" + 0.000*\"database\" + 0.000*\"network\" + '\n",
      "  '0.000*\"avatar\" + 0.000*\"land\"'),\n",
      " (1,\n",
      "  '0.001*\"tenant\" + 0.001*\"landlord\" + 0.001*\"beverage\" + 0.001*\"store\" + '\n",
      "  '0.001*\"entity\" + 0.001*\"procedure\" + 0.001*\"lease\" + 0.001*\"stacy\" + '\n",
      "  '0.001*\"brother\" + 0.001*\"task\" + 0.000*\"video\" + 0.000*\"culture\" + '\n",
      "  '0.000*\"partnership\" + 0.000*\"exemption\" + 0.000*\"tariff\" + 0.000*\"partner\" '\n",
      "  '+ 0.000*\"seller\" + 0.000*\"inflation\" + 0.000*\"wholesaler\" + '\n",
      "  '0.000*\"currency\" + 0.000*\"team\" + 0.000*\"exit\" + 0.000*\"tax\" + '\n",
      "  '0.000*\"entitlement\" + 0.000*\"webinar\" + 0.000*\"hotel\" + 0.000*\"operation\" + '\n",
      "  '0.000*\"employee\" + 0.000*\"system\" + 0.000*\"impression\"'),\n",
      " (2,\n",
      "  '0.001*\"contamination\" + 0.001*\"tariff\" + 0.001*\"depreciation\" + '\n",
      "  '0.001*\"imbalance\" + 0.001*\"loan\" + 0.001*\"bank\" + 0.000*\"deduction\" + '\n",
      "  '0.000*\"borrower\" + 0.000*\"bonus_depreciation\" + 0.000*\"heritage\" + '\n",
      "  '0.000*\"tax\" + 0.000*\"politician\" + 0.000*\"credit\" + '\n",
      "  '0.000*\"cost_segregation\" + 0.000*\"appraisal\" + 0.000*\"synergy\" + '\n",
      "  '0.000*\"damage\" + 0.000*\"calendar\" + 0.000*\"unit\" + 0.000*\"construction\" + '\n",
      "  '0.000*\"purchase\" + 0.000*\"soil\" + 0.000*\"negotiation\" + 0.000*\"barn\" + '\n",
      "  '0.000*\"organization\" + 0.000*\"chinese_good\" + 0.000*\"wood\" + 0.000*\"stacy\" '\n",
      "  '+ 0.000*\"seller\" + 0.000*\"density\"'),\n",
      " (3,\n",
      "  '0.001*\"disclaimer\" + 0.001*\"contingency\" + 0.001*\"advertise\" + 0.001*\"fund\" '\n",
      "  '+ 0.001*\"insurance\" + 0.001*\"tenant\" + 0.001*\"builder\" + 0.000*\"exemption\" '\n",
      "  '+ 0.000*\"substantive_relationship\" + 0.000*\"bank\" + 0.000*\"entity\" + '\n",
      "  '0.000*\"team\" + 0.000*\"loan\" + 0.000*\"lender\" + 0.000*\"document\" + '\n",
      "  '0.000*\"questionnaire\" + 0.000*\"sophistication\" + 0.000*\"database\" + '\n",
      "  '0.000*\"offering\" + 0.000*\"precious_metal\" + 0.000*\"inspection\" + '\n",
      "  '0.000*\"stacy\" + 0.000*\"coverage_counsel\" + 0.000*\"advertising\" + '\n",
      "  '0.000*\"silver\" + 0.000*\"compliance\" + 0.000*\"debt\" + 0.000*\"marketing\" + '\n",
      "  '0.000*\"video\" + 0.000*\"lending\"'),\n",
      " (4,\n",
      "  '0.001*\"tax\" + 0.001*\"team\" + 0.001*\"stacy\" + 0.001*\"entity\" + 0.001*\"sop\" + '\n",
      "  '0.001*\"bus\" + 0.001*\"inflation\" + 0.001*\"election\" + 0.001*\"suite\" + '\n",
      "  '0.001*\"lawsuit\" + 0.001*\"trust\" + 0.001*\"stacey\" + 0.001*\"content\" + '\n",
      "  '0.001*\"bond\" + 0.000*\"strategist\" + 0.000*\"architect\" + 0.000*\"accounting\" '\n",
      "  '+ 0.000*\"marketing\" + 0.000*\"mission\" + 0.000*\"estate\" + 0.000*\"equity\" + '\n",
      "  '0.000*\"drive\" + 0.000*\"video\" + 0.000*\"privacy\" + 0.000*\"vision\" + '\n",
      "  '0.000*\"podcast\" + 0.000*\"system\" + 0.000*\"liability\" + 0.000*\"seat\" + '\n",
      "  '0.000*\"loss\"'),\n",
      " (5,\n",
      "  '0.001*\"exemption\" + 0.001*\"broker\" + 0.001*\"lender\" + 0.001*\"ingo\" + '\n",
      "  '0.001*\"loan\" + 0.001*\"employee\" + 0.001*\"license\" + 0.001*\"tax\" + '\n",
      "  '0.001*\"parent\" + 0.000*\"entity\" + 0.000*\"blind_fund\" + 0.000*\"ppm\" + '\n",
      "  '0.000*\"cpa\" + 0.000*\"attorney\" + 0.000*\"seller\" + 0.000*\"fund\" + '\n",
      "  '0.000*\"lease\" + 0.000*\"state\" + 0.000*\"sub\" + 0.000*\"return\" + '\n",
      "  '0.000*\"repo_market\" + 0.000*\"contract\" + 0.000*\"private_placement\" + '\n",
      "  '0.000*\"agreement\" + 0.000*\"rent\" + 0.000*\"ratio\" + 0.000*\"stacy\" + '\n",
      "  '0.000*\"assumption\" + 0.000*\"bank\" + 0.000*\"bond\"'),\n",
      " (6,\n",
      "  '0.001*\"lease\" + 0.001*\"lender\" + 0.001*\"loan\" + 0.001*\"bank\" + '\n",
      "  '0.001*\"tenant\" + 0.001*\"construction\" + 0.001*\"yield\" + 0.001*\"unit\" + '\n",
      "  '0.001*\"sub\" + 0.001*\"rent\" + 0.001*\"hotel\" + 0.001*\"land\" + 0.001*\"seller\" '\n",
      "  '+ 0.001*\"disclaimer\" + 0.001*\"restaurant\" + 0.001*\"bond\" + 0.001*\"mortgage\" '\n",
      "  '+ 0.001*\"contract\" + 0.001*\"bridge\" + 0.001*\"title\" + 0.001*\"bid\" + '\n",
      "  '0.001*\"house\" + 0.001*\"franchise\" + 0.001*\"thesis\" + 0.001*\"currency\" + '\n",
      "  '0.001*\"rate\" + 0.001*\"retire\" + 0.001*\"demand\" + 0.001*\"virus\" + '\n",
      "  '0.001*\"inflation\"')]\n"
     ]
    }
   ],
   "source": [
    "optimal_model = model_list[2]\n",
    "model_topics = optimal_model.show_topics(formatted=False)\n",
    "pprint(optimal_model.print_topics(num_words=30))"
   ]
  }
 ],
 "metadata": {
  "kernelspec": {
   "display_name": "Python 3",
   "language": "python",
   "name": "python3"
  },
  "language_info": {
   "codemirror_mode": {
    "name": "ipython",
    "version": 3
   },
   "file_extension": ".py",
   "mimetype": "text/x-python",
   "name": "python",
   "nbconvert_exporter": "python",
   "pygments_lexer": "ipython3",
   "version": "3.7.4"
  }
 },
 "nbformat": 4,
 "nbformat_minor": 5
}
