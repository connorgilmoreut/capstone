{
 "cells": [
  {
   "cell_type": "markdown",
   "id": "3cc9fcfc",
   "metadata": {},
   "source": [
    "# LDA Topic Model \n",
    "\n",
    "This code is pulled from:\n",
    "* https://www.machinelearningplus.com/nlp/topic-modeling-gensim-python/\n",
    "* https://highdemandskills.com/topic-modeling-lda/"
   ]
  },
  {
   "cell_type": "markdown",
   "id": "8662186c",
   "metadata": {},
   "source": [
    "## Import Libraries"
   ]
  },
  {
   "cell_type": "code",
   "execution_count": 3,
   "id": "7524015c",
   "metadata": {},
   "outputs": [],
   "source": [
    "import pandas as pd"
   ]
  },
  {
   "cell_type": "code",
   "execution_count": 4,
   "id": "2410fe3d",
   "metadata": {},
   "outputs": [
    {
     "name": "stderr",
     "output_type": "stream",
     "text": [
      "[nltk_data] Downloading package stopwords to\n",
      "[nltk_data]     /Users/connorgilmore/nltk_data...\n",
      "[nltk_data]   Package stopwords is already up-to-date!\n"
     ]
    },
    {
     "data": {
      "text/plain": [
       "True"
      ]
     },
     "execution_count": 4,
     "metadata": {},
     "output_type": "execute_result"
    }
   ],
   "source": [
    "import nltk\n",
    "nltk.download('stopwords')"
   ]
  },
  {
   "cell_type": "code",
   "execution_count": 5,
   "id": "31e088e0",
   "metadata": {},
   "outputs": [
    {
     "name": "stderr",
     "output_type": "stream",
     "text": [
      "/Users/connorgilmore/opt/anaconda3/lib/python3.7/site-packages/past/builtins/misc.py:4: DeprecationWarning: Using or importing the ABCs from 'collections' instead of from 'collections.abc' is deprecated, and in 3.8 it will stop working\n",
      "  from collections import Mapping\n"
     ]
    }
   ],
   "source": [
    "import re\n",
    "import numpy as np\n",
    "import pandas as pd\n",
    "from pprint import pprint\n",
    "\n",
    "\n",
    "# Gensim\n",
    "import gensim\n",
    "import gensim.corpora as corpora\n",
    "from gensim.utils import simple_preprocess\n",
    "from gensim.models import CoherenceModel\n",
    "from gensim import models\n",
    "\n",
    "# spacy for lemmatization\n",
    "import spacy\n",
    "\n",
    "# Plotting tools\n",
    "import pyLDAvis\n",
    "#import pyLDAvis.gensim  # don't skip this\n",
    "import pyLDAvis.gensim_models as gensimvis\n",
    "import matplotlib.pyplot as plt\n",
    "%matplotlib inline\n",
    "\n",
    "# Enable logging for gensim - optional\n",
    "import logging\n",
    "logging.basicConfig(format='%(asctime)s : %(levelname)s : %(message)s', level=logging.ERROR)\n",
    "\n",
    "import warnings\n",
    "warnings.filterwarnings(\"ignore\",category=DeprecationWarning)"
   ]
  },
  {
   "cell_type": "code",
   "execution_count": 6,
   "id": "215eff5e",
   "metadata": {},
   "outputs": [],
   "source": [
    "# NLTK Stop words\n",
    "from nltk.corpus import stopwords\n",
    "stop_words = stopwords.words('english')\n",
    "extended_stop_words = ['guys', 'syndicated', 'mentoring', 'syndicate', 'club', 'mentor', 'thing', 'people', 'really',\n",
    "                      'syndication', 'call', 'person', 'stuff']\n",
    "stop_words.extend(extended_stop_words)"
   ]
  },
  {
   "cell_type": "markdown",
   "id": "061eea14",
   "metadata": {},
   "source": [
    "## Import Data"
   ]
  },
  {
   "cell_type": "code",
   "execution_count": 7,
   "id": "41345dcf",
   "metadata": {},
   "outputs": [],
   "source": [
    "transcripts_df = pd.read_csv('documents_w_clusters.csv')"
   ]
  },
  {
   "cell_type": "code",
   "execution_count": 8,
   "id": "228d9ddb",
   "metadata": {},
   "outputs": [
    {
     "data": {
      "text/html": [
       "<div>\n",
       "<style scoped>\n",
       "    .dataframe tbody tr th:only-of-type {\n",
       "        vertical-align: middle;\n",
       "    }\n",
       "\n",
       "    .dataframe tbody tr th {\n",
       "        vertical-align: top;\n",
       "    }\n",
       "\n",
       "    .dataframe thead th {\n",
       "        text-align: right;\n",
       "    }\n",
       "</style>\n",
       "<table border=\"1\" class=\"dataframe\">\n",
       "  <thead>\n",
       "    <tr style=\"text-align: right;\">\n",
       "      <th></th>\n",
       "      <th>Unnamed: 0</th>\n",
       "      <th>Unnamed: 0.1</th>\n",
       "      <th>file_name</th>\n",
       "      <th>contents</th>\n",
       "      <th>cleaned</th>\n",
       "      <th>lemmatized</th>\n",
       "      <th>no_of_words</th>\n",
       "      <th>cluster</th>\n",
       "      <th>x0</th>\n",
       "      <th>x1</th>\n",
       "    </tr>\n",
       "  </thead>\n",
       "  <tbody>\n",
       "    <tr>\n",
       "      <th>0</th>\n",
       "      <td>0</td>\n",
       "      <td>0</td>\n",
       "      <td>[UPDATED] PC - February 2021 - Mastermind with...</td>\n",
       "      <td>other hand if he says, You give me 5% of every...</td>\n",
       "      <td>hand says give everything dont get credit basi...</td>\n",
       "      <td>hand say not credit basic bread s different st...</td>\n",
       "      <td>3475</td>\n",
       "      <td>1</td>\n",
       "      <td>0.406383</td>\n",
       "      <td>-0.028027</td>\n",
       "    </tr>\n",
       "    <tr>\n",
       "      <th>1</th>\n",
       "      <td>1</td>\n",
       "      <td>1</td>\n",
       "      <td>April 8, 2021 - Ask the Mentors Q_A Call on De...</td>\n",
       "      <td>JO\\n\\noften, it's 100%, smokescreen, nobody li...</td>\n",
       "      <td>jo often smokescreen nobody likes idea commitm...</td>\n",
       "      <td>jo smokescreen like idea commitment general wa...</td>\n",
       "      <td>4444</td>\n",
       "      <td>0</td>\n",
       "      <td>-0.050892</td>\n",
       "      <td>0.176329</td>\n",
       "    </tr>\n",
       "    <tr>\n",
       "      <th>2</th>\n",
       "      <td>2</td>\n",
       "      <td>2</td>\n",
       "      <td>April 14, 2021 - Ask the Mentors Q_A Call on C...</td>\n",
       "      <td>JO\\n\\nJO\\n\\nbelieve in that, and then develop ...</td>\n",
       "      <td>jo jo believe develop investing thesis based s...</td>\n",
       "      <td>jo jo believe develop invest thesis base scena...</td>\n",
       "      <td>4931</td>\n",
       "      <td>2</td>\n",
       "      <td>-0.150166</td>\n",
       "      <td>-0.132726</td>\n",
       "    </tr>\n",
       "    <tr>\n",
       "      <th>3</th>\n",
       "      <td>3</td>\n",
       "      <td>3</td>\n",
       "      <td>April 2021 - Ask the Mentors Q_A Call on Busin...</td>\n",
       "      <td>JO\\n\\nyour investor questionnaire. So you can ...</td>\n",
       "      <td>jo investor questionnaire one one sales call a...</td>\n",
       "      <td>jo investor questionnaire sale actually raise ...</td>\n",
       "      <td>4229</td>\n",
       "      <td>2</td>\n",
       "      <td>-0.251402</td>\n",
       "      <td>-0.079161</td>\n",
       "    </tr>\n",
       "    <tr>\n",
       "      <th>4</th>\n",
       "      <td>4</td>\n",
       "      <td>4</td>\n",
       "      <td>April 2021 - Ask the Mentors Q_A Call on Sales...</td>\n",
       "      <td>©) Craig Kamman_ 30:35\\n\\nJO\\n\\nyes. Okay. So ...</td>\n",
       "      <td>© craig kamman jo yes okay youre dealing party...</td>\n",
       "      <td>© craig kamman jo yes okay deal party know mea...</td>\n",
       "      <td>4475</td>\n",
       "      <td>2</td>\n",
       "      <td>-0.207295</td>\n",
       "      <td>-0.133082</td>\n",
       "    </tr>\n",
       "  </tbody>\n",
       "</table>\n",
       "</div>"
      ],
      "text/plain": [
       "   Unnamed: 0  Unnamed: 0.1  \\\n",
       "0           0             0   \n",
       "1           1             1   \n",
       "2           2             2   \n",
       "3           3             3   \n",
       "4           4             4   \n",
       "\n",
       "                                           file_name  \\\n",
       "0  [UPDATED] PC - February 2021 - Mastermind with...   \n",
       "1  April 8, 2021 - Ask the Mentors Q_A Call on De...   \n",
       "2  April 14, 2021 - Ask the Mentors Q_A Call on C...   \n",
       "3  April 2021 - Ask the Mentors Q_A Call on Busin...   \n",
       "4  April 2021 - Ask the Mentors Q_A Call on Sales...   \n",
       "\n",
       "                                            contents  \\\n",
       "0  other hand if he says, You give me 5% of every...   \n",
       "1  JO\\n\\noften, it's 100%, smokescreen, nobody li...   \n",
       "2  JO\\n\\nJO\\n\\nbelieve in that, and then develop ...   \n",
       "3  JO\\n\\nyour investor questionnaire. So you can ...   \n",
       "4  ©) Craig Kamman_ 30:35\\n\\nJO\\n\\nyes. Okay. So ...   \n",
       "\n",
       "                                             cleaned  \\\n",
       "0  hand says give everything dont get credit basi...   \n",
       "1  jo often smokescreen nobody likes idea commitm...   \n",
       "2  jo jo believe develop investing thesis based s...   \n",
       "3  jo investor questionnaire one one sales call a...   \n",
       "4  © craig kamman jo yes okay youre dealing party...   \n",
       "\n",
       "                                          lemmatized  no_of_words  cluster  \\\n",
       "0  hand say not credit basic bread s different st...         3475        1   \n",
       "1  jo smokescreen like idea commitment general wa...         4444        0   \n",
       "2  jo jo believe develop invest thesis base scena...         4931        2   \n",
       "3  jo investor questionnaire sale actually raise ...         4229        2   \n",
       "4  © craig kamman jo yes okay deal party know mea...         4475        2   \n",
       "\n",
       "         x0        x1  \n",
       "0  0.406383 -0.028027  \n",
       "1 -0.050892  0.176329  \n",
       "2 -0.150166 -0.132726  \n",
       "3 -0.251402 -0.079161  \n",
       "4 -0.207295 -0.133082  "
      ]
     },
     "execution_count": 8,
     "metadata": {},
     "output_type": "execute_result"
    }
   ],
   "source": [
    "transcripts_df.head()"
   ]
  },
  {
   "cell_type": "code",
   "execution_count": 9,
   "id": "bcb4441a",
   "metadata": {},
   "outputs": [],
   "source": [
    "mask = (transcripts_df['cluster'] == 0)\n",
    "transcripts_df = pd.DataFrame(transcripts_df[mask])"
   ]
  },
  {
   "cell_type": "markdown",
   "id": "524b32f8",
   "metadata": {},
   "source": [
    "## Data Prep"
   ]
  },
  {
   "cell_type": "code",
   "execution_count": 10,
   "id": "8cd6ec74",
   "metadata": {},
   "outputs": [],
   "source": [
    "data = transcripts_df['contents']\n",
    "def sent_to_words(sentences):\n",
    "    for sentence in sentences:\n",
    "        yield(gensim.utils.simple_preprocess(str(sentence), deacc=True))  # deacc=True removes punctuations\n",
    "\n",
    "data_words = list(sent_to_words(data))"
   ]
  },
  {
   "cell_type": "code",
   "execution_count": 11,
   "id": "a44b2e6e",
   "metadata": {},
   "outputs": [],
   "source": [
    "# Build the bigram and trigram models\n",
    "bigram = gensim.models.Phrases(data_words, min_count=5, threshold=100) # higher threshold fewer phrases.\n",
    "trigram = gensim.models.Phrases(bigram[data_words], threshold=100)  \n",
    "\n",
    "# Faster way to get a sentence clubbed as a trigram/bigram\n",
    "bigram_mod = gensim.models.phrases.Phraser(bigram)\n",
    "trigram_mod = gensim.models.phrases.Phraser(trigram)"
   ]
  },
  {
   "cell_type": "code",
   "execution_count": 12,
   "id": "52691ead",
   "metadata": {},
   "outputs": [],
   "source": [
    "def remove_stopwords(texts):\n",
    "    return [[word for word in simple_preprocess(str(doc)) if word not in stop_words] for doc in texts]\n",
    "\n",
    "def remove_extra_stopwords(texts):\n",
    "    new_outer_list = []\n",
    "    for l in texts:\n",
    "        inner_list = []\n",
    "        for word in l:\n",
    "            if (word not in extended_stop_words):\n",
    "                inner_list.append(word)\n",
    "        new_outer_list.append(inner_list)\n",
    "    return new_outer_list \n",
    "\n",
    "def make_bigrams(texts):\n",
    "    return [bigram_mod[doc] for doc in texts]\n",
    "\n",
    "def make_trigrams(texts):\n",
    "    return [trigram_mod[bigram_mod[doc]] for doc in texts]\n",
    "\n",
    "def lemmatization(texts, allowed_postags=['NOUN']):\n",
    "    \"\"\"https://spacy.io/api/annotation\"\"\"\n",
    "    texts_out = []\n",
    "    for sent in texts:\n",
    "        doc = nlp(\" \".join(sent)) \n",
    "        texts_out.append([token.lemma_ for token in doc if token.pos_ in allowed_postags])\n",
    "    return texts_out"
   ]
  },
  {
   "cell_type": "code",
   "execution_count": 13,
   "id": "a43abe38",
   "metadata": {},
   "outputs": [],
   "source": [
    "# Remove Stop Words\n",
    "data_words_nostops = remove_stopwords(data_words)\n",
    "data_words_nostops = remove_extra_stopwords(data_words_nostops)\n",
    "\n",
    "# Form Bigrams\n",
    "data_words_bigrams = make_bigrams(data_words_nostops)\n",
    "\n",
    "# Initialize spacy 'en' model, keeping only tagger component (for efficiency)\n",
    "# python3 -m spacy download en\n",
    "#nlp = spacy.load('en', disable=['parser', 'ner'])\n",
    "nlp = spacy.load(\"en_core_web_sm\", disable=['parser', 'ner'])\n",
    "\n",
    "# Do lemmatization keeping only noun, adj, vb, adv\n",
    "data_lemmatized = lemmatization(data_words_bigrams, allowed_postags=['NOUN'])"
   ]
  },
  {
   "cell_type": "markdown",
   "id": "450f80bc",
   "metadata": {},
   "source": [
    "## LDA"
   ]
  },
  {
   "cell_type": "code",
   "execution_count": 14,
   "id": "e7b38090",
   "metadata": {},
   "outputs": [],
   "source": [
    "# Create Dictionary\n",
    "id2word = corpora.Dictionary(data_lemmatized)\n",
    "\n",
    "# Create Corpus\n",
    "texts = data_lemmatized\n",
    "\n",
    "# Term Document Frequency\n",
    "corpus = [id2word.doc2bow(text) for text in texts]"
   ]
  },
  {
   "cell_type": "code",
   "execution_count": 15,
   "id": "c755ddce",
   "metadata": {},
   "outputs": [],
   "source": [
    "TFIDF = models.TfidfModel(corpus) # Fit TF-IDF model\n",
    "trans_TFIDF = TFIDF[corpus]"
   ]
  },
  {
   "cell_type": "code",
   "execution_count": 16,
   "id": "c4b3719d",
   "metadata": {},
   "outputs": [],
   "source": [
    "def compute_coherence_values(dictionary, corpus, texts, limit, start=2, step=3):\n",
    "    \"\"\"\n",
    "    Compute c_v coherence for various number of topics\n",
    "\n",
    "    Parameters:\n",
    "    ----------\n",
    "    dictionary : Gensim dictionary\n",
    "    corpus : Gensim corpus\n",
    "    texts : List of input texts\n",
    "    limit : Max num of topics\n",
    "\n",
    "    Returns:\n",
    "    -------\n",
    "    model_list : List of LDA topic models\n",
    "    coherence_values : Coherence values corresponding to the LDA model with respective number of topics\n",
    "    \"\"\"\n",
    "    coherence_values = []\n",
    "    model_list = []\n",
    "    i = start \n",
    "    for num_topics in range(start, limit, step):\n",
    "        #model = gensim.models.wrappers.LdaMallet(mallet_path, corpus=corpus, num_topics=num_topics, id2word=id2word)\n",
    "        model = lda_model = gensim.models.ldamodel.LdaModel(corpus=corpus, id2word=id2word, num_topics=num_topics)\n",
    "        model_list.append(model)\n",
    "        coherencemodel = CoherenceModel(model=model, texts=texts, dictionary=dictionary, coherence='c_v')\n",
    "        coherence_values.append(coherencemodel.get_coherence())\n",
    "        print('Model ', i , ' Completed')\n",
    "        i += 1\n",
    "\n",
    "    return model_list, coherence_values"
   ]
  },
  {
   "cell_type": "code",
   "execution_count": 17,
   "id": "d9583aaf",
   "metadata": {},
   "outputs": [
    {
     "name": "stdout",
     "output_type": "stream",
     "text": [
      "Model  5  Completed\n",
      "Model  6  Completed\n",
      "Model  7  Completed\n",
      "Model  8  Completed\n",
      "Model  9  Completed\n",
      "Model  10  Completed\n",
      "Model  11  Completed\n",
      "Model  12  Completed\n",
      "Model  13  Completed\n",
      "Model  14  Completed\n",
      "Model  15  Completed\n",
      "Model  16  Completed\n",
      "Model  17  Completed\n",
      "Model  18  Completed\n",
      "Model  19  Completed\n"
     ]
    }
   ],
   "source": [
    "model_list, coherence_values = compute_coherence_values(dictionary=id2word, corpus=trans_TFIDF, texts=data_lemmatized, \n",
    "                                                        start=5, limit=20, step=1)"
   ]
  },
  {
   "cell_type": "markdown",
   "id": "1c7545e9",
   "metadata": {},
   "source": [
    "## Visualize Performance Metrics"
   ]
  },
  {
   "cell_type": "code",
   "execution_count": 18,
   "id": "b51a6dd8",
   "metadata": {},
   "outputs": [
    {
     "data": {
      "image/png": "[encoded data removed]",
      "text/plain": [
       "<Figure size 432x288 with 1 Axes>"
      ]
     },
     "metadata": {
      "needs_background": "light"
     },
     "output_type": "display_data"
    }
   ],
   "source": [
    "limit=20; start=5; step=1;\n",
    "x = range(start, limit, step)\n",
    "plt.plot(x, coherence_values)\n",
    "plt.xlabel(\"Num Topics\")\n",
    "plt.ylabel(\"Coherence score\")\n",
    "plt.legend((\"coherence_values\"), loc='best')\n",
    "plt.show()"
   ]
  },
  {
   "cell_type": "code",
   "execution_count": 19,
   "id": "1204a3fa",
   "metadata": {},
   "outputs": [
    {
     "name": "stdout",
     "output_type": "stream",
     "text": [
      "Num Topics = 5  has Coherence Value of 0.4162\n",
      "Num Topics = 6  has Coherence Value of 0.3712\n",
      "Num Topics = 7  has Coherence Value of 0.3659\n",
      "Num Topics = 8  has Coherence Value of 0.3905\n",
      "Num Topics = 9  has Coherence Value of 0.3628\n",
      "Num Topics = 10  has Coherence Value of 0.3932\n",
      "Num Topics = 11  has Coherence Value of 0.4076\n",
      "Num Topics = 12  has Coherence Value of 0.3588\n",
      "Num Topics = 13  has Coherence Value of 0.3496\n",
      "Num Topics = 14  has Coherence Value of 0.3833\n",
      "Num Topics = 15  has Coherence Value of 0.3659\n",
      "Num Topics = 16  has Coherence Value of 0.3675\n",
      "Num Topics = 17  has Coherence Value of 0.3805\n",
      "Num Topics = 18  has Coherence Value of 0.3691\n",
      "Num Topics = 19  has Coherence Value of 0.4204\n"
     ]
    }
   ],
   "source": [
    "for m, cv in zip(x, coherence_values):\n",
    "    print(\"Num Topics =\", m, \" has Coherence Value of\", round(cv, 4))"
   ]
  },
  {
   "cell_type": "markdown",
   "id": "8b6a12c5",
   "metadata": {},
   "source": [
    "Optimal Model"
   ]
  },
  {
   "cell_type": "code",
   "execution_count": 20,
   "id": "f14d5908",
   "metadata": {},
   "outputs": [
    {
     "name": "stdout",
     "output_type": "stream",
     "text": [
      "[(0,\n",
      "  '0.001*\"integration\" + 0.001*\"exemption\" + 0.001*\"strategist\" + '\n",
      "  '0.001*\"phase\" + 0.001*\"timeline\" + 0.001*\"audited_financial\" + '\n",
      "  '0.001*\"financial\" + 0.001*\"substantive_relationship\" + 0.001*\"jail\" + '\n",
      "  '0.001*\"license\" + 0.000*\"inspection\" + 0.000*\"tax\" + 0.000*\"craig\" + '\n",
      "  '0.000*\"summary\" + 0.000*\"mediation\" + 0.000*\"precedent\" + 0.000*\"sewer\" + '\n",
      "  '0.000*\"construction\" + 0.000*\"study\" + 0.000*\"security\" + '\n",
      "  '0.000*\"expectation\" + 0.000*\"register\" + 0.000*\"education\" + 0.000*\"book\" + '\n",
      "  '0.000*\"communicate\" + 0.000*\"range\" + 0.000*\"land\" + 0.000*\"record\" + '\n",
      "  '0.000*\"court\" + 0.000*\"occupancy\"'),\n",
      " (1,\n",
      "  '0.001*\"tenant\" + 0.001*\"lease\" + 0.001*\"seller\" + 0.001*\"house\" + '\n",
      "  '0.001*\"contingency\" + 0.001*\"inspection\" + 0.001*\"blind_fund\" + '\n",
      "  '0.001*\"rent\" + 0.001*\"exemption\" + 0.001*\"manager\" + 0.001*\"promoter\" + '\n",
      "  '0.001*\"partnership\" + 0.001*\"landlord\" + 0.001*\"home\" + 0.001*\"sub\" + '\n",
      "  '0.001*\"broker\" + 0.001*\"bookkeeper\" + 0.000*\"credibility\" + '\n",
      "  '0.000*\"assumption\" + 0.000*\"price\" + 0.000*\"trust\" + 0.000*\"security\" + '\n",
      "  '0.000*\"yield\" + 0.000*\"sponsor\" + 0.000*\"building\" + 0.000*\"utility\" + '\n",
      "  '0.000*\"coverage_counsel\" + 0.000*\"split\" + 0.000*\"pro\" + 0.000*\"fund\"'),\n",
      " (2,\n",
      "  '0.001*\"lender\" + 0.001*\"lease\" + 0.001*\"builder\" + 0.001*\"park\" + '\n",
      "  '0.001*\"bridge\" + 0.001*\"borrower\" + 0.001*\"broker\" + 0.001*\"yield\" + '\n",
      "  '0.001*\"inflation\" + 0.001*\"debt\" + 0.001*\"lending\" + 0.001*\"exit\" + '\n",
      "  '0.001*\"entitlement\" + 0.001*\"bookkeeper\" + 0.001*\"liquidity\" + '\n",
      "  '0.001*\"income\" + 0.001*\"land\" + 0.000*\"securities_laws\" + 0.000*\"exemption\" '\n",
      "  '+ 0.000*\"tenant\" + 0.000*\"exit_strategie\" + 0.000*\"currency\" + '\n",
      "  '0.000*\"credit\" + 0.000*\"loan\" + 0.000*\"advertise\" + 0.000*\"mortgage\" + '\n",
      "  '0.000*\"interest_rate\" + 0.000*\"seller\" + 0.000*\"prepayment\" + '\n",
      "  '0.000*\"guideline\"'),\n",
      " (3,\n",
      "  '0.001*\"disclaimer\" + 0.001*\"lender\" + 0.001*\"folder\" + 0.001*\"parent\" + '\n",
      "  '0.001*\"jurisdiction\" + 0.001*\"appraisal\" + 0.001*\"insurance\" + '\n",
      "  '0.001*\"house\" + 0.001*\"employee\" + 0.001*\"introduction\" + 0.001*\"security\" '\n",
      "  '+ 0.001*\"website\" + 0.001*\"hotel\" + 0.001*\"tutorial\" + 0.001*\"yield\" + '\n",
      "  '0.001*\"bank\" + 0.001*\"advertise\" + 0.001*\"lease\" + 0.001*\"vendor\" + '\n",
      "  '0.001*\"lawyer\" + 0.001*\"outcome\" + 0.001*\"parse\" + 0.000*\"certification\" + '\n",
      "  '0.000*\"construction\" + 0.000*\"efficiency\" + 0.000*\"strategist\" + '\n",
      "  '0.000*\"eight_step\" + 0.000*\"portfolio\" + 0.000*\"solicitation\" + '\n",
      "  '0.000*\"advisor\"'),\n",
      " (4,\n",
      "  '0.001*\"deduction\" + 0.001*\"trust\" + 0.001*\"lien\" + 0.001*\"depreciation\" + '\n",
      "  '0.001*\"tax\" + 0.001*\"loss\" + 0.001*\"privacy\" + 0.001*\"ppm\" + 0.001*\"estate\" '\n",
      "  '+ 0.001*\"bonus_depreciation\" + 0.001*\"cost_segregation\" + 0.001*\"mike_pine\" '\n",
      "  '+ 0.001*\"disclaimer\" + 0.001*\"private_placement\" + 0.001*\"self_employment\" '\n",
      "  '+ 0.001*\"solicitation\" + 0.001*\"entity\" + 0.001*\"security\" + 0.001*\"living\" '\n",
      "  '+ 0.001*\"income\" + 0.001*\"lawsuit_protection\" + 0.001*\"planning\" + '\n",
      "  '0.001*\"jurisdiction\" + 0.000*\"content\" + 0.000*\"accounting\" + 0.000*\"stacy\" '\n",
      "  '+ 0.000*\"liability\" + 0.000*\"component\" + 0.000*\"trustee\" + '\n",
      "  '0.000*\"audience\"')]\n"
     ]
    }
   ],
   "source": [
    "optimal_model = model_list[0]\n",
    "model_topics = optimal_model.show_topics(formatted=False)\n",
    "pprint(optimal_model.print_topics(num_words=30))"
   ]
  },
  {
   "cell_type": "markdown",
   "id": "b3ecf093",
   "metadata": {},
   "source": [
    "### Topics Per Document"
   ]
  },
  {
   "cell_type": "code",
   "execution_count": 21,
   "id": "ea276724",
   "metadata": {},
   "outputs": [
    {
     "data": {
      "text/html": [
       "<div>\n",
       "<style scoped>\n",
       "    .dataframe tbody tr th:only-of-type {\n",
       "        vertical-align: middle;\n",
       "    }\n",
       "\n",
       "    .dataframe tbody tr th {\n",
       "        vertical-align: top;\n",
       "    }\n",
       "\n",
       "    .dataframe thead th {\n",
       "        text-align: right;\n",
       "    }\n",
       "</style>\n",
       "<table border=\"1\" class=\"dataframe\">\n",
       "  <thead>\n",
       "    <tr style=\"text-align: right;\">\n",
       "      <th></th>\n",
       "      <th>Document_No</th>\n",
       "      <th>Dominant_Topic</th>\n",
       "      <th>Topic_Perc_Contrib</th>\n",
       "      <th>Keywords</th>\n",
       "      <th>Text</th>\n",
       "    </tr>\n",
       "  </thead>\n",
       "  <tbody>\n",
       "    <tr>\n",
       "      <th>0</th>\n",
       "      <td>0</td>\n",
       "      <td>0.0</td>\n",
       "      <td>0.9529</td>\n",
       "      <td>integration, exemption, strategist, phase, tim...</td>\n",
       "      <td>[idea, commitment, commit, year, investment, d...</td>\n",
       "    </tr>\n",
       "    <tr>\n",
       "      <th>1</th>\n",
       "      <td>1</td>\n",
       "      <td>1.0</td>\n",
       "      <td>0.9536</td>\n",
       "      <td>tenant, lease, seller, house, contingency, ins...</td>\n",
       "      <td>[month, tenant, contingency, seller, tenant, m...</td>\n",
       "    </tr>\n",
       "    <tr>\n",
       "      <th>2</th>\n",
       "      <td>2</td>\n",
       "      <td>4.0</td>\n",
       "      <td>0.9476</td>\n",
       "      <td>deduction, trust, lien, depreciation, tax, los...</td>\n",
       "      <td>[law, firm, way, plan, time, downside, trust, ...</td>\n",
       "    </tr>\n",
       "    <tr>\n",
       "      <th>3</th>\n",
       "      <td>3</td>\n",
       "      <td>4.0</td>\n",
       "      <td>0.9401</td>\n",
       "      <td>deduction, trust, lien, depreciation, tax, los...</td>\n",
       "      <td>[vehicle, show, topic, couple, report, library...</td>\n",
       "    </tr>\n",
       "    <tr>\n",
       "      <th>4</th>\n",
       "      <td>4</td>\n",
       "      <td>3.0</td>\n",
       "      <td>0.9511</td>\n",
       "      <td>disclaimer, lender, folder, parent, jurisdicti...</td>\n",
       "      <td>[little_bit, clarity, racer, couple, training,...</td>\n",
       "    </tr>\n",
       "    <tr>\n",
       "      <th>5</th>\n",
       "      <td>5</td>\n",
       "      <td>1.0</td>\n",
       "      <td>0.9555</td>\n",
       "      <td>tenant, lease, seller, house, contingency, ins...</td>\n",
       "      <td>[replace, capital, part, capital, possibility,...</td>\n",
       "    </tr>\n",
       "    <tr>\n",
       "      <th>6</th>\n",
       "      <td>6</td>\n",
       "      <td>1.0</td>\n",
       "      <td>0.9522</td>\n",
       "      <td>tenant, lease, seller, house, contingency, ins...</td>\n",
       "      <td>[question, cash, thank, camera, question, know...</td>\n",
       "    </tr>\n",
       "    <tr>\n",
       "      <th>7</th>\n",
       "      <td>7</td>\n",
       "      <td>3.0</td>\n",
       "      <td>0.9517</td>\n",
       "      <td>disclaimer, lender, folder, parent, jurisdicti...</td>\n",
       "      <td>[meeting, guide, reserve, lender, space, want,...</td>\n",
       "    </tr>\n",
       "    <tr>\n",
       "      <th>8</th>\n",
       "      <td>8</td>\n",
       "      <td>0.0</td>\n",
       "      <td>0.9546</td>\n",
       "      <td>integration, exemption, strategist, phase, tim...</td>\n",
       "      <td>[membership, link, piece, content, see, note, ...</td>\n",
       "    </tr>\n",
       "    <tr>\n",
       "      <th>9</th>\n",
       "      <td>9</td>\n",
       "      <td>1.0</td>\n",
       "      <td>0.9543</td>\n",
       "      <td>tenant, lease, seller, house, contingency, ins...</td>\n",
       "      <td>[truck, question, chance, party, question, que...</td>\n",
       "    </tr>\n",
       "  </tbody>\n",
       "</table>\n",
       "</div>"
      ],
      "text/plain": [
       "   Document_No  Dominant_Topic  Topic_Perc_Contrib  \\\n",
       "0            0             0.0              0.9529   \n",
       "1            1             1.0              0.9536   \n",
       "2            2             4.0              0.9476   \n",
       "3            3             4.0              0.9401   \n",
       "4            4             3.0              0.9511   \n",
       "5            5             1.0              0.9555   \n",
       "6            6             1.0              0.9522   \n",
       "7            7             3.0              0.9517   \n",
       "8            8             0.0              0.9546   \n",
       "9            9             1.0              0.9543   \n",
       "\n",
       "                                            Keywords  \\\n",
       "0  integration, exemption, strategist, phase, tim...   \n",
       "1  tenant, lease, seller, house, contingency, ins...   \n",
       "2  deduction, trust, lien, depreciation, tax, los...   \n",
       "3  deduction, trust, lien, depreciation, tax, los...   \n",
       "4  disclaimer, lender, folder, parent, jurisdicti...   \n",
       "5  tenant, lease, seller, house, contingency, ins...   \n",
       "6  tenant, lease, seller, house, contingency, ins...   \n",
       "7  disclaimer, lender, folder, parent, jurisdicti...   \n",
       "8  integration, exemption, strategist, phase, tim...   \n",
       "9  tenant, lease, seller, house, contingency, ins...   \n",
       "\n",
       "                                                Text  \n",
       "0  [idea, commitment, commit, year, investment, d...  \n",
       "1  [month, tenant, contingency, seller, tenant, m...  \n",
       "2  [law, firm, way, plan, time, downside, trust, ...  \n",
       "3  [vehicle, show, topic, couple, report, library...  \n",
       "4  [little_bit, clarity, racer, couple, training,...  \n",
       "5  [replace, capital, part, capital, possibility,...  \n",
       "6  [question, cash, thank, camera, question, know...  \n",
       "7  [meeting, guide, reserve, lender, space, want,...  \n",
       "8  [membership, link, piece, content, see, note, ...  \n",
       "9  [truck, question, chance, party, question, que...  "
      ]
     },
     "execution_count": 21,
     "metadata": {},
     "output_type": "execute_result"
    }
   ],
   "source": [
    "def format_topics_sentences(ldamodel=optimal_model, corpus=trans_TFIDF, texts=data_lemmatized):\n",
    "    # Init output\n",
    "    sent_topics_df = pd.DataFrame()\n",
    "\n",
    "    # Get main topic in each document\n",
    "    for i, row in enumerate(ldamodel[corpus]):\n",
    "        row = sorted(row, key=lambda x: (x[1]), reverse=True)\n",
    "        # Get the Dominant topic, Perc Contribution and Keywords for each document\n",
    "        for j, (topic_num, prop_topic) in enumerate(row):\n",
    "            if j == 0:  # => dominant topic\n",
    "                wp = ldamodel.show_topic(topic_num)\n",
    "                topic_keywords = \", \".join([word for word, prop in wp])\n",
    "                sent_topics_df = sent_topics_df.append(pd.Series([int(topic_num), round(prop_topic,4), topic_keywords]), ignore_index=True)\n",
    "            else:\n",
    "                break\n",
    "    sent_topics_df.columns = ['Dominant_Topic', 'Perc_Contribution', 'Topic_Keywords']\n",
    "\n",
    "    # Add original text to the end of the output\n",
    "    contents = pd.Series(texts)\n",
    "    sent_topics_df = pd.concat([sent_topics_df, contents], axis=1)\n",
    "    return(sent_topics_df)\n",
    "\n",
    "\n",
    "df_topic_sents_keywords = format_topics_sentences(ldamodel=optimal_model, corpus=trans_TFIDF, texts=data_lemmatized)\n",
    "\n",
    "# Format\n",
    "df_dominant_topic = df_topic_sents_keywords.reset_index()\n",
    "df_dominant_topic.columns = ['Document_No', 'Dominant_Topic', 'Topic_Perc_Contrib', 'Keywords', 'Text']\n",
    "\n",
    "# Show\n",
    "df_dominant_topic.head(10)"
   ]
  },
  {
   "cell_type": "code",
   "execution_count": 22,
   "id": "bb8d61ba",
   "metadata": {},
   "outputs": [],
   "source": [
    "df_dominant_topic.to_csv('topics_per_doc_cluster_0.csv')"
   ]
  },
  {
   "cell_type": "code",
   "execution_count": null,
   "id": "b28eddd2",
   "metadata": {},
   "outputs": [],
   "source": []
  }
 ],
 "metadata": {
  "kernelspec": {
   "display_name": "Python 3",
   "language": "python",
   "name": "python3"
  },
  "language_info": {
   "codemirror_mode": {
    "name": "ipython",
    "version": 3
   },
   "file_extension": ".py",
   "mimetype": "text/x-python",
   "name": "python",
   "nbconvert_exporter": "python",
   "pygments_lexer": "ipython3",
   "version": "3.7.4"
  }
 },
 "nbformat": 4,
 "nbformat_minor": 5
}
