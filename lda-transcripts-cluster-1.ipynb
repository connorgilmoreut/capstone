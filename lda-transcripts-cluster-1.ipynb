{
 "cells": [
  {
   "cell_type": "markdown",
   "id": "c7d82a0c",
   "metadata": {},
   "source": [
    "# LDA Topic Model \n",
    "\n",
    "This code is pulled from:\n",
    "* https://www.machinelearningplus.com/nlp/topic-modeling-gensim-python/\n",
    "* https://highdemandskills.com/topic-modeling-lda/"
   ]
  },
  {
   "cell_type": "markdown",
   "id": "c58eeb8e",
   "metadata": {},
   "source": [
    "## Import Libraries"
   ]
  },
  {
   "cell_type": "code",
   "execution_count": 1,
   "id": "7c659083",
   "metadata": {},
   "outputs": [],
   "source": [
    "import pandas as pd"
   ]
  },
  {
   "cell_type": "code",
   "execution_count": 2,
   "id": "fd0726c4",
   "metadata": {},
   "outputs": [
    {
     "name": "stderr",
     "output_type": "stream",
     "text": [
      "[nltk_data] Downloading package stopwords to\n",
      "[nltk_data]     /Users/connorgilmore/nltk_data...\n",
      "[nltk_data]   Package stopwords is already up-to-date!\n"
     ]
    },
    {
     "data": {
      "text/plain": [
       "True"
      ]
     },
     "execution_count": 2,
     "metadata": {},
     "output_type": "execute_result"
    }
   ],
   "source": [
    "import nltk\n",
    "nltk.download('stopwords')"
   ]
  },
  {
   "cell_type": "code",
   "execution_count": 3,
   "id": "290532b9",
   "metadata": {},
   "outputs": [
    {
     "name": "stderr",
     "output_type": "stream",
     "text": [
      "/Users/connorgilmore/opt/anaconda3/lib/python3.7/site-packages/past/builtins/misc.py:4: DeprecationWarning: Using or importing the ABCs from 'collections' instead of from 'collections.abc' is deprecated, and in 3.8 it will stop working\n",
      "  from collections import Mapping\n"
     ]
    }
   ],
   "source": [
    "import re\n",
    "import numpy as np\n",
    "import pandas as pd\n",
    "from pprint import pprint\n",
    "\n",
    "\n",
    "# Gensim\n",
    "import gensim\n",
    "import gensim.corpora as corpora\n",
    "from gensim.utils import simple_preprocess\n",
    "from gensim.models import CoherenceModel\n",
    "from gensim import models\n",
    "\n",
    "# spacy for lemmatization\n",
    "import spacy\n",
    "\n",
    "# Plotting tools\n",
    "import pyLDAvis\n",
    "#import pyLDAvis.gensim  # don't skip this\n",
    "import pyLDAvis.gensim_models as gensimvis\n",
    "import matplotlib.pyplot as plt\n",
    "%matplotlib inline\n",
    "\n",
    "# Enable logging for gensim - optional\n",
    "import logging\n",
    "logging.basicConfig(format='%(asctime)s : %(levelname)s : %(message)s', level=logging.ERROR)\n",
    "\n",
    "import warnings\n",
    "warnings.filterwarnings(\"ignore\",category=DeprecationWarning)"
   ]
  },
  {
   "cell_type": "code",
   "execution_count": 4,
   "id": "4314d4f2",
   "metadata": {},
   "outputs": [],
   "source": [
    "# NLTK Stop words\n",
    "from nltk.corpus import stopwords\n",
    "stop_words = stopwords.words('english')\n",
    "extended_stop_words = ['guys', 'syndicated', 'mentoring', 'syndicate', 'club', 'mentor', 'thing', 'people', 'really',\n",
    "                      'syndication', 'call', 'person', 'stuff']\n",
    "stop_words.extend(extended_stop_words)"
   ]
  },
  {
   "cell_type": "markdown",
   "id": "d2755cfe",
   "metadata": {},
   "source": [
    "## Import Data"
   ]
  },
  {
   "cell_type": "code",
   "execution_count": 5,
   "id": "bbacfcf5",
   "metadata": {},
   "outputs": [],
   "source": [
    "transcripts_df = pd.read_csv('documents_w_clusters.csv')"
   ]
  },
  {
   "cell_type": "code",
   "execution_count": 6,
   "id": "1930c1a1",
   "metadata": {},
   "outputs": [
    {
     "data": {
      "text/html": [
       "<div>\n",
       "<style scoped>\n",
       "    .dataframe tbody tr th:only-of-type {\n",
       "        vertical-align: middle;\n",
       "    }\n",
       "\n",
       "    .dataframe tbody tr th {\n",
       "        vertical-align: top;\n",
       "    }\n",
       "\n",
       "    .dataframe thead th {\n",
       "        text-align: right;\n",
       "    }\n",
       "</style>\n",
       "<table border=\"1\" class=\"dataframe\">\n",
       "  <thead>\n",
       "    <tr style=\"text-align: right;\">\n",
       "      <th></th>\n",
       "      <th>Unnamed: 0</th>\n",
       "      <th>Unnamed: 0.1</th>\n",
       "      <th>file_name</th>\n",
       "      <th>contents</th>\n",
       "      <th>cleaned</th>\n",
       "      <th>lemmatized</th>\n",
       "      <th>no_of_words</th>\n",
       "      <th>cluster</th>\n",
       "      <th>x0</th>\n",
       "      <th>x1</th>\n",
       "    </tr>\n",
       "  </thead>\n",
       "  <tbody>\n",
       "    <tr>\n",
       "      <th>0</th>\n",
       "      <td>0</td>\n",
       "      <td>0</td>\n",
       "      <td>[UPDATED] PC - February 2021 - Mastermind with...</td>\n",
       "      <td>other hand if he says, You give me 5% of every...</td>\n",
       "      <td>hand says give everything dont get credit basi...</td>\n",
       "      <td>hand say not credit basic bread s different st...</td>\n",
       "      <td>3475</td>\n",
       "      <td>1</td>\n",
       "      <td>0.406383</td>\n",
       "      <td>-0.028027</td>\n",
       "    </tr>\n",
       "    <tr>\n",
       "      <th>1</th>\n",
       "      <td>1</td>\n",
       "      <td>1</td>\n",
       "      <td>April 8, 2021 - Ask the Mentors Q_A Call on De...</td>\n",
       "      <td>JO\\n\\noften, it's 100%, smokescreen, nobody li...</td>\n",
       "      <td>jo often smokescreen nobody likes idea commitm...</td>\n",
       "      <td>jo smokescreen like idea commitment general wa...</td>\n",
       "      <td>4444</td>\n",
       "      <td>0</td>\n",
       "      <td>-0.050892</td>\n",
       "      <td>0.176329</td>\n",
       "    </tr>\n",
       "    <tr>\n",
       "      <th>2</th>\n",
       "      <td>2</td>\n",
       "      <td>2</td>\n",
       "      <td>April 14, 2021 - Ask the Mentors Q_A Call on C...</td>\n",
       "      <td>JO\\n\\nJO\\n\\nbelieve in that, and then develop ...</td>\n",
       "      <td>jo jo believe develop investing thesis based s...</td>\n",
       "      <td>jo jo believe develop invest thesis base scena...</td>\n",
       "      <td>4931</td>\n",
       "      <td>2</td>\n",
       "      <td>-0.150166</td>\n",
       "      <td>-0.132726</td>\n",
       "    </tr>\n",
       "    <tr>\n",
       "      <th>3</th>\n",
       "      <td>3</td>\n",
       "      <td>3</td>\n",
       "      <td>April 2021 - Ask the Mentors Q_A Call on Busin...</td>\n",
       "      <td>JO\\n\\nyour investor questionnaire. So you can ...</td>\n",
       "      <td>jo investor questionnaire one one sales call a...</td>\n",
       "      <td>jo investor questionnaire sale actually raise ...</td>\n",
       "      <td>4229</td>\n",
       "      <td>2</td>\n",
       "      <td>-0.251402</td>\n",
       "      <td>-0.079161</td>\n",
       "    </tr>\n",
       "    <tr>\n",
       "      <th>4</th>\n",
       "      <td>4</td>\n",
       "      <td>4</td>\n",
       "      <td>April 2021 - Ask the Mentors Q_A Call on Sales...</td>\n",
       "      <td>©) Craig Kamman_ 30:35\\n\\nJO\\n\\nyes. Okay. So ...</td>\n",
       "      <td>© craig kamman jo yes okay youre dealing party...</td>\n",
       "      <td>© craig kamman jo yes okay deal party know mea...</td>\n",
       "      <td>4475</td>\n",
       "      <td>2</td>\n",
       "      <td>-0.207295</td>\n",
       "      <td>-0.133082</td>\n",
       "    </tr>\n",
       "  </tbody>\n",
       "</table>\n",
       "</div>"
      ],
      "text/plain": [
       "   Unnamed: 0  Unnamed: 0.1  \\\n",
       "0           0             0   \n",
       "1           1             1   \n",
       "2           2             2   \n",
       "3           3             3   \n",
       "4           4             4   \n",
       "\n",
       "                                           file_name  \\\n",
       "0  [UPDATED] PC - February 2021 - Mastermind with...   \n",
       "1  April 8, 2021 - Ask the Mentors Q_A Call on De...   \n",
       "2  April 14, 2021 - Ask the Mentors Q_A Call on C...   \n",
       "3  April 2021 - Ask the Mentors Q_A Call on Busin...   \n",
       "4  April 2021 - Ask the Mentors Q_A Call on Sales...   \n",
       "\n",
       "                                            contents  \\\n",
       "0  other hand if he says, You give me 5% of every...   \n",
       "1  JO\\n\\noften, it's 100%, smokescreen, nobody li...   \n",
       "2  JO\\n\\nJO\\n\\nbelieve in that, and then develop ...   \n",
       "3  JO\\n\\nyour investor questionnaire. So you can ...   \n",
       "4  ©) Craig Kamman_ 30:35\\n\\nJO\\n\\nyes. Okay. So ...   \n",
       "\n",
       "                                             cleaned  \\\n",
       "0  hand says give everything dont get credit basi...   \n",
       "1  jo often smokescreen nobody likes idea commitm...   \n",
       "2  jo jo believe develop investing thesis based s...   \n",
       "3  jo investor questionnaire one one sales call a...   \n",
       "4  © craig kamman jo yes okay youre dealing party...   \n",
       "\n",
       "                                          lemmatized  no_of_words  cluster  \\\n",
       "0  hand say not credit basic bread s different st...         3475        1   \n",
       "1  jo smokescreen like idea commitment general wa...         4444        0   \n",
       "2  jo jo believe develop invest thesis base scena...         4931        2   \n",
       "3  jo investor questionnaire sale actually raise ...         4229        2   \n",
       "4  © craig kamman jo yes okay deal party know mea...         4475        2   \n",
       "\n",
       "         x0        x1  \n",
       "0  0.406383 -0.028027  \n",
       "1 -0.050892  0.176329  \n",
       "2 -0.150166 -0.132726  \n",
       "3 -0.251402 -0.079161  \n",
       "4 -0.207295 -0.133082  "
      ]
     },
     "execution_count": 6,
     "metadata": {},
     "output_type": "execute_result"
    }
   ],
   "source": [
    "transcripts_df.head()"
   ]
  },
  {
   "cell_type": "code",
   "execution_count": 7,
   "id": "c3dbd70e",
   "metadata": {},
   "outputs": [],
   "source": [
    "mask = (transcripts_df['cluster'] == 1)\n",
    "transcripts_df = pd.DataFrame(transcripts_df[mask])"
   ]
  },
  {
   "cell_type": "markdown",
   "id": "7f782384",
   "metadata": {},
   "source": [
    "## Data Prep"
   ]
  },
  {
   "cell_type": "code",
   "execution_count": 8,
   "id": "6b4f1ff7",
   "metadata": {},
   "outputs": [],
   "source": [
    "data = transcripts_df['contents']\n",
    "def sent_to_words(sentences):\n",
    "    for sentence in sentences:\n",
    "        yield(gensim.utils.simple_preprocess(str(sentence), deacc=True))  # deacc=True removes punctuations\n",
    "\n",
    "data_words = list(sent_to_words(data))"
   ]
  },
  {
   "cell_type": "code",
   "execution_count": 9,
   "id": "b734e34c",
   "metadata": {},
   "outputs": [],
   "source": [
    "# Build the bigram and trigram models\n",
    "bigram = gensim.models.Phrases(data_words, min_count=5, threshold=100) # higher threshold fewer phrases.\n",
    "trigram = gensim.models.Phrases(bigram[data_words], threshold=100)  \n",
    "\n",
    "# Faster way to get a sentence clubbed as a trigram/bigram\n",
    "bigram_mod = gensim.models.phrases.Phraser(bigram)\n",
    "trigram_mod = gensim.models.phrases.Phraser(trigram)"
   ]
  },
  {
   "cell_type": "code",
   "execution_count": 10,
   "id": "3528ab09",
   "metadata": {},
   "outputs": [],
   "source": [
    "def remove_stopwords(texts):\n",
    "    return [[word for word in simple_preprocess(str(doc)) if word not in stop_words] for doc in texts]\n",
    "\n",
    "def remove_extra_stopwords(texts):\n",
    "    new_outer_list = []\n",
    "    for l in texts:\n",
    "        inner_list = []\n",
    "        for word in l:\n",
    "            if (word not in extended_stop_words):\n",
    "                inner_list.append(word)\n",
    "        new_outer_list.append(inner_list)\n",
    "    return new_outer_list \n",
    "\n",
    "def make_bigrams(texts):\n",
    "    return [bigram_mod[doc] for doc in texts]\n",
    "\n",
    "def make_trigrams(texts):\n",
    "    return [trigram_mod[bigram_mod[doc]] for doc in texts]\n",
    "\n",
    "def lemmatization(texts, allowed_postags=['NOUN']):\n",
    "    \"\"\"https://spacy.io/api/annotation\"\"\"\n",
    "    texts_out = []\n",
    "    for sent in texts:\n",
    "        doc = nlp(\" \".join(sent)) \n",
    "        texts_out.append([token.lemma_ for token in doc if token.pos_ in allowed_postags])\n",
    "    return texts_out"
   ]
  },
  {
   "cell_type": "code",
   "execution_count": 11,
   "id": "d6a628f0",
   "metadata": {},
   "outputs": [],
   "source": [
    "# Remove Stop Words\n",
    "data_words_nostops = remove_stopwords(data_words)\n",
    "data_words_nostops = remove_extra_stopwords(data_words_nostops)\n",
    "\n",
    "# Form Bigrams\n",
    "data_words_bigrams = make_bigrams(data_words_nostops)\n",
    "\n",
    "# Initialize spacy 'en' model, keeping only tagger component (for efficiency)\n",
    "# python3 -m spacy download en\n",
    "#nlp = spacy.load('en', disable=['parser', 'ner'])\n",
    "nlp = spacy.load(\"en_core_web_sm\", disable=['parser', 'ner'])\n",
    "\n",
    "# Do lemmatization keeping only noun, adj, vb, adv\n",
    "data_lemmatized = lemmatization(data_words_bigrams, allowed_postags=['NOUN'])"
   ]
  },
  {
   "cell_type": "markdown",
   "id": "4acc1118",
   "metadata": {},
   "source": [
    "## LDA"
   ]
  },
  {
   "cell_type": "code",
   "execution_count": 12,
   "id": "9dfb1e83",
   "metadata": {},
   "outputs": [],
   "source": [
    "# Create Dictionary\n",
    "id2word = corpora.Dictionary(data_lemmatized)\n",
    "\n",
    "# Create Corpus\n",
    "texts = data_lemmatized\n",
    "\n",
    "# Term Document Frequency\n",
    "corpus = [id2word.doc2bow(text) for text in texts]"
   ]
  },
  {
   "cell_type": "code",
   "execution_count": 13,
   "id": "94811001",
   "metadata": {},
   "outputs": [],
   "source": [
    "TFIDF = models.TfidfModel(corpus) # Fit TF-IDF model\n",
    "trans_TFIDF = TFIDF[corpus]"
   ]
  },
  {
   "cell_type": "code",
   "execution_count": 14,
   "id": "47b26db1",
   "metadata": {},
   "outputs": [],
   "source": [
    "def compute_coherence_values(dictionary, corpus, texts, limit, start=2, step=3):\n",
    "    \"\"\"\n",
    "    Compute c_v coherence for various number of topics\n",
    "\n",
    "    Parameters:\n",
    "    ----------\n",
    "    dictionary : Gensim dictionary\n",
    "    corpus : Gensim corpus\n",
    "    texts : List of input texts\n",
    "    limit : Max num of topics\n",
    "\n",
    "    Returns:\n",
    "    -------\n",
    "    model_list : List of LDA topic models\n",
    "    coherence_values : Coherence values corresponding to the LDA model with respective number of topics\n",
    "    \"\"\"\n",
    "    coherence_values = []\n",
    "    model_list = []\n",
    "    i = start \n",
    "    for num_topics in range(start, limit, step):\n",
    "        #model = gensim.models.wrappers.LdaMallet(mallet_path, corpus=corpus, num_topics=num_topics, id2word=id2word)\n",
    "        model = lda_model = gensim.models.ldamodel.LdaModel(corpus=corpus, id2word=id2word, num_topics=num_topics)\n",
    "        model_list.append(model)\n",
    "        coherencemodel = CoherenceModel(model=model, texts=texts, dictionary=dictionary, coherence='c_v')\n",
    "        coherence_values.append(coherencemodel.get_coherence())\n",
    "        print('Model ', i , ' Completed')\n",
    "        i += 1\n",
    "\n",
    "    return model_list, coherence_values"
   ]
  },
  {
   "cell_type": "code",
   "execution_count": 15,
   "id": "401c57d3",
   "metadata": {},
   "outputs": [
    {
     "name": "stdout",
     "output_type": "stream",
     "text": [
      "Model  5  Completed\n",
      "Model  6  Completed\n",
      "Model  7  Completed\n",
      "Model  8  Completed\n",
      "Model  9  Completed\n",
      "Model  10  Completed\n",
      "Model  11  Completed\n",
      "Model  12  Completed\n",
      "Model  13  Completed\n",
      "Model  14  Completed\n",
      "Model  15  Completed\n",
      "Model  16  Completed\n",
      "Model  17  Completed\n",
      "Model  18  Completed\n",
      "Model  19  Completed\n"
     ]
    }
   ],
   "source": [
    "model_list, coherence_values = compute_coherence_values(dictionary=id2word, corpus=trans_TFIDF, texts=data_lemmatized, \n",
    "                                                        start=5, limit=20, step=1)"
   ]
  },
  {
   "cell_type": "markdown",
   "id": "dfbefeac",
   "metadata": {},
   "source": [
    "## Visualize Performance Metrics"
   ]
  },
  {
   "cell_type": "code",
   "execution_count": 16,
   "id": "42c38fe0",
   "metadata": {},
   "outputs": [
    {
     "data": {
      "image/png": "[encoded data removed]",
      "text/plain": [
       "<Figure size 432x288 with 1 Axes>"
      ]
     },
     "metadata": {
      "needs_background": "light"
     },
     "output_type": "display_data"
    }
   ],
   "source": [
    "limit=20; start=5; step=1;\n",
    "x = range(start, limit, step)\n",
    "plt.plot(x, coherence_values)\n",
    "plt.xlabel(\"Num Topics\")\n",
    "plt.ylabel(\"Coherence score\")\n",
    "plt.legend((\"coherence_values\"), loc='best')\n",
    "plt.show()"
   ]
  },
  {
   "cell_type": "code",
   "execution_count": 17,
   "id": "017b5c3e",
   "metadata": {},
   "outputs": [
    {
     "name": "stdout",
     "output_type": "stream",
     "text": [
      "Num Topics = 5  has Coherence Value of 0.4505\n",
      "Num Topics = 6  has Coherence Value of 0.4292\n",
      "Num Topics = 7  has Coherence Value of 0.3747\n",
      "Num Topics = 8  has Coherence Value of 0.4133\n",
      "Num Topics = 9  has Coherence Value of 0.3929\n",
      "Num Topics = 10  has Coherence Value of 0.3988\n",
      "Num Topics = 11  has Coherence Value of 0.4075\n",
      "Num Topics = 12  has Coherence Value of 0.3735\n",
      "Num Topics = 13  has Coherence Value of 0.3936\n",
      "Num Topics = 14  has Coherence Value of 0.3777\n",
      "Num Topics = 15  has Coherence Value of 0.3393\n",
      "Num Topics = 16  has Coherence Value of 0.3804\n",
      "Num Topics = 17  has Coherence Value of 0.437\n",
      "Num Topics = 18  has Coherence Value of 0.3681\n",
      "Num Topics = 19  has Coherence Value of 0.4114\n"
     ]
    }
   ],
   "source": [
    "for m, cv in zip(x, coherence_values):\n",
    "    print(\"Num Topics =\", m, \" has Coherence Value of\", round(cv, 4))"
   ]
  },
  {
   "cell_type": "markdown",
   "id": "cfe41d1a",
   "metadata": {},
   "source": [
    "Optimal Model"
   ]
  },
  {
   "cell_type": "code",
   "execution_count": 18,
   "id": "096c1f6a",
   "metadata": {},
   "outputs": [
    {
     "name": "stdout",
     "output_type": "stream",
     "text": [
      "[(0,\n",
      "  '0.001*\"restaurant\" + 0.001*\"borrower\" + 0.001*\"contingency\" + 0.001*\"bank\" '\n",
      "  '+ 0.001*\"moratorium\" + 0.001*\"attention\" + 0.001*\"election\" + '\n",
      "  '0.001*\"beverage\" + 0.001*\"lawsuit\" + 0.001*\"retire\" + 0.001*\"partnership\" + '\n",
      "  '0.001*\"seller\" + 0.001*\"agent\" + 0.001*\"loan\" + 0.001*\"intent\" + '\n",
      "  '0.001*\"control\" + 0.001*\"personnel\" + 0.001*\"dictatorship\" + '\n",
      "  '0.001*\"settlement\" + 0.001*\"deposit\" + 0.001*\"spec\" + 0.001*\"lease\" + '\n",
      "  '0.001*\"partner\" + 0.000*\"option\" + 0.000*\"bidder\" + 0.000*\"threat\" + '\n",
      "  '0.000*\"task\" + 0.000*\"unit\" + 0.000*\"design\" + 0.000*\"block\"'),\n",
      " (1,\n",
      "  '0.001*\"franchise\" + 0.001*\"store\" + 0.001*\"sub\" + 0.001*\"brother\" + '\n",
      "  '0.001*\"tenant\" + 0.001*\"golf_course\" + 0.001*\"seller\" + 0.001*\"rent\" + '\n",
      "  '0.001*\"wholesaler\" + 0.001*\"heritage\" + 0.001*\"merchandise\" + 0.001*\"lease\" '\n",
      "  '+ 0.001*\"credit\" + 0.001*\"simulator\" + 0.001*\"barn\" + 0.001*\"election\" + '\n",
      "  '0.001*\"deposit\" + 0.001*\"landlord\" + 0.001*\"storage\" + 0.001*\"wood\" + '\n",
      "  '0.001*\"restaurant\" + 0.001*\"bid\" + 0.001*\"boat\" + 0.001*\"space\" + '\n",
      "  '0.001*\"employee\" + 0.001*\"density\" + 0.001*\"parent\" + 0.001*\"warehouse\" + '\n",
      "  '0.001*\"penalty\" + 0.000*\"appraisal\"'),\n",
      " (2,\n",
      "  '0.001*\"contamination\" + 0.001*\"sub\" + 0.001*\"credit\" + 0.001*\"architect\" + '\n",
      "  '0.001*\"hotel\" + 0.001*\"audit\" + 0.001*\"ground_lease\" + 0.001*\"language\" + '\n",
      "  '0.001*\"soil\" + 0.001*\"record\" + 0.001*\"partnership\" + 0.001*\"lumber\" + '\n",
      "  '0.001*\"parking\" + 0.001*\"liability\" + 0.001*\"exposure\" + 0.001*\"liquidity\" '\n",
      "  '+ 0.001*\"culture\" + 0.000*\"supplier\" + 0.000*\"transition\" + '\n",
      "  '0.000*\"commitment\" + 0.000*\"lender\" + 0.000*\"acre\" + 0.000*\"concession\" + '\n",
      "  '0.000*\"appraisal\" + 0.000*\"management\" + 0.000*\"lifestyle\" + 0.000*\"rent\" + '\n",
      "  '0.000*\"tenant\" + 0.000*\"contingency\" + 0.000*\"material\"'),\n",
      " (3,\n",
      "  '0.001*\"hotel\" + 0.001*\"stress\" + 0.001*\"tank\" + 0.001*\"lien\" + '\n",
      "  '0.001*\"depreciation\" + 0.001*\"sponsor\" + 0.001*\"equity\" + 0.001*\"title\" + '\n",
      "  '0.000*\"road\" + 0.000*\"organization\" + 0.000*\"phase\" + 0.000*\"loan\" + '\n",
      "  '0.000*\"attendee\" + 0.000*\"stock\" + 0.000*\"human_nature\" + 0.000*\"tourist\" + '\n",
      "  '0.000*\"entrepreneur\" + 0.000*\"performance\" + 0.000*\"deposition\" + '\n",
      "  '0.000*\"panel\" + 0.000*\"backstop\" + 0.000*\"bank\" + 0.000*\"investor\" + '\n",
      "  '0.000*\"email\" + 0.000*\"employee\" + 0.000*\"unit\" + 0.000*\"extrovert\" + '\n",
      "  '0.000*\"reservoir\" + 0.000*\"relationship\" + 0.000*\"resort\"'),\n",
      " (4,\n",
      "  '0.001*\"tariff\" + 0.001*\"student\" + 0.001*\"imbalance\" + 0.001*\"hotel\" + '\n",
      "  '0.001*\"subsidiary\" + 0.001*\"convention\" + 0.001*\"virus\" + 0.001*\"entity\" + '\n",
      "  '0.001*\"parent\" + 0.001*\"library\" + 0.001*\"crisis\" + 0.001*\"seller\" + '\n",
      "  '0.001*\"panic\" + 0.001*\"sub\" + 0.001*\"waiver\" + 0.001*\"team\" + '\n",
      "  '0.001*\"reserve\" + 0.001*\"bond\" + 0.001*\"disease\" + '\n",
      "  '0.001*\"mastermind_successful\" + 0.001*\"restriction\" + 0.001*\"partnership\" + '\n",
      "  '0.001*\"partner\" + 0.001*\"loan\" + 0.001*\"payment\" + 0.001*\"title\" + '\n",
      "  '0.001*\"system\" + 0.001*\"equity\" + 0.001*\"chinese_good\" + 0.001*\"expertise\"')]\n"
     ]
    }
   ],
   "source": [
    "optimal_model = model_list[0]\n",
    "model_topics = optimal_model.show_topics(formatted=False)\n",
    "pprint(optimal_model.print_topics(num_words=30))"
   ]
  },
  {
   "cell_type": "markdown",
   "id": "52932ccb",
   "metadata": {},
   "source": [
    "### Topics Per Document"
   ]
  },
  {
   "cell_type": "code",
   "execution_count": 19,
   "id": "39cf8594",
   "metadata": {},
   "outputs": [
    {
     "data": {
      "text/html": [
       "<div>\n",
       "<style scoped>\n",
       "    .dataframe tbody tr th:only-of-type {\n",
       "        vertical-align: middle;\n",
       "    }\n",
       "\n",
       "    .dataframe tbody tr th {\n",
       "        vertical-align: top;\n",
       "    }\n",
       "\n",
       "    .dataframe thead th {\n",
       "        text-align: right;\n",
       "    }\n",
       "</style>\n",
       "<table border=\"1\" class=\"dataframe\">\n",
       "  <thead>\n",
       "    <tr style=\"text-align: right;\">\n",
       "      <th></th>\n",
       "      <th>Document_No</th>\n",
       "      <th>Dominant_Topic</th>\n",
       "      <th>Topic_Perc_Contrib</th>\n",
       "      <th>Keywords</th>\n",
       "      <th>Text</th>\n",
       "    </tr>\n",
       "  </thead>\n",
       "  <tbody>\n",
       "    <tr>\n",
       "      <th>0</th>\n",
       "      <td>0</td>\n",
       "      <td>1.0</td>\n",
       "      <td>0.9460</td>\n",
       "      <td>franchise, store, sub, brother, tenant, golf_c...</td>\n",
       "      <td>[credit, bread, story, yeo, week, month, eveni...</td>\n",
       "    </tr>\n",
       "    <tr>\n",
       "      <th>1</th>\n",
       "      <td>1</td>\n",
       "      <td>0.0</td>\n",
       "      <td>0.9479</td>\n",
       "      <td>restaurant, borrower, contingency, bank, morat...</td>\n",
       "      <td>[contingency, contingency, contingency, analys...</td>\n",
       "    </tr>\n",
       "    <tr>\n",
       "      <th>2</th>\n",
       "      <td>2</td>\n",
       "      <td>0.0</td>\n",
       "      <td>0.9537</td>\n",
       "      <td>restaurant, borrower, contingency, bank, morat...</td>\n",
       "      <td>[tool, halt, deal, table, couple, day, good, t...</td>\n",
       "    </tr>\n",
       "    <tr>\n",
       "      <th>3</th>\n",
       "      <td>3</td>\n",
       "      <td>1.0</td>\n",
       "      <td>0.9312</td>\n",
       "      <td>franchise, store, sub, brother, tenant, golf_c...</td>\n",
       "      <td>[specialty, franchise, franchise, agreement, c...</td>\n",
       "    </tr>\n",
       "    <tr>\n",
       "      <th>4</th>\n",
       "      <td>4</td>\n",
       "      <td>2.0</td>\n",
       "      <td>0.9472</td>\n",
       "      <td>contamination, sub, credit, architect, hotel, ...</td>\n",
       "      <td>[condo, parking, parking, view, way, amenity, ...</td>\n",
       "    </tr>\n",
       "    <tr>\n",
       "      <th>5</th>\n",
       "      <td>5</td>\n",
       "      <td>4.0</td>\n",
       "      <td>0.7139</td>\n",
       "      <td>tariff, student, imbalance, hotel, subsidiary,...</td>\n",
       "      <td>[framework, lot, run, degree, reward, way, mon...</td>\n",
       "    </tr>\n",
       "    <tr>\n",
       "      <th>6</th>\n",
       "      <td>6</td>\n",
       "      <td>2.0</td>\n",
       "      <td>0.9486</td>\n",
       "      <td>contamination, sub, credit, architect, hotel, ...</td>\n",
       "      <td>[deal, give, time, put, deadline, deal, meet, ...</td>\n",
       "    </tr>\n",
       "    <tr>\n",
       "      <th>7</th>\n",
       "      <td>7</td>\n",
       "      <td>0.0</td>\n",
       "      <td>0.9454</td>\n",
       "      <td>restaurant, borrower, contingency, bank, morat...</td>\n",
       "      <td>[shoe, closing, document, document, conflict, ...</td>\n",
       "    </tr>\n",
       "    <tr>\n",
       "      <th>8</th>\n",
       "      <td>8</td>\n",
       "      <td>0.0</td>\n",
       "      <td>0.9530</td>\n",
       "      <td>restaurant, borrower, contingency, bank, morat...</td>\n",
       "      <td>[pocket, go, shape, fact, moratorium, building...</td>\n",
       "    </tr>\n",
       "    <tr>\n",
       "      <th>9</th>\n",
       "      <td>9</td>\n",
       "      <td>0.0</td>\n",
       "      <td>0.9349</td>\n",
       "      <td>restaurant, borrower, contingency, bank, morat...</td>\n",
       "      <td>[pathway, work, lot, sense, work, case, point,...</td>\n",
       "    </tr>\n",
       "  </tbody>\n",
       "</table>\n",
       "</div>"
      ],
      "text/plain": [
       "   Document_No  Dominant_Topic  Topic_Perc_Contrib  \\\n",
       "0            0             1.0              0.9460   \n",
       "1            1             0.0              0.9479   \n",
       "2            2             0.0              0.9537   \n",
       "3            3             1.0              0.9312   \n",
       "4            4             2.0              0.9472   \n",
       "5            5             4.0              0.7139   \n",
       "6            6             2.0              0.9486   \n",
       "7            7             0.0              0.9454   \n",
       "8            8             0.0              0.9530   \n",
       "9            9             0.0              0.9349   \n",
       "\n",
       "                                            Keywords  \\\n",
       "0  franchise, store, sub, brother, tenant, golf_c...   \n",
       "1  restaurant, borrower, contingency, bank, morat...   \n",
       "2  restaurant, borrower, contingency, bank, morat...   \n",
       "3  franchise, store, sub, brother, tenant, golf_c...   \n",
       "4  contamination, sub, credit, architect, hotel, ...   \n",
       "5  tariff, student, imbalance, hotel, subsidiary,...   \n",
       "6  contamination, sub, credit, architect, hotel, ...   \n",
       "7  restaurant, borrower, contingency, bank, morat...   \n",
       "8  restaurant, borrower, contingency, bank, morat...   \n",
       "9  restaurant, borrower, contingency, bank, morat...   \n",
       "\n",
       "                                                Text  \n",
       "0  [credit, bread, story, yeo, week, month, eveni...  \n",
       "1  [contingency, contingency, contingency, analys...  \n",
       "2  [tool, halt, deal, table, couple, day, good, t...  \n",
       "3  [specialty, franchise, franchise, agreement, c...  \n",
       "4  [condo, parking, parking, view, way, amenity, ...  \n",
       "5  [framework, lot, run, degree, reward, way, mon...  \n",
       "6  [deal, give, time, put, deadline, deal, meet, ...  \n",
       "7  [shoe, closing, document, document, conflict, ...  \n",
       "8  [pocket, go, shape, fact, moratorium, building...  \n",
       "9  [pathway, work, lot, sense, work, case, point,...  "
      ]
     },
     "execution_count": 19,
     "metadata": {},
     "output_type": "execute_result"
    }
   ],
   "source": [
    "def format_topics_sentences(ldamodel=optimal_model, corpus=trans_TFIDF, texts=data_lemmatized):\n",
    "    # Init output\n",
    "    sent_topics_df = pd.DataFrame()\n",
    "\n",
    "    # Get main topic in each document\n",
    "    for i, row in enumerate(ldamodel[corpus]):\n",
    "        row = sorted(row, key=lambda x: (x[1]), reverse=True)\n",
    "        # Get the Dominant topic, Perc Contribution and Keywords for each document\n",
    "        for j, (topic_num, prop_topic) in enumerate(row):\n",
    "            if j == 0:  # => dominant topic\n",
    "                wp = ldamodel.show_topic(topic_num)\n",
    "                topic_keywords = \", \".join([word for word, prop in wp])\n",
    "                sent_topics_df = sent_topics_df.append(pd.Series([int(topic_num), round(prop_topic,4), topic_keywords]), ignore_index=True)\n",
    "            else:\n",
    "                break\n",
    "    sent_topics_df.columns = ['Dominant_Topic', 'Perc_Contribution', 'Topic_Keywords']\n",
    "\n",
    "    # Add original text to the end of the output\n",
    "    contents = pd.Series(texts)\n",
    "    sent_topics_df = pd.concat([sent_topics_df, contents], axis=1)\n",
    "    return(sent_topics_df)\n",
    "\n",
    "\n",
    "df_topic_sents_keywords = format_topics_sentences(ldamodel=optimal_model, corpus=trans_TFIDF, texts=data_lemmatized)\n",
    "\n",
    "# Format\n",
    "df_dominant_topic = df_topic_sents_keywords.reset_index()\n",
    "df_dominant_topic.columns = ['Document_No', 'Dominant_Topic', 'Topic_Perc_Contrib', 'Keywords', 'Text']\n",
    "\n",
    "# Show\n",
    "df_dominant_topic.head(10)"
   ]
  },
  {
   "cell_type": "code",
   "execution_count": 20,
   "id": "6de9ca2e",
   "metadata": {},
   "outputs": [],
   "source": [
    "df_dominant_topic.to_csv('topics_per_doc_cluster_1.csv')"
   ]
  },
  {
   "cell_type": "code",
   "execution_count": null,
   "id": "a3528e11",
   "metadata": {},
   "outputs": [],
   "source": []
  }
 ],
 "metadata": {
  "kernelspec": {
   "display_name": "Python 3",
   "language": "python",
   "name": "python3"
  },
  "language_info": {
   "codemirror_mode": {
    "name": "ipython",
    "version": 3
   },
   "file_extension": ".py",
   "mimetype": "text/x-python",
   "name": "python",
   "nbconvert_exporter": "python",
   "pygments_lexer": "ipython3",
   "version": "3.7.4"
  }
 },
 "nbformat": 4,
 "nbformat_minor": 5
}
